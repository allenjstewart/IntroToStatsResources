{
 "cells": [
  {
   "cell_type": "markdown",
   "metadata": {},
   "source": [
    "# Probability\n",
    "\n",
    "We are back to using R. However, if you feel more comfortable using Python notebooks and magics feel free to do that. \n",
    "\n",
    "In this lab we will be using R to calculate probabilities. Most of this is fairly straightforward "
   ]
  },
  {
   "cell_type": "markdown",
   "metadata": {},
   "source": [
    "Before we do anything, we will need to load some libraries. "
   ]
  },
  {
   "cell_type": "code",
   "execution_count": 2,
   "metadata": {},
   "outputs": [],
   "source": [
    "library(tidyverse)\n",
    "library(Lahman)\n",
    "library(mosaicData)"
   ]
  },
  {
   "cell_type": "markdown",
   "metadata": {},
   "source": [
    "## Probabilities in R\n",
    "\n",
    "We have been calculating probabilities in R throughout the term. We have done this by using the `p[dist]` commands where `[dist]` is some probability distribution. For instance, if we wanted to calculate the probability of $X>1$ where $X$ is a random variable with standard normal distribution then we would use `pnorm(1,lower.tail=FALSE)`"
   ]
  },
  {
   "cell_type": "code",
   "execution_count": 3,
   "metadata": {},
   "outputs": [
    {
     "data": {
      "text/html": [
       "0.158655253931457"
      ],
      "text/latex": [
       "0.158655253931457"
      ],
      "text/markdown": [
       "0.158655253931457"
      ],
      "text/plain": [
       "[1] 0.1586553"
      ]
     },
     "metadata": {},
     "output_type": "display_data"
    }
   ],
   "source": [
    "pnorm(1,lower.tail=FALSE)"
   ]
  },
  {
   "cell_type": "markdown",
   "metadata": {},
   "source": [
    "This calculation tells us that there is a 15.87% chance of $X>1$ in standard normal distribution. We can do something similar with discrete distributions. For instance if we wanted to calculate the probability that at most 4 out of 10 elements of a group are \"off\" when the probability of being \"off\" in the total population is 80% we would use the binomial distribution. More specifically we would use `pbinom(4,10,.8)`"
   ]
  },
  {
   "cell_type": "code",
   "execution_count": 10,
   "metadata": {},
   "outputs": [
    {
     "data": {
      "text/html": [
       "0.0063693824"
      ],
      "text/latex": [
       "0.0063693824"
      ],
      "text/markdown": [
       "0.0063693824"
      ],
      "text/plain": [
       "[1] 0.006369382"
      ]
     },
     "metadata": {},
     "output_type": "display_data"
    }
   ],
   "source": [
    "pbinom(4,10,.8)"
   ]
  },
  {
   "cell_type": "markdown",
   "metadata": {},
   "source": [
    "This tells us that there is a 0.637% chance of at most 4 out of 10 elements being \"off\""
   ]
  },
  {
   "cell_type": "markdown",
   "metadata": {},
   "source": [
    "### Differences between Discrete and Continuous Distributions in R\n",
    "\n",
    "As we have noted previously there are four functions for each probability distribution in R. If `[DIST]` is one of the distribution suffixes below \n",
    "\n",
    "- Continuous\n",
    "    - `norm` : A normal distibutrion\n",
    "    - `exp` : An exponential distribution\n",
    "    - `lnorm` : A log-normal distribution\n",
    "    - `weibull` : A Weibull distribution\n",
    "- Discrete\n",
    "    - `unif` : A uniform distribution\n",
    "    - `pois` : A Poisson distribution\n",
    "    - `binom` : A binomial distribution\n",
    "    \n",
    "then there are four functions associated to `[DIST]`. Each distribution has its own `parameters` that must be included in the function. For instance, if `[DIST]` is `norm` then the parameters are `mean` and `sd`. When these are not included R defaults to the standard normal distribution with `mean=0` and `sd=1`. \n",
    "\n",
    "The four function have different behaviour depending on whether `[DIST]` is continuous or discrete.\n",
    "\n",
    "- Continuous\n",
    "    - `d[DIST](x,parameters)` \n",
    "        - The value of the probability density function at $x$, $f(x)$\n",
    "        - This value doesn't have a lot specific uses and we will rarely use it in applications\n",
    "    - `p[DIST](x,parameters)` \n",
    "        - The proportion of values underneath the distribution with $X\\le x$, where $X$ is the random variable. \n",
    "        - Since this is a continuous distribution, $P(X\\le x)=P(X < x)$.\n",
    "        - If we wanted to calculate $P(X>x)$ then we would use `p[DIST](x,parameters,lower.tail=FALSE)`\n",
    "    - `q[DIST](q,parameters)`\n",
    "        - The value $x$ for which $P(X \\le x)=q$. \n",
    "        - Since this is a continuous distribution, $q=P(X\\le x)=P(X < x)$.\n",
    "        - This function is used to calculate percentiles. \n",
    "        - Again if we wanted to calculate the value of $q$ for which $P(X>x)$ then we would use `q[DIST](q,parameters,lower.tail=FALSE)`\n",
    "    - `r[DIST](n,parameters)`\n",
    "        - Returns a list of $n$ values distributed according to `[DIST]`\n",
    "\n",
    "- Discrete\n",
    "    - `d[DIST](x,parameters)`\n",
    "        - The value of the probability function at $x$, $f(x)$\n",
    "        - Since `[DIST]` is a discrete distribution, the value of $f(x)$ is equal to $P(X=x)$.\n",
    "        - We use this function when we want to calculate the probability of a singular value according to a discrete distribution,\n",
    "    - `p[DIST](x,parameters)`\n",
    "        - The proportion of values underneath the distribution with $X\\le x$, where $X$ is the random variable. \n",
    "        - Since this is a discrete distribution, $P(X\\le x)=P(X < x+1)$.\n",
    "        - If we wanted to calculate $P(X>x)$ then we would use `p[DIST](x,parameters,lower.tail=FALSE)`\n",
    "        - If we wanted to calculate $P(X\\ge x)$ then we would use `p[DIST](x-1,parameters,lower.tail=FALSE)`\n",
    "    - `q[DIST](q,parameters)`\n",
    "        - The value $x$ for which $P(X \\le x)=q$. \n",
    "        - Since this is a continuous distribution, $q=P(X\\le x)=P(X < x+1)$.\n",
    "        - This function is used to calculate percentiles. \n",
    "        - If we wanted to calculate the value of $q$ for which $P(X>x)$ then we would use `q[DIST](q,parameters,lower.tail=FALSE)`\n",
    "    - `r[DIST](n,parameters)`\n",
    "        - Returns a list of $n$ values distributed according to `[DIST]`"
   ]
  },
  {
   "cell_type": "markdown",
   "metadata": {},
   "source": [
    "Let's verify what the `d[DIST]` and `p[DIST]` functions do with the exponential and binomial distributions. I am using these distributions because we can verify most of our answers by hand. \n",
    "\n",
    "We'll use the following parameters\n",
    "\n",
    "- Exponential\n",
    "    - `rate=1`\n",
    "- Binomial\n",
    "    - `size=10`\n",
    "    - `prob=0.5`"
   ]
  },
  {
   "cell_type": "markdown",
   "metadata": {},
   "source": [
    "The function `d[DIST]` is the value of the probability density or probability function. For the exponential distribution we have\n",
    "\n",
    "$$\n",
    "f_{exp}(x)=\\begin{cases}\n",
    "\\lambda e^{-\\lambda x} &\\quad x\\ge 0\\\\\n",
    "0 & \\text{otherwise}\n",
    "\\end{cases}\n",
    "$$\n",
    "\n",
    "where $\\lambda$ is `rate` (in our example $\\lambda=1$). For the binomial we have \n",
    "\n",
    "$$\n",
    "f_{binom}(x)=\\frac{n!\\pi^x(1-\\pi)^{n-x}}{x!(n-x)!} \\qquad \\text{for }x=1,2,\\ldots,n\n",
    "$$\n",
    "\n",
    "where $n$ is `size` and $\\pi$ is `prob`. Let's calculate these functions when $x=2$ using the parameters we used above. \n",
    "\n",
    "$$\n",
    "f_{exp}(2)= 1\\cdot e^{-1\\cdot 2}=e^{-2}\\approx 0.13534\n",
    "$$\n",
    "\n",
    "and \n",
    "\n",
    "$$\n",
    "f_{binom}(2)=\\frac{10!(.5)^2(1-.5)^{10-2}}{2!(10-2)!}=\\frac{10! (.5)^2(.5)^8}{2!8!}=\\frac{10\\cdot 9(.5)^{10}}{2}\\approx 0.0439\n",
    "$$"
   ]
  },
  {
   "cell_type": "markdown",
   "metadata": {},
   "source": [
    "And now let's use R to calculate these numbers. In this case we will use the `d[DIST]` function. We should get the same answers."
   ]
  },
  {
   "cell_type": "markdown",
   "metadata": {},
   "source": [
    "Exponential-"
   ]
  },
  {
   "cell_type": "code",
   "execution_count": 17,
   "metadata": {},
   "outputs": [
    {
     "data": {
      "text/html": [
       "0.135335283236613"
      ],
      "text/latex": [
       "0.135335283236613"
      ],
      "text/markdown": [
       "0.135335283236613"
      ],
      "text/plain": [
       "[1] 0.1353353"
      ]
     },
     "metadata": {},
     "output_type": "display_data"
    }
   ],
   "source": [
    "dexp(2,1)"
   ]
  },
  {
   "cell_type": "markdown",
   "metadata": {},
   "source": [
    "Binomial-"
   ]
  },
  {
   "cell_type": "code",
   "execution_count": 18,
   "metadata": {},
   "outputs": [
    {
     "data": {
      "text/html": [
       "0.0439453125"
      ],
      "text/latex": [
       "0.0439453125"
      ],
      "text/markdown": [
       "0.0439453125"
      ],
      "text/plain": [
       "[1] 0.04394531"
      ]
     },
     "metadata": {},
     "output_type": "display_data"
    }
   ],
   "source": [
    "dbinom(2,10,.5)"
   ]
  },
  {
   "cell_type": "markdown",
   "metadata": {},
   "source": [
    "The function `p[DIST]` is the proportion of values distributed less than a specific value. This is another way of saying the probability, $P(X\\le x)$. For a general continuous distribution we have \n",
    "\n",
    "$$\n",
    "P(X\\le x)=\\int_{-\\infty}^{x}f(t)\\ dt\n",
    "$$\n",
    "\n",
    "For the exponential distribution for $x>0$ we have\n",
    "\n",
    "$$\n",
    "P(X\\le x)=\\int_{0}^{x}\\lambda e^{-\\lambda t}\\ dt\n",
    "$$\n",
    "\n",
    "We can solve this integral abstractly to get the Cumulative Density Function or CDF. The CDF function is defined as $\\text{CDF}(x)=P(X\\le x)$\n",
    "\n",
    "$$\n",
    "P(X\\le x)=\\int_{0}^{x}\\lambda e^{-\\lambda t}\\ dt=-e^{-\\lambda t}|_{0}^{x}=1-e^{-\\lambda x}\n",
    "$$\n",
    "\n",
    "For a general discrete distribution we have \n",
    "\n",
    "$$\n",
    "P(X\\le x)=\\sum_{n\\le x} f(n)\n",
    "$$\n",
    "\n",
    "Solving this summation is can be quite difficult, but in some cases it is possible. \n",
    "\n",
    "\n",
    "Let's calculate the probabilities  $P(X\\le 2)$ for our example functions using the parameters we used above. \n",
    "\n",
    "$$\n",
    "P_{exp}(X\\le 2)= \\int_{0}^{2}\\lambda e^{-\\lambda t}\\ dt=-e^{-\\lambda t}|_{0}^{2}=1-e^{-\\lambda 2}\\approx 0.865\n",
    "$$\n",
    "\n",
    "and \n",
    "\n",
    "$$\n",
    "\\begin{array}{rl}\n",
    "P_{binom}(X\\le 2)&=\\sum_{n=0}^{2}\\frac{n!\\pi^x(1-\\pi)^{n-x}}{x!(n-x)!}\\\\\n",
    "&=\\frac{10!(.5)^0(1-.5)^{10-0}}{0!(10-0)!}+\\frac{10!(.5)^1(1-.5)^{10-1}}{1!(10-1)!}+\\frac{10!(.5)^2(1-.5)^{10-2}}{2!(10-2)!}\\\\\n",
    "&=(.5)^{10}+10(.5)^1(.5)^9+ 45(.5)^{10}\\\\\n",
    "&\\approx 0.0547\n",
    "\\end{array}\n",
    "$$"
   ]
  },
  {
   "cell_type": "markdown",
   "metadata": {},
   "source": [
    "And now let's use R to calculate these probabilites. In this case we would use the `p[DIST]` function. "
   ]
  },
  {
   "cell_type": "markdown",
   "metadata": {},
   "source": [
    "Exponential -"
   ]
  },
  {
   "cell_type": "code",
   "execution_count": 19,
   "metadata": {},
   "outputs": [
    {
     "data": {
      "text/html": [
       "0.864664716763387"
      ],
      "text/latex": [
       "0.864664716763387"
      ],
      "text/markdown": [
       "0.864664716763387"
      ],
      "text/plain": [
       "[1] 0.8646647"
      ]
     },
     "metadata": {},
     "output_type": "display_data"
    }
   ],
   "source": [
    "pexp(2,1)"
   ]
  },
  {
   "cell_type": "markdown",
   "metadata": {},
   "source": [
    "Binomial-"
   ]
  },
  {
   "cell_type": "code",
   "execution_count": 20,
   "metadata": {},
   "outputs": [
    {
     "data": {
      "text/html": [
       "0.0546875"
      ],
      "text/latex": [
       "0.0546875"
      ],
      "text/markdown": [
       "0.0546875"
      ],
      "text/plain": [
       "[1] 0.0546875"
      ]
     },
     "metadata": {},
     "output_type": "display_data"
    }
   ],
   "source": [
    "pbinom(2,10,.5)"
   ]
  },
  {
   "cell_type": "markdown",
   "metadata": {},
   "source": [
    "## Applications of Probability\n",
    "\n",
    "So we can see that R can be used to calculate probabilities and values for abstract distribution functions, but what about applying these concepts to the real world. Well we can still do this, but it will involve working a bit more with data. \n",
    "\n",
    "### Calculating the Chance of a Hit\n",
    "\n",
    "One of the problems on our labs was to calculate the probability that Albert Pujols would get a hit if he was at bat 3 times. The fact that we are talking about an \"on/off\" type of event (in this case hit/no hit) during a limit set (in this case 3 times at bat) suggests that we should use the binomial distribution. \n",
    "\n",
    "In order to use the binomial distribution we have to calculate the overall probability of getting a hit. To do this we need to consider all the times Pujols got a hit when at bat.\n",
    "\n",
    "The first thing we will do is filter the `Batting` data set to only include information about Albert Pujols. Normally we would have to look up his player id, but I know that his player id is `pujolal01`"
   ]
  },
  {
   "cell_type": "code",
   "execution_count": 28,
   "metadata": {},
   "outputs": [],
   "source": [
    "pujols <- filter(Batting,playerID==\"pujolal01\")"
   ]
  },
  {
   "cell_type": "markdown",
   "metadata": {},
   "source": [
    "Now we just divide the total of hit by the number of at bats."
   ]
  },
  {
   "cell_type": "code",
   "execution_count": 30,
   "metadata": {},
   "outputs": [
    {
     "data": {
      "text/html": [
       "0.299616356320764"
      ],
      "text/latex": [
       "0.299616356320764"
      ],
      "text/markdown": [
       "0.299616356320764"
      ],
      "text/plain": [
       "[1] 0.2996164"
      ]
     },
     "metadata": {},
     "output_type": "display_data"
    }
   ],
   "source": [
    "hits <- sum(pujols$H)\n",
    "at_bats<-sum(pujols$AB)\n",
    "prob<-hits/at_bats\n",
    "prob"
   ]
  },
  {
   "cell_type": "markdown",
   "metadata": {},
   "source": [
    "Thus, Albert Pujols has an overall probability of 29.961% of getting a hit when at bat. Now in order to get a hit when at bat three times, he could get 1 hit, 2 hits, or 3 hits, Thus we are looking to calculate an upper tail probability. In fact we are looking for the complement of getting no hits or `1-pbinom(0,3,prob)`"
   ]
  },
  {
   "cell_type": "code",
   "execution_count": 31,
   "metadata": {},
   "outputs": [
    {
     "data": {
      "text/html": [
       "0.656435734651864"
      ],
      "text/latex": [
       "0.656435734651864"
      ],
      "text/markdown": [
       "0.656435734651864"
      ],
      "text/plain": [
       "[1] 0.6564357"
      ]
     },
     "metadata": {},
     "output_type": "display_data"
    }
   ],
   "source": [
    "1-pbinom(0,3,prob)"
   ]
  },
  {
   "cell_type": "markdown",
   "metadata": {},
   "source": [
    "Thus if Albert Pujols is at bat 3 times he has a 65.64% chance of getting at least one hit."
   ]
  },
  {
   "cell_type": "markdown",
   "metadata": {},
   "source": [
    "## Contingency Tables\n",
    "\n",
    "Another thing that we can do in R is create contingency tables. By creating contingency tables we can easily calculate conditional probabilities\n",
    "\n",
    "### Current Population Survey\n",
    "The Current Population Survey (CPS) is used to supplement census information between census years. The `CPS85` dataset consists of a random sample of persons from the 1985 Current Population Survey, with information on wages and other characteristics of the workers, including sex, number of years of education, years of work experience, occupational status, region of residence and union membership. This dataset is included in the `mosaicData` library so you will need to be sure to load this library if you want to work with this data.\n",
    "\n",
    "Let's take a look at what is in this dataset"
   ]
  },
  {
   "cell_type": "code",
   "execution_count": 33,
   "metadata": {},
   "outputs": [
    {
     "name": "stdout",
     "output_type": "stream",
     "text": [
      "'data.frame':\t534 obs. of  11 variables:\n",
      " $ wage    : num  9 5.5 3.8 10.5 15 9 9.57 15 11 5 ...\n",
      " $ educ    : int  10 12 12 12 12 16 12 14 8 12 ...\n",
      " $ race    : Factor w/ 2 levels \"NW\",\"W\": 2 2 2 2 2 2 2 2 2 2 ...\n",
      " $ sex     : Factor w/ 2 levels \"F\",\"M\": 2 2 1 1 2 1 1 2 2 1 ...\n",
      " $ hispanic: Factor w/ 2 levels \"Hisp\",\"NH\": 2 2 2 2 2 2 2 2 2 2 ...\n",
      " $ south   : Factor w/ 2 levels \"NS\",\"S\": 1 1 1 1 1 1 1 1 1 1 ...\n",
      " $ married : Factor w/ 2 levels \"Married\",\"Single\": 1 1 2 1 1 1 1 2 1 1 ...\n",
      " $ exper   : int  27 20 4 29 40 27 5 22 42 14 ...\n",
      " $ union   : Factor w/ 2 levels \"Not\",\"Union\": 1 1 1 1 2 1 2 1 1 1 ...\n",
      " $ age     : int  43 38 22 47 58 49 23 42 56 32 ...\n",
      " $ sector  : Factor w/ 8 levels \"clerical\",\"const\",..: 2 7 7 1 2 1 8 7 4 7 ...\n"
     ]
    }
   ],
   "source": [
    "str(CPS85)"
   ]
  },
  {
   "cell_type": "markdown",
   "metadata": {},
   "source": [
    "Let's figure out whether sex is independent of completing high school. *Please forgive the binary nature of the data. It was 1985. Although creating appropriate categories that accurately represent a population is an important factor in population demographics.* Ideally when implementing the survey there would be more categories that would accurately capture the demographics of the population. Since we are unable to change the data that was collected I will use the terms in the data, *female* and *male*, but acknowledge that the terms would probably be more accurately referred to as *assigned female at birth* and *assigned male at birth*.\n",
    "\n",
    "\n",
    "### Creating a Contigency Table\n",
    "\n",
    "First we gather numbers that would form our contingency table. In this case we want have a category for whether a person completed high school. The `educ` variable is an int which describes the highest grade completed. So if a person graduated highschool they would have `educ>=12`.\n",
    "\n",
    "To create a table of the joint frequency of these numbers we can just use the `table` command"
   ]
  },
  {
   "cell_type": "code",
   "execution_count": 38,
   "metadata": {},
   "outputs": [
    {
     "data": {
      "text/plain": [
       "   \n",
       "      2   3   4   5   6   7   8   9  10  11  12  13  14  15  16  17  18\n",
       "  F   0   0   0   0   2   1   9   5   5  11 110  16  23   6  34  14   9\n",
       "  M   1   1   1   1   1   4   6   7  12  16 109  21  33   7  37  10  22"
      ]
     },
     "metadata": {},
     "output_type": "display_data"
    }
   ],
   "source": [
    "table(CPS85$sex,CPS85$educ)"
   ]
  },
  {
   "cell_type": "markdown",
   "metadata": {},
   "source": [
    "If we wanted the probabilities then insert this table into the `prop.table` command"
   ]
  },
  {
   "cell_type": "code",
   "execution_count": 39,
   "metadata": {},
   "outputs": [
    {
     "data": {
      "text/plain": [
       "   \n",
       "              2           3           4           5           6           7\n",
       "  F 0.000000000 0.000000000 0.000000000 0.000000000 0.003745318 0.001872659\n",
       "  M 0.001872659 0.001872659 0.001872659 0.001872659 0.001872659 0.007490637\n",
       "   \n",
       "              8           9          10          11          12          13\n",
       "  F 0.016853933 0.009363296 0.009363296 0.020599251 0.205992509 0.029962547\n",
       "  M 0.011235955 0.013108614 0.022471910 0.029962547 0.204119850 0.039325843\n",
       "   \n",
       "             14          15          16          17          18\n",
       "  F 0.043071161 0.011235955 0.063670412 0.026217228 0.016853933\n",
       "  M 0.061797753 0.013108614 0.069288390 0.018726592 0.041198502"
      ]
     },
     "metadata": {},
     "output_type": "display_data"
    }
   ],
   "source": [
    "table(CPS85$sex,CPS85$educ)%>% prop.table()"
   ]
  },
  {
   "cell_type": "markdown",
   "metadata": {},
   "source": [
    "Now we have a lot more information than we need because we have a breakdown according to highest degree awarded. What we want is whether or not the individual graduated high school. To do this we will need to `mutate` the data set to create a `highschool` column"
   ]
  },
  {
   "cell_type": "code",
   "execution_count": 49,
   "metadata": {},
   "outputs": [],
   "source": [
    "CPS <- CPS85 %>%\n",
    "  mutate(\n",
    "    highschool = cut(educ,\n",
    "      breaks = c(0, 11, 18),\n",
    "      labels = c(\"no\", \"yes\")\n",
    ") )"
   ]
  },
  {
   "cell_type": "code",
   "execution_count": 50,
   "metadata": {},
   "outputs": [
    {
     "data": {
      "text/plain": [
       "   \n",
       "     no yes\n",
       "  F  33 212\n",
       "  M  50 239"
      ]
     },
     "metadata": {},
     "output_type": "display_data"
    }
   ],
   "source": [
    "table(CPS$sex,CPS$highschool)"
   ]
  },
  {
   "cell_type": "markdown",
   "metadata": {},
   "source": [
    "Now we have our contignecy table according to the frequencies, but let's get the probabilities. "
   ]
  },
  {
   "cell_type": "code",
   "execution_count": 52,
   "metadata": {},
   "outputs": [
    {
     "data": {
      "text/plain": [
       "   \n",
       "            no        yes\n",
       "  F 0.06179775 0.39700375\n",
       "  M 0.09363296 0.44756554"
      ]
     },
     "metadata": {},
     "output_type": "display_data"
    }
   ],
   "source": [
    "educ_cont_table <- table(CPS$sex,CPS$highschool)%>% prop.table()\n",
    "educ_cont_table"
   ]
  },
  {
   "cell_type": "markdown",
   "metadata": {},
   "source": [
    "Now we can calulate the conditional probabilities "
   ]
  },
  {
   "cell_type": "markdown",
   "metadata": {},
   "source": [
    "$$\n",
    "P(\\text{ High School Graduate } | \\text{ Female })=\\frac{P(\\text{ High School Graduate and Female })}{P(\\text{ Female })}\n",
    "$$"
   ]
  },
  {
   "cell_type": "code",
   "execution_count": 85,
   "metadata": {},
   "outputs": [
    {
     "data": {
      "text/html": [
       "0.86530612244898"
      ],
      "text/latex": [
       "0.86530612244898"
      ],
      "text/markdown": [
       "0.86530612244898"
      ],
      "text/plain": [
       "[1] 0.8653061"
      ]
     },
     "metadata": {},
     "output_type": "display_data"
    }
   ],
   "source": [
    "grad_given_F <- educ_cont_table[1,2]/(educ_cont_table[1,1]+educ_cont_table[1,2])\n",
    "grad_given_F"
   ]
  },
  {
   "cell_type": "markdown",
   "metadata": {},
   "source": [
    "Thus there is an 86.53% chance that a person would graduate high school in 1985 given that they were female. "
   ]
  },
  {
   "cell_type": "markdown",
   "metadata": {},
   "source": [
    "$$\n",
    "P(\\text{ Female } | \\text{ High School Graduate })=\\frac{P(\\text{ High School Graduate and Female })}{P(\\text{ High School Graduate })}\n",
    "$$"
   ]
  },
  {
   "cell_type": "code",
   "execution_count": 86,
   "metadata": {},
   "outputs": [
    {
     "data": {
      "text/html": [
       "0.470066518847007"
      ],
      "text/latex": [
       "0.470066518847007"
      ],
      "text/markdown": [
       "0.470066518847007"
      ],
      "text/plain": [
       "[1] 0.4700665"
      ]
     },
     "metadata": {},
     "output_type": "display_data"
    }
   ],
   "source": [
    "F_given_grad <- educ_cont_table[1,2]/(educ_cont_table[1,2]+educ_cont_table[2,2])\n",
    "F_given_grad"
   ]
  },
  {
   "cell_type": "markdown",
   "metadata": {},
   "source": [
    "Thus there is an 47.01% chance that a person is female given that they were a high school graduate in 1985. "
   ]
  },
  {
   "cell_type": "markdown",
   "metadata": {},
   "source": [
    "If female and graduating high school are independent then \n",
    "\n",
    "$$\n",
    "P(\\text{ High School Graduate and Female })=P(\\text{ High School Graduate} )P(\\text{ Female })\n",
    "$$\n"
   ]
  },
  {
   "cell_type": "code",
   "execution_count": 84,
   "metadata": {},
   "outputs": [
    {
     "data": {
      "text/html": [
       "0.397003745318352"
      ],
      "text/latex": [
       "0.397003745318352"
      ],
      "text/markdown": [
       "0.397003745318352"
      ],
      "text/plain": [
       "[1] 0.3970037"
      ]
     },
     "metadata": {},
     "output_type": "display_data"
    }
   ],
   "source": [
    "educ_cont_table[1,2]"
   ]
  },
  {
   "cell_type": "code",
   "execution_count": 113,
   "metadata": {},
   "outputs": [
    {
     "data": {
      "text/html": [
       "0.387489654785451"
      ],
      "text/latex": [
       "0.387489654785451"
      ],
      "text/markdown": [
       "0.387489654785451"
      ],
      "text/plain": [
       "[1] 0.3874897"
      ]
     },
     "metadata": {},
     "output_type": "display_data"
    }
   ],
   "source": [
    "female<-educ_cont_table[1,1]+educ_cont_table[1,2]\n",
    "highschool<-educ_cont_table[1,2]+educ_cont_table[2,2]\n",
    "female*highschool"
   ]
  },
  {
   "cell_type": "markdown",
   "metadata": {},
   "source": [
    "These numbers appear to be close but not equal. If we were working with the population then we could conclude that graduating high school and being female isn't indepdent within the population, but the Current Population survey is only a sample. This is where we would need to formulate a test for independence.\n"
   ]
  },
  {
   "cell_type": "markdown",
   "metadata": {},
   "source": [
    "### Chi-Square Test For Independence\n",
    "\n",
    "One such test for independence between variables is called the chi-square test. The idea of this test is to first assume that the two variables are independent. Then we calculate the probability that we would see the specific data the we have given that the two variables are independent. This probability is called the *p-value* for the test. If this probability is low (normally less than 5%), then it is unlikely that we would see the data if the variables were independent. Thus we could say with a certain confidence that the variables are **not** independent. This is one version of a hypothesis test, which we will be learning more about later on.\n",
    "\n",
    "Now how do we calculate this p-value. For each type of hypothesis test there is a different way to calculate the p-value. Here we will go over how to do it in the case of the chi-square test.\n",
    "\n",
    "#### Calculating the p-value\n",
    "\n",
    "The Chi-square test of independence works by comparing the observed counts to the expected counts. Therefore, our task is to derive the expected table containing the expected counts from the observed table. The expected table is what we expect the contignecy table to look like if the two categorical variables are independent. From probability theory, we know that two events are said to be independent if their joint probability is equal to the product of their conditional probabilities. We use this fact to construct a new contingency table with our expected counts. \n",
    "\n",
    "Once we have this new table we calculate\n",
    "\n",
    "$$\n",
    "\\chi^2=\\sum\\frac{(\\text{observed count}-\\text{expected count})^2}{\\text{expected count}}\n",
    "$$\n",
    "\n",
    "We would then use a chi-square distribution table to find the p-value from this number. Luckily, R will do this whole process for us relatively easily."
   ]
  },
  {
   "cell_type": "code",
   "execution_count": 100,
   "metadata": {},
   "outputs": [
    {
     "data": {
      "text/plain": [
       "\n",
       "\tPearson's Chi-squared test with Yates' continuity correction\n",
       "\n",
       "data:  CPS$sex and CPS$highschool\n",
       "X-squared = 1.2054, df = 1, p-value = 0.2722\n"
      ]
     },
     "metadata": {},
     "output_type": "display_data"
    }
   ],
   "source": [
    "chisq.test(CPS$sex,CPS$highschool)"
   ]
  },
  {
   "cell_type": "markdown",
   "metadata": {},
   "source": [
    "Here we have that $\\chi^2=1.2054$ and our p-value is $0.2722$. Since our p-value is not small (again, less than 5%) we can't say for certain whether these two variables are independent or not. A p-value higher than 5% doesn't support our assumption that the variables are independent it only prevents us from negating this assumption. We still can't say for certain."
   ]
  }
 ],
 "metadata": {
  "kernelspec": {
   "display_name": "R",
   "language": "R",
   "name": "ir"
  },
  "language_info": {
   "codemirror_mode": "r",
   "file_extension": ".r",
   "mimetype": "text/x-r-source",
   "name": "R",
   "pygments_lexer": "r",
   "version": "4.0.3"
  }
 },
 "nbformat": 4,
 "nbformat_minor": 4
}
