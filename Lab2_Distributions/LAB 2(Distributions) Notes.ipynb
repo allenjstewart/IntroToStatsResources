{
 "cells": [
  {
   "cell_type": "markdown",
   "metadata": {},
   "source": [
    "# Distributions\n",
    "\n",
    "In this lab we will see how we can make use of the preinstalled distribution functions in R. However, before we get too deep into this I wanted to preface some of the work we will be doing. \n",
    "\n",
    "There is one important principle of statistics that will come up in a few of these exercises, that we will be examining in greater depth later in the quarter. That is the concept of **hypothesis testing**. In many situations, we may be interested in testing whether some assumption is in fact correct for our data. We go about this by seeing what the probability would be, if our assumption were correct, of seeing a result at least as far away from what we would expect as what was observed in our data. If this probability is low (the general rule being if it is below 5%), that tells us that we would no have expected our data to have occurred if our assumption were correct, and and therefore the most likely explanation is that our assumption is incorrect. If the probability is not low (above 5%), then our data is not inconsistent with our assumption, and, while we cannot say for certain that our assumption is correct, we can at least say that there is no evidence it is wrong.\n",
    "\n",
    "For example, suppose you are flipping a coin 10 times. Our starting assumption is that the coin is fair, that is, that the probability of heads is 0.50. Now suppose we only get heads one time out of the ten flips. The chance of seeing one or fewer heads is about 0.011. That means it would be very unusual to see so few heads if the coin were fair, and so we conclude that our assumption of a fair coin appears to be incorrect, and the probability of heads is likely actually something less than 0.50. If, on the other hand, we got heads three times, the chance of seeing three or fewer heads is about .172. This means it would not be that unusual, given our assumption, and so we would not see any reason to question our assumption -- there is no evidence the coin is unfair. For these types of questions, our answer will always be one of these two types -- either stating that our assumed value seems reasonable given the data, or stating that we would question our assumption, and conclude the value must actually be different in some way."
   ]
  },
  {
   "cell_type": "markdown",
   "metadata": {},
   "source": [
    "## Loading Packages\n",
    "\n",
    "First thing is to load packages. The most important package that we will continue to load every time is the `tidyverse`. The core `tidyverse` includes the packages that you're likely to use in every day data analyses. You should already have the `tidyverse` installed in your workspace from the previous lab."
   ]
  },
  {
   "cell_type": "code",
   "execution_count": 149,
   "metadata": {},
   "outputs": [],
   "source": [
    "library(tidyverse)"
   ]
  },
  {
   "cell_type": "markdown",
   "metadata": {},
   "source": [
    "## Review of Useful Functions\n",
    "\n",
    "We will be making use of some of the functionality of R that we have encountered in previous labs. It is important that `tidyverse` is loaded for both `read_csv` and `filter` functions.\n",
    "\n",
    "### read_csv\n",
    "\n",
    "To upload data from a csv into your R workspace use the `read_csv()` function. First, not the `PATH` for the csv file and then use read_csv(\"FILE PATH\"). Be sure to save the output as something. This will create what is called a tibble of the data.\n",
    "\n",
    "As an example, I have data about Washington state employees (source: http://fiscal.wa.gov/salaries.aspx) in a file named `AnnualEmployeeSalary.csv` located in the same folder as this ipynb file. Therefore the `PATH` I want is `AnnualEmployeeSalary.csv`"
   ]
  },
  {
   "cell_type": "code",
   "execution_count": 20,
   "metadata": {},
   "outputs": [
    {
     "name": "stderr",
     "output_type": "stream",
     "text": [
      "\n",
      "\u001b[36m──\u001b[39m \u001b[1m\u001b[1mColumn specification\u001b[1m\u001b[22m \u001b[36m────────────────────────────────────────────────────────\u001b[39m\n",
      "cols(\n",
      "  Agy = \u001b[31mcol_character()\u001b[39m,\n",
      "  AgyTitle = \u001b[31mcol_character()\u001b[39m,\n",
      "  Name = \u001b[31mcol_character()\u001b[39m,\n",
      "  JobTitle = \u001b[31mcol_character()\u001b[39m,\n",
      "  Sal2015 = \u001b[32mcol_number()\u001b[39m,\n",
      "  Sal2016 = \u001b[32mcol_number()\u001b[39m,\n",
      "  Sal2017 = \u001b[32mcol_number()\u001b[39m,\n",
      "  Sal2018 = \u001b[32mcol_number()\u001b[39m,\n",
      "  Sal2019 = \u001b[32mcol_number()\u001b[39m\n",
      ")\n",
      "\n",
      "\n"
     ]
    }
   ],
   "source": [
    "wa_employee_salary <- read_csv(\"AnnualEmployeeSalary.csv\")"
   ]
  },
  {
   "cell_type": "markdown",
   "metadata": {},
   "source": [
    "I have another data set with top 100 grossing movies of all time (source: https://www.boxofficemojo.com/chart/top_lifetime_gross/). However this data is not kept in the same folder as this ipynb file and so I will need to use the absolute path rather than just the file name to upload this file into my R workspace."
   ]
  },
  {
   "cell_type": "code",
   "execution_count": 135,
   "metadata": {},
   "outputs": [
    {
     "name": "stderr",
     "output_type": "stream",
     "text": [
      "Warning message:\n",
      "“Missing column names filled in: 'X1' [1]”\n",
      "\n",
      "\u001b[36m──\u001b[39m \u001b[1m\u001b[1mColumn specification\u001b[1m\u001b[22m \u001b[36m────────────────────────────────────────────────────────\u001b[39m\n",
      "cols(\n",
      "  X1 = \u001b[32mcol_double()\u001b[39m,\n",
      "  Rank = \u001b[32mcol_double()\u001b[39m,\n",
      "  Title = \u001b[31mcol_character()\u001b[39m,\n",
      "  `Lifetime Gross` = \u001b[31mcol_character()\u001b[39m,\n",
      "  Year = \u001b[32mcol_double()\u001b[39m\n",
      ")\n",
      "\n",
      "\n"
     ]
    }
   ],
   "source": [
    "PATH <- \"/Users/stewaral/TopMovies.csv\" \n",
    "top_100_movies <- read_csv(PATH)"
   ]
  },
  {
   "cell_type": "markdown",
   "metadata": {},
   "source": [
    "**BEWARE** Windows and Mac operating systems use different file structures and so depending on which machine you are using paths will be different. I am currently working on a Mac and so the `PATH` to my file is `/Users/Stewaral/TopMovies.csv`. However is I was on Windows it would be `C:\\Users\\stewaral\\TopMovies.csv`"
   ]
  },
  {
   "cell_type": "markdown",
   "metadata": {},
   "source": [
    "Finally, we can even pull csv files straight from the internet. The City of Seattle has an open data site, https://data.seattle.gov, where they publish lots of data about the city. You can find information about the wages of employees there at https://data.seattle.gov/City-Business/City-of-Seattle-Wage-Data/2khk-5ukd. Using the download link for csv we can upload this data right into R."
   ]
  },
  {
   "cell_type": "code",
   "execution_count": 150,
   "metadata": {},
   "outputs": [
    {
     "name": "stderr",
     "output_type": "stream",
     "text": [
      "\n",
      "\u001b[36m──\u001b[39m \u001b[1m\u001b[1mColumn specification\u001b[1m\u001b[22m \u001b[36m────────────────────────────────────────────────────────\u001b[39m\n",
      "cols(\n",
      "  Department = \u001b[31mcol_character()\u001b[39m,\n",
      "  `Last Name` = \u001b[31mcol_character()\u001b[39m,\n",
      "  `First Name` = \u001b[31mcol_character()\u001b[39m,\n",
      "  `Job Title` = \u001b[31mcol_character()\u001b[39m,\n",
      "  `Hourly Rate` = \u001b[32mcol_double()\u001b[39m\n",
      ")\n",
      "\n",
      "\n"
     ]
    }
   ],
   "source": [
    "seattle_wage_2020 <- read_csv(\"https://data.seattle.gov/api/views/2khk-5ukd/rows.csv?accessType=DOWNLOAD\")"
   ]
  },
  {
   "cell_type": "markdown",
   "metadata": {},
   "source": [
    "### filter\n",
    "\n",
    "The `fiter()` function is another very useful function. There are two `filter()` functions; one associated with `base-r` and one associated with `tidyverse`. I will always be referring to the one from `tidyverse`. As long as you load `tidyverse` via `library(tidyverse)` into your R workspace you should have a problem. Let's look at some examples."
   ]
  },
  {
   "cell_type": "markdown",
   "metadata": {},
   "source": [
    "#### University of Washington Full Professor Who Received Largest Raise between 2018 and 2019\n",
    "\n",
    "In order to find the the UW full professor who received the largest raise, we first need to filter the data to only include UW employees and full professors. We also need to make sure that the professor worked there in both 2018 and 2019. This would mean that their salary for both years would not be 0."
   ]
  },
  {
   "cell_type": "code",
   "execution_count": 151,
   "metadata": {},
   "outputs": [],
   "source": [
    "uw_full_professors <- filter(wa_employee_salary, \n",
    "                             AgyTitle == \"University of Washington\",\n",
    "                             JobTitle==\"PROFESSOR\",\n",
    "                             Sal2018>0,\n",
    "                             Sal2019>0\n",
    "                            )"
   ]
  },
  {
   "cell_type": "markdown",
   "metadata": {},
   "source": [
    "Now we add a column associated to the raise and percent raise."
   ]
  },
  {
   "cell_type": "code",
   "execution_count": 153,
   "metadata": {},
   "outputs": [],
   "source": [
    "raise = uw_full_professors$Sal2019-uw_full_professors$Sal2018\n",
    "percent_raise = raise/uw_full_professors$Sal2018\n",
    "uw_full_professors <- add_column(uw_full_professors,\n",
    "                                 Raise=raise,\n",
    "                                 PercentRaise=percent_raise\n",
    "                                )"
   ]
  },
  {
   "cell_type": "markdown",
   "metadata": {},
   "source": [
    "Now we can use the `slice_max` function to pull out the observations associated to the maximums of `Raise` and `PercentRaise`"
   ]
  },
  {
   "cell_type": "code",
   "execution_count": 70,
   "metadata": {},
   "outputs": [
    {
     "data": {
      "text/html": [
       "<table>\n",
       "<caption>A spec_tbl_df: 1 × 11</caption>\n",
       "<thead>\n",
       "\t<tr><th scope=col>Agy</th><th scope=col>AgyTitle</th><th scope=col>Name</th><th scope=col>JobTitle</th><th scope=col>Sal2015</th><th scope=col>Sal2016</th><th scope=col>Sal2017</th><th scope=col>Sal2018</th><th scope=col>Sal2019</th><th scope=col>Raise</th><th scope=col>PercentRaise</th></tr>\n",
       "\t<tr><th scope=col>&lt;chr&gt;</th><th scope=col>&lt;chr&gt;</th><th scope=col>&lt;chr&gt;</th><th scope=col>&lt;chr&gt;</th><th scope=col>&lt;dbl&gt;</th><th scope=col>&lt;dbl&gt;</th><th scope=col>&lt;dbl&gt;</th><th scope=col>&lt;dbl&gt;</th><th scope=col>&lt;dbl&gt;</th><th scope=col>&lt;dbl&gt;</th><th scope=col>&lt;dbl&gt;</th></tr>\n",
       "</thead>\n",
       "<tbody>\n",
       "\t<tr><td>360</td><td>University of Washington</td><td>GE, WEILI</td><td>PROFESSOR</td><td>0</td><td>0</td><td>0</td><td>107000</td><td>378000</td><td>271000</td><td>2.53271</td></tr>\n",
       "</tbody>\n",
       "</table>\n"
      ],
      "text/latex": [
       "A spec\\_tbl\\_df: 1 × 11\n",
       "\\begin{tabular}{lllllllllll}\n",
       " Agy & AgyTitle & Name & JobTitle & Sal2015 & Sal2016 & Sal2017 & Sal2018 & Sal2019 & Raise & PercentRaise\\\\\n",
       " <chr> & <chr> & <chr> & <chr> & <dbl> & <dbl> & <dbl> & <dbl> & <dbl> & <dbl> & <dbl>\\\\\n",
       "\\hline\n",
       "\t 360 & University of Washington & GE, WEILI & PROFESSOR & 0 & 0 & 0 & 107000 & 378000 & 271000 & 2.53271\\\\\n",
       "\\end{tabular}\n"
      ],
      "text/markdown": [
       "\n",
       "A spec_tbl_df: 1 × 11\n",
       "\n",
       "| Agy &lt;chr&gt; | AgyTitle &lt;chr&gt; | Name &lt;chr&gt; | JobTitle &lt;chr&gt; | Sal2015 &lt;dbl&gt; | Sal2016 &lt;dbl&gt; | Sal2017 &lt;dbl&gt; | Sal2018 &lt;dbl&gt; | Sal2019 &lt;dbl&gt; | Raise &lt;dbl&gt; | PercentRaise &lt;dbl&gt; |\n",
       "|---|---|---|---|---|---|---|---|---|---|---|\n",
       "| 360 | University of Washington | GE, WEILI | PROFESSOR | 0 | 0 | 0 | 107000 | 378000 | 271000 | 2.53271 |\n",
       "\n"
      ],
      "text/plain": [
       "  Agy AgyTitle                 Name      JobTitle  Sal2015 Sal2016 Sal2017\n",
       "1 360 University of Washington GE, WEILI PROFESSOR 0       0       0      \n",
       "  Sal2018 Sal2019 Raise  PercentRaise\n",
       "1 107000  378000  271000 2.53271     "
      ]
     },
     "metadata": {},
     "output_type": "display_data"
    },
    {
     "data": {
      "text/html": [
       "<table>\n",
       "<caption>A spec_tbl_df: 1 × 11</caption>\n",
       "<thead>\n",
       "\t<tr><th scope=col>Agy</th><th scope=col>AgyTitle</th><th scope=col>Name</th><th scope=col>JobTitle</th><th scope=col>Sal2015</th><th scope=col>Sal2016</th><th scope=col>Sal2017</th><th scope=col>Sal2018</th><th scope=col>Sal2019</th><th scope=col>Raise</th><th scope=col>PercentRaise</th></tr>\n",
       "\t<tr><th scope=col>&lt;chr&gt;</th><th scope=col>&lt;chr&gt;</th><th scope=col>&lt;chr&gt;</th><th scope=col>&lt;chr&gt;</th><th scope=col>&lt;dbl&gt;</th><th scope=col>&lt;dbl&gt;</th><th scope=col>&lt;dbl&gt;</th><th scope=col>&lt;dbl&gt;</th><th scope=col>&lt;dbl&gt;</th><th scope=col>&lt;dbl&gt;</th><th scope=col>&lt;dbl&gt;</th></tr>\n",
       "</thead>\n",
       "<tbody>\n",
       "\t<tr><td>360</td><td>University of Washington</td><td>CARRINGTON, EMILY</td><td>PROFESSOR</td><td>124400</td><td>16500</td><td>5700</td><td>5800</td><td>128000</td><td>122200</td><td>21.06897</td></tr>\n",
       "</tbody>\n",
       "</table>\n"
      ],
      "text/latex": [
       "A spec\\_tbl\\_df: 1 × 11\n",
       "\\begin{tabular}{lllllllllll}\n",
       " Agy & AgyTitle & Name & JobTitle & Sal2015 & Sal2016 & Sal2017 & Sal2018 & Sal2019 & Raise & PercentRaise\\\\\n",
       " <chr> & <chr> & <chr> & <chr> & <dbl> & <dbl> & <dbl> & <dbl> & <dbl> & <dbl> & <dbl>\\\\\n",
       "\\hline\n",
       "\t 360 & University of Washington & CARRINGTON, EMILY & PROFESSOR & 124400 & 16500 & 5700 & 5800 & 128000 & 122200 & 21.06897\\\\\n",
       "\\end{tabular}\n"
      ],
      "text/markdown": [
       "\n",
       "A spec_tbl_df: 1 × 11\n",
       "\n",
       "| Agy &lt;chr&gt; | AgyTitle &lt;chr&gt; | Name &lt;chr&gt; | JobTitle &lt;chr&gt; | Sal2015 &lt;dbl&gt; | Sal2016 &lt;dbl&gt; | Sal2017 &lt;dbl&gt; | Sal2018 &lt;dbl&gt; | Sal2019 &lt;dbl&gt; | Raise &lt;dbl&gt; | PercentRaise &lt;dbl&gt; |\n",
       "|---|---|---|---|---|---|---|---|---|---|---|\n",
       "| 360 | University of Washington | CARRINGTON, EMILY | PROFESSOR | 124400 | 16500 | 5700 | 5800 | 128000 | 122200 | 21.06897 |\n",
       "\n"
      ],
      "text/plain": [
       "  Agy AgyTitle                 Name              JobTitle  Sal2015 Sal2016\n",
       "1 360 University of Washington CARRINGTON, EMILY PROFESSOR 124400  16500  \n",
       "  Sal2017 Sal2018 Sal2019 Raise  PercentRaise\n",
       "1 5700    5800    128000  122200 21.06897    "
      ]
     },
     "metadata": {},
     "output_type": "display_data"
    }
   ],
   "source": [
    "slice_max(uw_full_professors,Raise)\n",
    "slice_max(uw_full_professors,PercentRaise)"
   ]
  },
  {
   "cell_type": "markdown",
   "metadata": {},
   "source": [
    "Dr. Weili Ge is a professor of accounting and Dr. Emily Carrington is a biology professor. Given Dr. Carrington's low salary from 2016-2019, I venture to guess the she was on sabbatical. Saying that she got a 2106% raise is probably not quite an accurate statement. A more accurate maximum for percent raise would be Dr. Noah Smith in the CSE department.  "
   ]
  },
  {
   "cell_type": "code",
   "execution_count": 72,
   "metadata": {},
   "outputs": [
    {
     "data": {
      "text/html": [
       "<table>\n",
       "<caption>A tibble: 6 × 11</caption>\n",
       "<thead>\n",
       "\t<tr><th scope=col>Agy</th><th scope=col>AgyTitle</th><th scope=col>Name</th><th scope=col>JobTitle</th><th scope=col>Sal2015</th><th scope=col>Sal2016</th><th scope=col>Sal2017</th><th scope=col>Sal2018</th><th scope=col>Sal2019</th><th scope=col>Raise</th><th scope=col>PercentRaise</th></tr>\n",
       "\t<tr><th scope=col>&lt;chr&gt;</th><th scope=col>&lt;chr&gt;</th><th scope=col>&lt;chr&gt;</th><th scope=col>&lt;chr&gt;</th><th scope=col>&lt;dbl&gt;</th><th scope=col>&lt;dbl&gt;</th><th scope=col>&lt;dbl&gt;</th><th scope=col>&lt;dbl&gt;</th><th scope=col>&lt;dbl&gt;</th><th scope=col>&lt;dbl&gt;</th><th scope=col>&lt;dbl&gt;</th></tr>\n",
       "</thead>\n",
       "<tbody>\n",
       "\t<tr><td>360</td><td>University of Washington</td><td>CARRINGTON, EMILY</td><td>PROFESSOR</td><td>124400</td><td>16500</td><td>5700</td><td> 5800</td><td>128000</td><td>122200</td><td>21.068966</td></tr>\n",
       "\t<tr><td>360</td><td>University of Washington</td><td>SMITH, NOAH      </td><td>PROFESSOR</td><td>     0</td><td>    0</td><td>   0</td><td>23800</td><td>143400</td><td>119600</td><td> 5.025210</td></tr>\n",
       "\t<tr><td>360</td><td>University of Washington</td><td>THURTLE, PHILLIP </td><td>PROFESSOR</td><td>     0</td><td>    0</td><td>   0</td><td>44600</td><td>171900</td><td>127300</td><td> 2.854260</td></tr>\n",
       "\t<tr><td>360</td><td>University of Washington</td><td>SPENCER, KRISTIE </td><td>PROFESSOR</td><td>     0</td><td>    0</td><td>   0</td><td>29700</td><td>112300</td><td> 82600</td><td> 2.781145</td></tr>\n",
       "\t<tr><td>360</td><td>University of Washington</td><td>WITTEN, DANIELA  </td><td>PROFESSOR</td><td>     0</td><td>    0</td><td>   0</td><td>77800</td><td>289600</td><td>211800</td><td> 2.722365</td></tr>\n",
       "\t<tr><td>360</td><td>University of Washington</td><td>HUDSON, ROXANNE  </td><td>PROFESSOR</td><td>     0</td><td>    0</td><td>   0</td><td>41600</td><td>148200</td><td>106600</td><td> 2.562500</td></tr>\n",
       "</tbody>\n",
       "</table>\n"
      ],
      "text/latex": [
       "A tibble: 6 × 11\n",
       "\\begin{tabular}{lllllllllll}\n",
       " Agy & AgyTitle & Name & JobTitle & Sal2015 & Sal2016 & Sal2017 & Sal2018 & Sal2019 & Raise & PercentRaise\\\\\n",
       " <chr> & <chr> & <chr> & <chr> & <dbl> & <dbl> & <dbl> & <dbl> & <dbl> & <dbl> & <dbl>\\\\\n",
       "\\hline\n",
       "\t 360 & University of Washington & CARRINGTON, EMILY & PROFESSOR & 124400 & 16500 & 5700 &  5800 & 128000 & 122200 & 21.068966\\\\\n",
       "\t 360 & University of Washington & SMITH, NOAH       & PROFESSOR &      0 &     0 &    0 & 23800 & 143400 & 119600 &  5.025210\\\\\n",
       "\t 360 & University of Washington & THURTLE, PHILLIP  & PROFESSOR &      0 &     0 &    0 & 44600 & 171900 & 127300 &  2.854260\\\\\n",
       "\t 360 & University of Washington & SPENCER, KRISTIE  & PROFESSOR &      0 &     0 &    0 & 29700 & 112300 &  82600 &  2.781145\\\\\n",
       "\t 360 & University of Washington & WITTEN, DANIELA   & PROFESSOR &      0 &     0 &    0 & 77800 & 289600 & 211800 &  2.722365\\\\\n",
       "\t 360 & University of Washington & HUDSON, ROXANNE   & PROFESSOR &      0 &     0 &    0 & 41600 & 148200 & 106600 &  2.562500\\\\\n",
       "\\end{tabular}\n"
      ],
      "text/markdown": [
       "\n",
       "A tibble: 6 × 11\n",
       "\n",
       "| Agy &lt;chr&gt; | AgyTitle &lt;chr&gt; | Name &lt;chr&gt; | JobTitle &lt;chr&gt; | Sal2015 &lt;dbl&gt; | Sal2016 &lt;dbl&gt; | Sal2017 &lt;dbl&gt; | Sal2018 &lt;dbl&gt; | Sal2019 &lt;dbl&gt; | Raise &lt;dbl&gt; | PercentRaise &lt;dbl&gt; |\n",
       "|---|---|---|---|---|---|---|---|---|---|---|\n",
       "| 360 | University of Washington | CARRINGTON, EMILY | PROFESSOR | 124400 | 16500 | 5700 |  5800 | 128000 | 122200 | 21.068966 |\n",
       "| 360 | University of Washington | SMITH, NOAH       | PROFESSOR |      0 |     0 |    0 | 23800 | 143400 | 119600 |  5.025210 |\n",
       "| 360 | University of Washington | THURTLE, PHILLIP  | PROFESSOR |      0 |     0 |    0 | 44600 | 171900 | 127300 |  2.854260 |\n",
       "| 360 | University of Washington | SPENCER, KRISTIE  | PROFESSOR |      0 |     0 |    0 | 29700 | 112300 |  82600 |  2.781145 |\n",
       "| 360 | University of Washington | WITTEN, DANIELA   | PROFESSOR |      0 |     0 |    0 | 77800 | 289600 | 211800 |  2.722365 |\n",
       "| 360 | University of Washington | HUDSON, ROXANNE   | PROFESSOR |      0 |     0 |    0 | 41600 | 148200 | 106600 |  2.562500 |\n",
       "\n"
      ],
      "text/plain": [
       "  Agy AgyTitle                 Name              JobTitle  Sal2015 Sal2016\n",
       "1 360 University of Washington CARRINGTON, EMILY PROFESSOR 124400  16500  \n",
       "2 360 University of Washington SMITH, NOAH       PROFESSOR      0      0  \n",
       "3 360 University of Washington THURTLE, PHILLIP  PROFESSOR      0      0  \n",
       "4 360 University of Washington SPENCER, KRISTIE  PROFESSOR      0      0  \n",
       "5 360 University of Washington WITTEN, DANIELA   PROFESSOR      0      0  \n",
       "6 360 University of Washington HUDSON, ROXANNE   PROFESSOR      0      0  \n",
       "  Sal2017 Sal2018 Sal2019 Raise  PercentRaise\n",
       "1 5700     5800   128000  122200 21.068966   \n",
       "2    0    23800   143400  119600  5.025210   \n",
       "3    0    44600   171900  127300  2.854260   \n",
       "4    0    29700   112300   82600  2.781145   \n",
       "5    0    77800   289600  211800  2.722365   \n",
       "6    0    41600   148200  106600  2.562500   "
      ]
     },
     "metadata": {},
     "output_type": "display_data"
    }
   ],
   "source": [
    "head(arrange(uw_full_professors,desc(PercentRaise)))"
   ]
  },
  {
   "cell_type": "markdown",
   "metadata": {},
   "source": [
    "#### Top Grossing Movie of the 1980's\n",
    "\n",
    "In order to find the top grossing movie from the 80's we first filter the data to only include 80's movies and then use the `slice_max` function."
   ]
  },
  {
   "cell_type": "code",
   "execution_count": 141,
   "metadata": {},
   "outputs": [],
   "source": [
    "top_movies_80s <- filter(top_100_movies, \n",
    "                         1980<=Year, \n",
    "                         Year<1990\n",
    "                        )"
   ]
  },
  {
   "cell_type": "code",
   "execution_count": 143,
   "metadata": {},
   "outputs": [
    {
     "data": {
      "text/html": [
       "<table>\n",
       "<caption>A spec_tbl_df: 1 × 5</caption>\n",
       "<thead>\n",
       "\t<tr><th scope=col>X1</th><th scope=col>Rank</th><th scope=col>Title</th><th scope=col>Lifetime Gross</th><th scope=col>Year</th></tr>\n",
       "\t<tr><th scope=col>&lt;dbl&gt;</th><th scope=col>&lt;dbl&gt;</th><th scope=col>&lt;chr&gt;</th><th scope=col>&lt;chr&gt;</th><th scope=col>&lt;dbl&gt;</th></tr>\n",
       "</thead>\n",
       "<tbody>\n",
       "\t<tr><td>22</td><td>23</td><td>E.T. the Extra-Terrestrial</td><td>$435,110,554</td><td>1982</td></tr>\n",
       "</tbody>\n",
       "</table>\n"
      ],
      "text/latex": [
       "A spec\\_tbl\\_df: 1 × 5\n",
       "\\begin{tabular}{lllll}\n",
       " X1 & Rank & Title & Lifetime Gross & Year\\\\\n",
       " <dbl> & <dbl> & <chr> & <chr> & <dbl>\\\\\n",
       "\\hline\n",
       "\t 22 & 23 & E.T. the Extra-Terrestrial & \\$435,110,554 & 1982\\\\\n",
       "\\end{tabular}\n"
      ],
      "text/markdown": [
       "\n",
       "A spec_tbl_df: 1 × 5\n",
       "\n",
       "| X1 &lt;dbl&gt; | Rank &lt;dbl&gt; | Title &lt;chr&gt; | Lifetime Gross &lt;chr&gt; | Year &lt;dbl&gt; |\n",
       "|---|---|---|---|---|\n",
       "| 22 | 23 | E.T. the Extra-Terrestrial | $435,110,554 | 1982 |\n",
       "\n"
      ],
      "text/plain": [
       "  X1 Rank Title                      Lifetime Gross Year\n",
       "1 22 23   E.T. the Extra-Terrestrial $435,110,554   1982"
      ]
     },
     "metadata": {},
     "output_type": "display_data"
    }
   ],
   "source": [
    "slice_max(top_movies_80s,'Lifetime Gross')"
   ]
  },
  {
   "cell_type": "markdown",
   "metadata": {},
   "source": [
    "#### Histogram of Salaries of Seattle Police Department\n",
    "\n",
    "The first thing we do is filter the data to only include `Police Department` rows. Then we can create a histogram of the salaries."
   ]
  },
  {
   "cell_type": "code",
   "execution_count": 102,
   "metadata": {},
   "outputs": [
    {
     "data": {
      "image/png": "[encoded data removed]",
      "text/plain": [
       "Plot with title “Seattle Police Department Salaries”"
      ]
     },
     "metadata": {
      "image/png": {
       "height": 420,
       "width": 420
      }
     },
     "output_type": "display_data"
    }
   ],
   "source": [
    "spd_salaries <- filter(seattle_wage_2020,Department==\"Police Department\")\n",
    "hist(spd_salaries$'Hourly Rate',\n",
    "    col='Green',\n",
    "    breaks=20,\n",
    "    xlim=range(20,140),\n",
    "    main=\"Seattle Police Department Salaries\",\n",
    "    xlab=\"Hourly Rate\")"
   ]
  },
  {
   "cell_type": "markdown",
   "metadata": {},
   "source": [
    "## Distributions\n",
    "\n",
    "All of the distributions that we learn in this class have a set of functions in R. The naming convention for these set  of functions goes `single letter + abbreviated name of distribution`. Each of the abbreviated letters stand for a piece of specific information about the distribution.\n",
    "\n",
    "- `d+abbreviated name of distribution`: outputs value of density function\n",
    "- `r+abbreviated name of distribution`: outputs a vector of random values chosen according to the distribution\n",
    "- `p+abbreviated name of distribution`: outputs probability of $x$ being less than or equal to a value\n",
    "- `q+abbreviated name of distribution`: outputs $x$ such that choosing a value less than or equal to it has a specific probability\n",
    "\n",
    "Here is a list of the common distributions we have encountered and their abbreviations.\n",
    "\n",
    "- Exponential, `exp` \n",
    "- Normal, `norm`\n",
    "- Weibull, `weibull`\n",
    "- Lognormal, `lnorm`\n",
    "- Uniform, `unif`\n",
    "- Binomial, `binom`\n",
    "- Poisson, `pois`"
   ]
  },
  {
   "cell_type": "markdown",
   "metadata": {},
   "source": [
    "Therefore if I wanted to create a set of 10 values according to the Poisson distribution with $\\lambda=4.5$ I would use `rpois(10,lambda=4.5)`"
   ]
  },
  {
   "cell_type": "code",
   "execution_count": 161,
   "metadata": {},
   "outputs": [
    {
     "data": {
      "text/html": [
       "<style>\n",
       ".list-inline {list-style: none; margin:0; padding: 0}\n",
       ".list-inline>li {display: inline-block}\n",
       ".list-inline>li:not(:last-child)::after {content: \"\\00b7\"; padding: 0 .5ex}\n",
       "</style>\n",
       "<ol class=list-inline><li>4</li><li>5</li><li>5</li><li>6</li><li>5</li><li>1</li><li>3</li><li>3</li><li>6</li><li>4</li></ol>\n"
      ],
      "text/latex": [
       "\\begin{enumerate*}\n",
       "\\item 4\n",
       "\\item 5\n",
       "\\item 5\n",
       "\\item 6\n",
       "\\item 5\n",
       "\\item 1\n",
       "\\item 3\n",
       "\\item 3\n",
       "\\item 6\n",
       "\\item 4\n",
       "\\end{enumerate*}\n"
      ],
      "text/markdown": [
       "1. 4\n",
       "2. 5\n",
       "3. 5\n",
       "4. 6\n",
       "5. 5\n",
       "6. 1\n",
       "7. 3\n",
       "8. 3\n",
       "9. 6\n",
       "10. 4\n",
       "\n",
       "\n"
      ],
      "text/plain": [
       " [1] 4 5 5 6 5 1 3 3 6 4"
      ]
     },
     "metadata": {},
     "output_type": "display_data"
    }
   ],
   "source": [
    "rpois(10,lambda=4.5)"
   ]
  },
  {
   "cell_type": "markdown",
   "metadata": {},
   "source": [
    "Or if I wanted to find what the probability of choosing a value less than 10000 from an exponential distribution where $\\lambda=1/10000$ I would use `pexp(10000,rate=1/10000)`"
   ]
  },
  {
   "cell_type": "code",
   "execution_count": 112,
   "metadata": {},
   "outputs": [
    {
     "data": {
      "text/html": [
       "0.632120558828558"
      ],
      "text/latex": [
       "0.632120558828558"
      ],
      "text/markdown": [
       "0.632120558828558"
      ],
      "text/plain": [
       "[1] 0.6321206"
      ]
     },
     "metadata": {},
     "output_type": "display_data"
    }
   ],
   "source": [
    "pexp(10000, rate=1/10000)"
   ]
  },
  {
   "cell_type": "markdown",
   "metadata": {},
   "source": [
    "and if I wanted to find the top 15% of the same exponential distribution I would use `qexp(.15, rate=1/10000,lower.tail=FALSE)`"
   ]
  },
  {
   "cell_type": "code",
   "execution_count": 113,
   "metadata": {},
   "outputs": [
    {
     "data": {
      "text/html": [
       "18971.1998488588"
      ],
      "text/latex": [
       "18971.1998488588"
      ],
      "text/markdown": [
       "18971.1998488588"
      ],
      "text/plain": [
       "[1] 18971.2"
      ]
     },
     "metadata": {},
     "output_type": "display_data"
    }
   ],
   "source": [
    "qexp(.15, rate=1/10000,lower.tail=FALSE)"
   ]
  },
  {
   "cell_type": "markdown",
   "metadata": {},
   "source": [
    "This was a brief introduction, but keep in mind you can always use the `help()` function to find any documentation of a function that you might be confused using"
   ]
  }
 ],
 "metadata": {
  "kernelspec": {
   "display_name": "R",
   "language": "R",
   "name": "ir"
  },
  "language_info": {
   "codemirror_mode": "r",
   "file_extension": ".r",
   "mimetype": "text/x-r-source",
   "name": "R",
   "pygments_lexer": "r",
   "version": "4.0.3"
  }
 },
 "nbformat": 4,
 "nbformat_minor": 4
}
