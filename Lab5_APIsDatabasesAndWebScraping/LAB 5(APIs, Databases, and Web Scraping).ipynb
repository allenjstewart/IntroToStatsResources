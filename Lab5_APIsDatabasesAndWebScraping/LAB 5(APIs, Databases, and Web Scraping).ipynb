{
 "cells": [
  {
   "cell_type": "markdown",
   "metadata": {},
   "source": [
    "# APIs, Databases, and Web Scraping\n",
    "\n",
    "In this lab we will be working with Python. Thus all the functions and calls that we have learned thus far will not work out right. One of the benefits of using Jupyter notebook is that we can use magics. Magics allow us to call other programming languages to run commands. \n"
   ]
  },
  {
   "cell_type": "markdown",
   "metadata": {},
   "source": [
    "## Using R and Python Together\n",
    "\n",
    "Since this notebook has a Python kernel we will need to use Python commands. Any of the commands we learned in R will not work (unless we work some \"magic\"). The first thing we will need to do is install and load some libraries. \n",
    "\n",
    "### A Note to RStudio Users\n",
    "\n",
    "A lot of the beginning of this lab will not apply to you if you are using RStudio. Rstudio does not make use of magics. Instead, you will want to use the R library `reticulate` (https://rstudio.github.io/reticulate/). This library will give you the ability to create cells that will run Python code. You do this by using\n",
    "\n",
    "```\n",
    "```{python}\n",
    "PYTHON CODE HERE\n",
    "`` `\n",
    "\n",
    "```\n",
    "\n",
    "You will still need to make sure that you have all the necessary libraries in Python to use the code in this lab. Please reach out to me individually if you need any help at all navigating reticulate and Python.\n",
    "\n",
    "### Necessary Packages\n",
    "\n",
    "Unlike R, installing Python libraries is not as easy as just typing commands into Jupyter notebook. This is because the Jupyter kernel's are disconnected from the Jupyter shell. We have two options \n",
    "\n",
    "1. Open up a terminal or powershell and use `pip` to install the libraries\n",
    "2. Open up a `conda` terminal and use the `conda` installation commands in the terminal\n",
    "3. Use the Python package `sys` to run installation commands in Jupyter\n",
    "\n",
    "In this lab I will use the third option. So the first things I need to do is load the `sys` library."
   ]
  },
  {
   "cell_type": "code",
   "execution_count": 87,
   "metadata": {},
   "outputs": [],
   "source": [
    "import sys"
   ]
  },
  {
   "cell_type": "markdown",
   "metadata": {},
   "source": [
    "The `sys` library help Python run system commands from Python. Be very careful using the package. Any functions or libraries that make use of this package should be used with a healthy dose of scepticism. We will only be using this package to download libraries. \n",
    "\n",
    "The following libraries will be useful\n",
    "\n",
    "- `rpy2`\n",
    "    - This package will allow you to use R code in a Jupyter notebook.\n",
    "- `pandas`\n",
    "    - This packages contains functions that allow Python to use data frames and do statistical analysis.\n",
    "- `numpy`\n",
    "    - This package contains mathematical functions and algorithms.\n",
    "- `matplotlib`\n",
    "    - This packages contains functions for plotting and graphing in Python.\n"
   ]
  },
  {
   "cell_type": "code",
   "execution_count": 88,
   "metadata": {},
   "outputs": [
    {
     "name": "stdout",
     "output_type": "stream",
     "text": [
      "Collecting package metadata (current_repodata.json): done\n",
      "Solving environment: failed with initial frozen solve. Retrying with flexible solve.\n",
      "Solving environment: failed with repodata from current_repodata.json, will retry with next repodata source.\n",
      "Collecting package metadata (repodata.json): done\n",
      "Solving environment: failed with initial frozen solve. Retrying with flexible solve.\n",
      "Solving environment: \\ \n",
      "Found conflicts! Looking for incompatible packages.\n",
      "This can take several minutes.  Press CTRL-C to abort.\n",
      "                                                                               failed\n",
      "\n",
      "UnsatisfiableError: The following specifications were found\n",
      "to be incompatible with the existing python installation in your environment:\n",
      "\n",
      "Specifications:\n",
      "\n",
      "  - rpy2 -> python[version='2.7.*|3.5.*|3.6.*|>=2.7,<2.8.0a0|>=3.5,<3.6.0a0|>=3.6,<3.7.0a0|>=3.7,<3.8.0a0|3.4.*|3.3.*']\n",
      "\n",
      "Your python: python=3.8\n",
      "\n",
      "If python is on the left-most side of the chain, that's the version you've asked for.\n",
      "When python appears to the right, that indicates that the thing on the left is somehow\n",
      "not available for the python version you are constrained to. Note that conda will not\n",
      "change your python version to a different minor version unless you explicitly specify\n",
      "that.\n",
      "\n",
      "\n",
      "\n",
      "Collecting package metadata (current_repodata.json): done\n",
      "Solving environment: done\n",
      "\n",
      "# All requested packages already installed.\n",
      "\n",
      "Collecting package metadata (current_repodata.json): done\n",
      "Solving environment: done\n",
      "\n",
      "# All requested packages already installed.\n",
      "\n",
      "Collecting package metadata (current_repodata.json): done\n",
      "Solving environment: done\n",
      "\n",
      "# All requested packages already installed.\n",
      "\n"
     ]
    }
   ],
   "source": [
    "!conda install --yes --prefix {sys.prefix} rpy2\n",
    "!conda install --yes --prefix {sys.prefix} pandas\n",
    "!conda install --yes --prefix {sys.prefix} numpy\n",
    "!conda install --yes --prefix {sys.prefix} matplotlib"
   ]
  },
  {
   "cell_type": "markdown",
   "metadata": {},
   "source": [
    "It looks like I might have gotten some errors and some of the packages may not have installed. In order to check that the packages are installed I can use the command `!conda list [PACKAGE NAME]`. This lists all of the packages available and then searches them for the pacakge name. If nothing shows up then the package is missing."
   ]
  },
  {
   "cell_type": "code",
   "execution_count": 89,
   "metadata": {},
   "outputs": [
    {
     "name": "stdout",
     "output_type": "stream",
     "text": [
      "# packages in environment at /Users/stewaral/opt/anaconda3:\n",
      "#\n",
      "# Name                    Version                   Build  Channel\n",
      "rpy2                      3.4.2                    pypi_0    pypi\n",
      "# packages in environment at /Users/stewaral/opt/anaconda3:\n",
      "#\n",
      "# Name                    Version                   Build  Channel\n",
      "pandas                    1.2.1            py38hb2f4e1b_0  \n",
      "# packages in environment at /Users/stewaral/opt/anaconda3:\n",
      "#\n",
      "# Name                    Version                   Build  Channel\n",
      "numpy                     1.18.5           py38h1da2735_0  \n",
      "numpy-base                1.18.5           py38h3304bdc_0  \n",
      "numpydoc                  1.1.0                      py_0  \n",
      "# packages in environment at /Users/stewaral/opt/anaconda3:\n",
      "#\n",
      "# Name                    Version                   Build  Channel\n",
      "matplotlib                3.2.2                         0  \n",
      "matplotlib-base           3.2.2            py38h5670ca0_0  \n"
     ]
    }
   ],
   "source": [
    "!conda list rpy2\n",
    "!conda list pandas\n",
    "!conda list numpy\n",
    "!conda list matplotlib"
   ]
  },
  {
   "cell_type": "markdown",
   "metadata": {},
   "source": [
    "I could also have used syntax that we have used in the filter function"
   ]
  },
  {
   "cell_type": "code",
   "execution_count": 90,
   "metadata": {},
   "outputs": [
    {
     "name": "stdout",
     "output_type": "stream",
     "text": [
      "# packages in environment at /Users/stewaral/opt/anaconda3:\r\n",
      "#\r\n",
      "# Name                    Version                   Build  Channel\r\n",
      "matplotlib                3.2.2                         0  \r\n",
      "matplotlib-base           3.2.2            py38h5670ca0_0  \r\n",
      "numpy                     1.18.5           py38h1da2735_0  \r\n",
      "numpy-base                1.18.5           py38h3304bdc_0  \r\n",
      "numpydoc                  1.1.0                      py_0  \r\n",
      "pandas                    1.2.1            py38hb2f4e1b_0  \r\n",
      "rpy2                      3.4.2                    pypi_0    pypi\r\n"
     ]
    }
   ],
   "source": [
    "!conda list \"rpy2|pandas|numpy|matplotlib\""
   ]
  },
  {
   "cell_type": "markdown",
   "metadata": {},
   "source": [
    "It looks like we have everything we need installed. Now we just need to load these libraries."
   ]
  },
  {
   "cell_type": "code",
   "execution_count": 92,
   "metadata": {},
   "outputs": [],
   "source": [
    "import rpy2.rinterface\n",
    "import pandas as pd\n",
    "import numpy as np\n",
    "import matplotlib.pyplot as plt\n",
    "\n",
    "%load_ext rpy2.ipython"
   ]
  },
  {
   "cell_type": "markdown",
   "metadata": {},
   "source": [
    "### Magics\n",
    "\n",
    "#### What are Magics?\n",
    "Magics are commands that are particular to Jupyter and IPython notebooks. They allow you to use commands from other programming languages, capture the output, and then present in a notebook. I have actually already used something similar to magics in this notebook. When we did the command `!conda` we were using a system shell magic. The `!` called the `system()` function of Python and then ran a conda terminal. Depending on whether you are using Windows or Mac, the potential commands will be different. This is because Mac uses BASH terminal and Windows uses powershell.  \n",
    "\n",
    "Just to test this out. I am using a Mac and so I will do the simple unix command `ls`. The `ls` command will list all files in a selected directory. (Note if you are using windows the `ls` command is not part of powershell. You should try `!dir` instead.)"
   ]
  },
  {
   "cell_type": "code",
   "execution_count": 92,
   "metadata": {},
   "outputs": [
    {
     "name": "stdout",
     "output_type": "stream",
     "text": [
      "APIs, Databases, and Web Scraping.ipynb\n",
      "APIs, Databases, and Web Scraping.ipynb.invalid\n",
      "AnnualEmployeeSalary.csv\n",
      "LAB 1(Histograms) Notes.ipynb\n",
      "LAB 2(Distributions) Notes.html\n",
      "LAB 2(Distributions) Notes.ipynb\n",
      "LAB 3(Plots and Graphs) Notes.ipynb\n",
      "LAB 4 (Correlation and Regression).ipynb\n",
      "\u001b[34mLAB0\u001b[m\u001b[m\n",
      "\u001b[34mLAB1\u001b[m\u001b[m\n",
      "LAB3img1.png\n",
      "LAB3img10.png\n",
      "LAB3img11.png\n",
      "LAB3img12.png\n",
      "LAB3img13.png\n",
      "LAB3img14.png\n",
      "LAB3img15.png\n",
      "LAB3img16.png\n",
      "LAB3img17.png\n",
      "LAB3img18.png\n",
      "LAB3img19.png\n",
      "LAB3img2.png\n",
      "LAB3img20.png\n",
      "LAB3img21.png\n",
      "LAB3img22.png\n",
      "LAB3img23.png\n",
      "LAB3img24.png\n",
      "LAB3img3.png\n",
      "LAB3img4.png\n",
      "LAB3img5.png\n",
      "LAB3img6.png\n",
      "LAB3img7.png\n",
      "LAB3img8.png\n",
      "LAB3img9.png\n",
      "LAB4img1.png\n",
      "LAB4img10.png\n",
      "LAB4img2.png\n",
      "LAB4img3.png\n",
      "LAB4img4.png\n",
      "LAB4img5.png\n",
      "LAB4img6.png\n",
      "LAB4img7.png\n",
      "LAB4img8.png\n",
      "LAB4img9.png\n",
      "LAB5img1.png\n",
      "LAB5img2.png\n",
      "LAB5img3.png\n",
      "Lab 0 (Introduction to R) Notes.ipynb\n",
      "Lab 0 (Introduction to R).html\n",
      "Lab0Meme.jpg\n",
      "Lab1img1.png\n",
      "Lab1img2.png\n",
      "Lab1img3.png\n",
      "Lab1img4.png\n",
      "Lab1img5.png\n",
      "Lab2img1.png\n",
      "SPOTIPY_CLIENT.txt\n",
      "SPOTIPY_SECRET.txt\n",
      "gov_apikey.txt\n"
     ]
    }
   ],
   "source": [
    "!ls "
   ]
  },
  {
   "cell_type": "markdown",
   "metadata": {},
   "source": [
    "As we can see, this directory for me contains all of the lab files for the class. \n",
    "\n",
    "#### Possible Magics\n",
    "So we can use magics to run BASH commands, but there is a lot more we can do. To see the full list of magics you can run `%lsmagic`"
   ]
  },
  {
   "cell_type": "code",
   "execution_count": 93,
   "metadata": {},
   "outputs": [
    {
     "data": {
      "application/json": {
       "cell": {
        "!": "OSMagics",
        "HTML": "Other",
        "R": "RMagics",
        "SVG": "Other",
        "bash": "Other",
        "capture": "ExecutionMagics",
        "debug": "ExecutionMagics",
        "file": "Other",
        "html": "DisplayMagics",
        "javascript": "DisplayMagics",
        "js": "DisplayMagics",
        "latex": "DisplayMagics",
        "markdown": "DisplayMagics",
        "perl": "Other",
        "prun": "ExecutionMagics",
        "pypy": "Other",
        "python": "Other",
        "python2": "Other",
        "python3": "Other",
        "ruby": "Other",
        "script": "ScriptMagics",
        "sh": "Other",
        "svg": "DisplayMagics",
        "sx": "OSMagics",
        "system": "OSMagics",
        "time": "ExecutionMagics",
        "timeit": "ExecutionMagics",
        "writefile": "OSMagics"
       },
       "line": {
        "R": "RMagics",
        "Rdevice": "RMagics",
        "Rget": "RMagics",
        "Rpull": "RMagics",
        "Rpush": "RMagics",
        "alias": "OSMagics",
        "alias_magic": "BasicMagics",
        "autoawait": "AsyncMagics",
        "autocall": "AutoMagics",
        "automagic": "AutoMagics",
        "autosave": "KernelMagics",
        "bookmark": "OSMagics",
        "cat": "Other",
        "cd": "OSMagics",
        "clear": "KernelMagics",
        "colors": "BasicMagics",
        "conda": "PackagingMagics",
        "config": "ConfigMagics",
        "connect_info": "KernelMagics",
        "cp": "Other",
        "debug": "ExecutionMagics",
        "dhist": "OSMagics",
        "dirs": "OSMagics",
        "doctest_mode": "BasicMagics",
        "ed": "Other",
        "edit": "KernelMagics",
        "env": "OSMagics",
        "gui": "BasicMagics",
        "hist": "Other",
        "history": "HistoryMagics",
        "killbgscripts": "ScriptMagics",
        "ldir": "Other",
        "less": "KernelMagics",
        "lf": "Other",
        "lk": "Other",
        "ll": "Other",
        "load": "CodeMagics",
        "load_ext": "ExtensionMagics",
        "loadpy": "CodeMagics",
        "logoff": "LoggingMagics",
        "logon": "LoggingMagics",
        "logstart": "LoggingMagics",
        "logstate": "LoggingMagics",
        "logstop": "LoggingMagics",
        "ls": "Other",
        "lsmagic": "BasicMagics",
        "lx": "Other",
        "macro": "ExecutionMagics",
        "magic": "BasicMagics",
        "man": "KernelMagics",
        "matplotlib": "PylabMagics",
        "mkdir": "Other",
        "more": "KernelMagics",
        "mv": "Other",
        "notebook": "BasicMagics",
        "page": "BasicMagics",
        "pastebin": "CodeMagics",
        "pdb": "ExecutionMagics",
        "pdef": "NamespaceMagics",
        "pdoc": "NamespaceMagics",
        "pfile": "NamespaceMagics",
        "pinfo": "NamespaceMagics",
        "pinfo2": "NamespaceMagics",
        "pip": "PackagingMagics",
        "popd": "OSMagics",
        "pprint": "BasicMagics",
        "precision": "BasicMagics",
        "prun": "ExecutionMagics",
        "psearch": "NamespaceMagics",
        "psource": "NamespaceMagics",
        "pushd": "OSMagics",
        "pwd": "OSMagics",
        "pycat": "OSMagics",
        "pylab": "PylabMagics",
        "qtconsole": "KernelMagics",
        "quickref": "BasicMagics",
        "recall": "HistoryMagics",
        "rehashx": "OSMagics",
        "reload_ext": "ExtensionMagics",
        "rep": "Other",
        "rerun": "HistoryMagics",
        "reset": "NamespaceMagics",
        "reset_selective": "NamespaceMagics",
        "rm": "Other",
        "rmdir": "Other",
        "run": "ExecutionMagics",
        "save": "CodeMagics",
        "sc": "OSMagics",
        "set_env": "OSMagics",
        "store": "StoreMagics",
        "sx": "OSMagics",
        "system": "OSMagics",
        "tb": "ExecutionMagics",
        "time": "ExecutionMagics",
        "timeit": "ExecutionMagics",
        "unalias": "OSMagics",
        "unload_ext": "ExtensionMagics",
        "who": "NamespaceMagics",
        "who_ls": "NamespaceMagics",
        "whos": "NamespaceMagics",
        "xdel": "NamespaceMagics",
        "xmode": "BasicMagics"
       }
      },
      "text/plain": [
       "Available line magics:\n",
       "%R  %Rdevice  %Rget  %Rpull  %Rpush  %alias  %alias_magic  %autoawait  %autocall  %automagic  %autosave  %bookmark  %cat  %cd  %clear  %colors  %conda  %config  %connect_info  %cp  %debug  %dhist  %dirs  %doctest_mode  %ed  %edit  %env  %gui  %hist  %history  %killbgscripts  %ldir  %less  %lf  %lk  %ll  %load  %load_ext  %loadpy  %logoff  %logon  %logstart  %logstate  %logstop  %ls  %lsmagic  %lx  %macro  %magic  %man  %matplotlib  %mkdir  %more  %mv  %notebook  %page  %pastebin  %pdb  %pdef  %pdoc  %pfile  %pinfo  %pinfo2  %pip  %popd  %pprint  %precision  %prun  %psearch  %psource  %pushd  %pwd  %pycat  %pylab  %qtconsole  %quickref  %recall  %rehashx  %reload_ext  %rep  %rerun  %reset  %reset_selective  %rm  %rmdir  %run  %save  %sc  %set_env  %store  %sx  %system  %tb  %time  %timeit  %unalias  %unload_ext  %who  %who_ls  %whos  %xdel  %xmode\n",
       "\n",
       "Available cell magics:\n",
       "%%!  %%HTML  %%R  %%SVG  %%bash  %%capture  %%debug  %%file  %%html  %%javascript  %%js  %%latex  %%markdown  %%perl  %%prun  %%pypy  %%python  %%python2  %%python3  %%ruby  %%script  %%sh  %%svg  %%sx  %%system  %%time  %%timeit  %%writefile\n",
       "\n",
       "Automagic is ON, % prefix IS NOT needed for line magics."
      ]
     },
     "execution_count": 93,
     "metadata": {},
     "output_type": "execute_result"
    }
   ],
   "source": [
    "%lsmagic"
   ]
  },
  {
   "cell_type": "markdown",
   "metadata": {},
   "source": [
    "As you can see there are a lot of different magics. Some of them are just functions that you can run on a single line. For instance, notice that `%ls` is a magic. This means that even Windows machines can run the `ls` function using a magic."
   ]
  },
  {
   "cell_type": "code",
   "execution_count": 94,
   "metadata": {},
   "outputs": [
    {
     "name": "stdout",
     "output_type": "stream",
     "text": [
      "APIs, Databases, and Web Scraping.ipynb\r\n",
      "APIs, Databases, and Web Scraping.ipynb.invalid\r\n",
      "AnnualEmployeeSalary.csv\r\n",
      "LAB 1(Histograms) Notes.ipynb\r\n",
      "LAB 2(Distributions) Notes.html\r\n",
      "LAB 2(Distributions) Notes.ipynb\r\n",
      "LAB 3(Plots and Graphs) Notes.ipynb\r\n",
      "LAB 4 (Correlation and Regression).ipynb\r\n",
      "\u001b[34mLAB0\u001b[m\u001b[m/\r\n",
      "\u001b[34mLAB1\u001b[m\u001b[m/\r\n",
      "LAB3img1.png\r\n",
      "LAB3img10.png\r\n",
      "LAB3img11.png\r\n",
      "LAB3img12.png\r\n",
      "LAB3img13.png\r\n",
      "LAB3img14.png\r\n",
      "LAB3img15.png\r\n",
      "LAB3img16.png\r\n",
      "LAB3img17.png\r\n",
      "LAB3img18.png\r\n",
      "LAB3img19.png\r\n",
      "LAB3img2.png\r\n",
      "LAB3img20.png\r\n",
      "LAB3img21.png\r\n",
      "LAB3img22.png\r\n",
      "LAB3img23.png\r\n",
      "LAB3img24.png\r\n",
      "LAB3img3.png\r\n",
      "LAB3img4.png\r\n",
      "LAB3img5.png\r\n",
      "LAB3img6.png\r\n",
      "LAB3img7.png\r\n",
      "LAB3img8.png\r\n",
      "LAB3img9.png\r\n",
      "LAB4img1.png\r\n",
      "LAB4img10.png\r\n",
      "LAB4img2.png\r\n",
      "LAB4img3.png\r\n",
      "LAB4img4.png\r\n",
      "LAB4img5.png\r\n",
      "LAB4img6.png\r\n",
      "LAB4img7.png\r\n",
      "LAB4img8.png\r\n",
      "LAB4img9.png\r\n",
      "LAB5img1.png\r\n",
      "LAB5img2.png\r\n",
      "LAB5img3.png\r\n",
      "Lab 0 (Introduction to R) Notes.ipynb\r\n",
      "Lab 0 (Introduction to R).html\r\n",
      "Lab0Meme.jpg\r\n",
      "Lab1img1.png\r\n",
      "Lab1img2.png\r\n",
      "Lab1img3.png\r\n",
      "Lab1img4.png\r\n",
      "Lab1img5.png\r\n",
      "Lab2img1.png\r\n",
      "SPOTIPY_CLIENT.txt\r\n",
      "SPOTIPY_SECRET.txt\r\n",
      "gov_apikey.txt\r\n"
     ]
    }
   ],
   "source": [
    "%ls"
   ]
  },
  {
   "cell_type": "markdown",
   "metadata": {},
   "source": [
    "The cell magics are programming languages that you can run in a cell of Jupyter notebook. If you do not see `%%R` in the list then you need to double check your rpy2 package. The R magic is not default in Jupyter notebook and you will need to run the following commands to upload it into your Python notebook.\n",
    "\n",
    "```\n",
    "import rpy2.rinterface\n",
    "%load_ext rpy2.ipython\n",
    "```\n",
    "\n",
    "I already did this above in my notebook."
   ]
  },
  {
   "cell_type": "markdown",
   "metadata": {},
   "source": [
    "So we can run code from the following languages in a jupyter notebook\n",
    "\n",
    "- !, (This is system code; BASH on mac, powershell on windows)  \n",
    "- HTML  \n",
    "- R\n",
    "- javascript\n",
    "- latex\n",
    "- markdown \n",
    "- perl\n",
    "- ruby\n",
    "\n",
    "and more. If there is a language here that isn't listed then you can see if someone has written an notebook extension for the language in question. This is what the `rpy2` library does. Since R is not a default magic, a developer wrote a python library to make it so."
   ]
  },
  {
   "cell_type": "markdown",
   "metadata": {},
   "source": [
    "### Using the R Magic\n",
    "\n",
    "Now we get to use the R magic and get Python and R to interact with one another. At the top of every cell that I want to run R code in I will put `%%R`. This tells Jupyter that I am going to run R code. The first thing I would want to do is load `tidyverse`."
   ]
  },
  {
   "cell_type": "code",
   "execution_count": 95,
   "metadata": {},
   "outputs": [],
   "source": [
    "%%R\n",
    "library(tidyverse)"
   ]
  },
  {
   "cell_type": "code",
   "execution_count": 96,
   "metadata": {},
   "outputs": [
    {
     "data": {
      "image/png": "[encoded data removed]"
     },
     "metadata": {},
     "output_type": "display_data"
    }
   ],
   "source": [
    "%%R\n",
    "ggplot(mpg,aes(x=displ,y=hwy))+geom_point(aes(color=class))"
   ]
  },
  {
   "cell_type": "markdown",
   "metadata": {},
   "source": [
    "This is a plot from LAB 3. So what I have done is successfully run a piece of R code in a Python notebook. This is useful to a point, but the real power comes from the possibility of passing values and variables to and from Python. "
   ]
  },
  {
   "cell_type": "markdown",
   "metadata": {},
   "source": [
    "#### Going from R to Python\n",
    "\n",
    "There are multiple ways to get from R to Python. This first is using the `-o` command. This will output a list of variables that you define in the R cell into Python. "
   ]
  },
  {
   "cell_type": "code",
   "execution_count": 97,
   "metadata": {},
   "outputs": [],
   "source": [
    "%%R -o mpg_data\n",
    "\n",
    "mpg_data<-mpg"
   ]
  },
  {
   "cell_type": "markdown",
   "metadata": {},
   "source": [
    "The `mpg` dataset from tidyverse in now in Python with the variable `mpg_data`"
   ]
  },
  {
   "cell_type": "code",
   "execution_count": 98,
   "metadata": {},
   "outputs": [
    {
     "data": {
      "text/html": [
       "<div>\n",
       "<style scoped>\n",
       "    .dataframe tbody tr th:only-of-type {\n",
       "        vertical-align: middle;\n",
       "    }\n",
       "\n",
       "    .dataframe tbody tr th {\n",
       "        vertical-align: top;\n",
       "    }\n",
       "\n",
       "    .dataframe thead th {\n",
       "        text-align: right;\n",
       "    }\n",
       "</style>\n",
       "<table border=\"1\" class=\"dataframe\">\n",
       "  <thead>\n",
       "    <tr style=\"text-align: right;\">\n",
       "      <th></th>\n",
       "      <th>manufacturer</th>\n",
       "      <th>model</th>\n",
       "      <th>displ</th>\n",
       "      <th>year</th>\n",
       "      <th>cyl</th>\n",
       "      <th>trans</th>\n",
       "      <th>drv</th>\n",
       "      <th>cty</th>\n",
       "      <th>hwy</th>\n",
       "      <th>fl</th>\n",
       "      <th>class</th>\n",
       "    </tr>\n",
       "  </thead>\n",
       "  <tbody>\n",
       "    <tr>\n",
       "      <th>1</th>\n",
       "      <td>audi</td>\n",
       "      <td>a4</td>\n",
       "      <td>1.8</td>\n",
       "      <td>1999</td>\n",
       "      <td>4</td>\n",
       "      <td>auto(l5)</td>\n",
       "      <td>f</td>\n",
       "      <td>18</td>\n",
       "      <td>29</td>\n",
       "      <td>p</td>\n",
       "      <td>compact</td>\n",
       "    </tr>\n",
       "    <tr>\n",
       "      <th>2</th>\n",
       "      <td>audi</td>\n",
       "      <td>a4</td>\n",
       "      <td>1.8</td>\n",
       "      <td>1999</td>\n",
       "      <td>4</td>\n",
       "      <td>manual(m5)</td>\n",
       "      <td>f</td>\n",
       "      <td>21</td>\n",
       "      <td>29</td>\n",
       "      <td>p</td>\n",
       "      <td>compact</td>\n",
       "    </tr>\n",
       "    <tr>\n",
       "      <th>3</th>\n",
       "      <td>audi</td>\n",
       "      <td>a4</td>\n",
       "      <td>2.0</td>\n",
       "      <td>2008</td>\n",
       "      <td>4</td>\n",
       "      <td>manual(m6)</td>\n",
       "      <td>f</td>\n",
       "      <td>20</td>\n",
       "      <td>31</td>\n",
       "      <td>p</td>\n",
       "      <td>compact</td>\n",
       "    </tr>\n",
       "    <tr>\n",
       "      <th>4</th>\n",
       "      <td>audi</td>\n",
       "      <td>a4</td>\n",
       "      <td>2.0</td>\n",
       "      <td>2008</td>\n",
       "      <td>4</td>\n",
       "      <td>auto(av)</td>\n",
       "      <td>f</td>\n",
       "      <td>21</td>\n",
       "      <td>30</td>\n",
       "      <td>p</td>\n",
       "      <td>compact</td>\n",
       "    </tr>\n",
       "    <tr>\n",
       "      <th>5</th>\n",
       "      <td>audi</td>\n",
       "      <td>a4</td>\n",
       "      <td>2.8</td>\n",
       "      <td>1999</td>\n",
       "      <td>6</td>\n",
       "      <td>auto(l5)</td>\n",
       "      <td>f</td>\n",
       "      <td>16</td>\n",
       "      <td>26</td>\n",
       "      <td>p</td>\n",
       "      <td>compact</td>\n",
       "    </tr>\n",
       "    <tr>\n",
       "      <th>...</th>\n",
       "      <td>...</td>\n",
       "      <td>...</td>\n",
       "      <td>...</td>\n",
       "      <td>...</td>\n",
       "      <td>...</td>\n",
       "      <td>...</td>\n",
       "      <td>...</td>\n",
       "      <td>...</td>\n",
       "      <td>...</td>\n",
       "      <td>...</td>\n",
       "      <td>...</td>\n",
       "    </tr>\n",
       "    <tr>\n",
       "      <th>230</th>\n",
       "      <td>volkswagen</td>\n",
       "      <td>passat</td>\n",
       "      <td>2.0</td>\n",
       "      <td>2008</td>\n",
       "      <td>4</td>\n",
       "      <td>auto(s6)</td>\n",
       "      <td>f</td>\n",
       "      <td>19</td>\n",
       "      <td>28</td>\n",
       "      <td>p</td>\n",
       "      <td>midsize</td>\n",
       "    </tr>\n",
       "    <tr>\n",
       "      <th>231</th>\n",
       "      <td>volkswagen</td>\n",
       "      <td>passat</td>\n",
       "      <td>2.0</td>\n",
       "      <td>2008</td>\n",
       "      <td>4</td>\n",
       "      <td>manual(m6)</td>\n",
       "      <td>f</td>\n",
       "      <td>21</td>\n",
       "      <td>29</td>\n",
       "      <td>p</td>\n",
       "      <td>midsize</td>\n",
       "    </tr>\n",
       "    <tr>\n",
       "      <th>232</th>\n",
       "      <td>volkswagen</td>\n",
       "      <td>passat</td>\n",
       "      <td>2.8</td>\n",
       "      <td>1999</td>\n",
       "      <td>6</td>\n",
       "      <td>auto(l5)</td>\n",
       "      <td>f</td>\n",
       "      <td>16</td>\n",
       "      <td>26</td>\n",
       "      <td>p</td>\n",
       "      <td>midsize</td>\n",
       "    </tr>\n",
       "    <tr>\n",
       "      <th>233</th>\n",
       "      <td>volkswagen</td>\n",
       "      <td>passat</td>\n",
       "      <td>2.8</td>\n",
       "      <td>1999</td>\n",
       "      <td>6</td>\n",
       "      <td>manual(m5)</td>\n",
       "      <td>f</td>\n",
       "      <td>18</td>\n",
       "      <td>26</td>\n",
       "      <td>p</td>\n",
       "      <td>midsize</td>\n",
       "    </tr>\n",
       "    <tr>\n",
       "      <th>234</th>\n",
       "      <td>volkswagen</td>\n",
       "      <td>passat</td>\n",
       "      <td>3.6</td>\n",
       "      <td>2008</td>\n",
       "      <td>6</td>\n",
       "      <td>auto(s6)</td>\n",
       "      <td>f</td>\n",
       "      <td>17</td>\n",
       "      <td>26</td>\n",
       "      <td>p</td>\n",
       "      <td>midsize</td>\n",
       "    </tr>\n",
       "  </tbody>\n",
       "</table>\n",
       "<p>234 rows × 11 columns</p>\n",
       "</div>"
      ],
      "text/plain": [
       "    manufacturer   model  displ  year  cyl       trans drv  cty  hwy fl  \\\n",
       "1           audi      a4    1.8  1999    4    auto(l5)   f   18   29  p   \n",
       "2           audi      a4    1.8  1999    4  manual(m5)   f   21   29  p   \n",
       "3           audi      a4    2.0  2008    4  manual(m6)   f   20   31  p   \n",
       "4           audi      a4    2.0  2008    4    auto(av)   f   21   30  p   \n",
       "5           audi      a4    2.8  1999    6    auto(l5)   f   16   26  p   \n",
       "..           ...     ...    ...   ...  ...         ...  ..  ...  ... ..   \n",
       "230   volkswagen  passat    2.0  2008    4    auto(s6)   f   19   28  p   \n",
       "231   volkswagen  passat    2.0  2008    4  manual(m6)   f   21   29  p   \n",
       "232   volkswagen  passat    2.8  1999    6    auto(l5)   f   16   26  p   \n",
       "233   volkswagen  passat    2.8  1999    6  manual(m5)   f   18   26  p   \n",
       "234   volkswagen  passat    3.6  2008    6    auto(s6)   f   17   26  p   \n",
       "\n",
       "       class  \n",
       "1    compact  \n",
       "2    compact  \n",
       "3    compact  \n",
       "4    compact  \n",
       "5    compact  \n",
       "..       ...  \n",
       "230  midsize  \n",
       "231  midsize  \n",
       "232  midsize  \n",
       "233  midsize  \n",
       "234  midsize  \n",
       "\n",
       "[234 rows x 11 columns]"
      ]
     },
     "execution_count": 98,
     "metadata": {},
     "output_type": "execute_result"
    }
   ],
   "source": [
    "mpg_data"
   ]
  },
  {
   "cell_type": "markdown",
   "metadata": {},
   "source": [
    "If we look at the type of this variable, we will see that it is a pandas dataframe. This is one important reason to load the `pandas` library into your notebook."
   ]
  },
  {
   "cell_type": "code",
   "execution_count": 99,
   "metadata": {},
   "outputs": [
    {
     "data": {
      "text/plain": [
       "pandas.core.frame.DataFrame"
      ]
     },
     "execution_count": 99,
     "metadata": {},
     "output_type": "execute_result"
    }
   ],
   "source": [
    "type(mpg_data)"
   ]
  },
  {
   "cell_type": "markdown",
   "metadata": {},
   "source": [
    "Another way to go from R to python is to use the `%Rget` magic. You can use this command in a python cell and it will retrieve an R variable from R"
   ]
  },
  {
   "cell_type": "code",
   "execution_count": 100,
   "metadata": {},
   "outputs": [
    {
     "name": "stdout",
     "output_type": "stream",
     "text": [
      "  [1]  0.585385227 -0.705659567 -0.648798187  1.571860260  0.957780091\n",
      "  [6]  0.098449584  1.803818569  0.895610186 -1.324331090  0.899490366\n",
      " [11] -0.027267851 -0.182476113  0.478921633  1.405367983  2.154289606\n",
      " [16] -0.313730269  0.398493861 -0.251250117  0.999767234  1.548556528\n",
      " [21]  0.882456317 -0.088815287  0.751694190 -0.824094364  1.341497532\n",
      " [26] -0.354017906  0.589587958 -1.457905118  0.836022813  0.347830803\n",
      " [31]  1.084962504  0.145268183  0.286702203 -0.665201971  1.330909559\n",
      " [36] -1.156531872  0.132962209  0.474814824 -0.372011509 -0.465149173\n",
      " [41] -0.344732883 -0.290742097 -1.359818886  0.415238006 -0.600287122\n",
      " [46]  0.163352557 -0.270156274  0.064166536  0.392725534 -0.356909909\n",
      " [51] -1.427888337 -0.432552768 -1.133540670  0.733042229 -0.379356595\n",
      " [56]  1.748536226 -0.149734017 -0.532544117  0.828872677  0.272619382\n",
      " [61] -0.244563186  0.953272702  0.900239152 -1.238571975  0.595239449\n",
      " [66]  0.849743366  0.432303577 -0.085017409 -1.533964377 -0.448993471\n",
      " [71]  0.092179777  1.019966136 -2.165973999  0.340154261 -0.522437825\n",
      " [76]  0.184004468  0.052295650 -0.424984312  0.422887916 -1.426956925\n",
      " [81] -0.923566006  0.990456249 -2.400717913 -0.931170517 -0.363955947\n",
      " [86]  0.052163867  0.198986038  0.800596601 -1.229779023 -0.751429513\n",
      " [91] -0.519586051  0.372843496  1.199945687  0.438797668  0.967362478\n",
      " [96] -0.002125993 -0.368537256 -1.420938821  0.274237253 -0.503811610\n"
     ]
    }
   ],
   "source": [
    "%%R\n",
    "normal_vector <- rnorm(100)\n",
    "normal_vector"
   ]
  },
  {
   "cell_type": "code",
   "execution_count": 101,
   "metadata": {},
   "outputs": [
    {
     "data": {
      "text/plain": [
       "array([ 5.85385227e-01, -7.05659567e-01, -6.48798187e-01,  1.57186026e+00,\n",
       "        9.57780091e-01,  9.84495839e-02,  1.80381857e+00,  8.95610186e-01,\n",
       "       -1.32433109e+00,  8.99490366e-01, -2.72678506e-02, -1.82476113e-01,\n",
       "        4.78921633e-01,  1.40536798e+00,  2.15428961e+00, -3.13730269e-01,\n",
       "        3.98493861e-01, -2.51250117e-01,  9.99767234e-01,  1.54855653e+00,\n",
       "        8.82456317e-01, -8.88152866e-02,  7.51694190e-01, -8.24094364e-01,\n",
       "        1.34149753e+00, -3.54017906e-01,  5.89587958e-01, -1.45790512e+00,\n",
       "        8.36022813e-01,  3.47830803e-01,  1.08496250e+00,  1.45268183e-01,\n",
       "        2.86702203e-01, -6.65201971e-01,  1.33090956e+00, -1.15653187e+00,\n",
       "        1.32962209e-01,  4.74814824e-01, -3.72011509e-01, -4.65149173e-01,\n",
       "       -3.44732883e-01, -2.90742097e-01, -1.35981889e+00,  4.15238006e-01,\n",
       "       -6.00287122e-01,  1.63352557e-01, -2.70156274e-01,  6.41665356e-02,\n",
       "        3.92725534e-01, -3.56909909e-01, -1.42788834e+00, -4.32552768e-01,\n",
       "       -1.13354067e+00,  7.33042229e-01, -3.79356595e-01,  1.74853623e+00,\n",
       "       -1.49734017e-01, -5.32544117e-01,  8.28872677e-01,  2.72619382e-01,\n",
       "       -2.44563186e-01,  9.53272702e-01,  9.00239152e-01, -1.23857198e+00,\n",
       "        5.95239449e-01,  8.49743366e-01,  4.32303577e-01, -8.50174090e-02,\n",
       "       -1.53396438e+00, -4.48993471e-01,  9.21797768e-02,  1.01996614e+00,\n",
       "       -2.16597400e+00,  3.40154261e-01, -5.22437825e-01,  1.84004468e-01,\n",
       "        5.22956500e-02, -4.24984312e-01,  4.22887916e-01, -1.42695693e+00,\n",
       "       -9.23566006e-01,  9.90456249e-01, -2.40071791e+00, -9.31170517e-01,\n",
       "       -3.63955947e-01,  5.21638669e-02,  1.98986038e-01,  8.00596601e-01,\n",
       "       -1.22977902e+00, -7.51429513e-01, -5.19586051e-01,  3.72843496e-01,\n",
       "        1.19994569e+00,  4.38797668e-01,  9.67362478e-01, -2.12599269e-03,\n",
       "       -3.68537256e-01, -1.42093882e+00,  2.74237253e-01, -5.03811610e-01])"
      ]
     },
     "execution_count": 101,
     "metadata": {},
     "output_type": "execute_result"
    }
   ],
   "source": [
    "normal_vector_py= %Rget normal_vector\n",
    "normal_vector_py"
   ]
  },
  {
   "cell_type": "markdown",
   "metadata": {},
   "source": [
    "In this case we have an array of 100 values from the standard normal distribution."
   ]
  },
  {
   "cell_type": "markdown",
   "metadata": {},
   "source": [
    "#### Going from Python to R\n",
    "\n",
    "Now going from Python to R is roughly the same. We can either use `- i` or use `%Rpush`. One thing that we need to be careful about is that when interacting between R and Python we should use data frames and arrays. Python lists will be a strange type in R. \n",
    "\n",
    "Before I go over the example, I will first make a data frame and an array. "
   ]
  },
  {
   "cell_type": "code",
   "execution_count": 102,
   "metadata": {},
   "outputs": [],
   "source": [
    "d = {'pos': [1, 2, 3, 4, 5, 6, 7], 'neg': [-7,-6,-5,-4,-3,-2,-1]}\n",
    "python_data_frame = pd.DataFrame(data=d)\n",
    "\n",
    "python_vector = np.array([1,2,3,4,5,6,7,-7,-6,-5,-4,-3,-2,1])"
   ]
  },
  {
   "cell_type": "markdown",
   "metadata": {},
   "source": [
    "Now I can use an R cell with `-i` to input variables"
   ]
  },
  {
   "cell_type": "code",
   "execution_count": 103,
   "metadata": {},
   "outputs": [
    {
     "data": {
      "image/png": "[encoded data removed]"
     },
     "metadata": {},
     "output_type": "display_data"
    }
   ],
   "source": [
    "%%R -i python_data_frame\n",
    "ggplot(python_data_frame,aes(x=pos,y=neg))+geom_point()"
   ]
  },
  {
   "cell_type": "markdown",
   "metadata": {},
   "source": [
    "Or I can use the `%Rpush` in a python block"
   ]
  },
  {
   "cell_type": "code",
   "execution_count": 104,
   "metadata": {},
   "outputs": [],
   "source": [
    "%Rpush python_vector"
   ]
  },
  {
   "cell_type": "code",
   "execution_count": 105,
   "metadata": {},
   "outputs": [
    {
     "name": "stdout",
     "output_type": "stream",
     "text": [
      " [1]  1  2  3  4  5  6  7 -7 -6 -5 -4 -3 -2  1\n"
     ]
    }
   ],
   "source": [
    "%%R\n",
    "python_vector"
   ]
  },
  {
   "cell_type": "markdown",
   "metadata": {},
   "source": [
    "These are really just the absolute basics of how R and Python can interact. Our main purpose for setting up this bridge is that we will be using Python to interact with online data and then using it to pass into R. "
   ]
  },
  {
   "cell_type": "markdown",
   "metadata": {},
   "source": [
    "#### A Note for Rstudio Users\n",
    "\n",
    "In order to use Python variables in your R code you should use the format `py$python_variable` So for instant to get the Python vector as I did above in R studio I would the following in Rstudio\n",
    "\n",
    "```\n",
    "```{python}\n",
    "python_vector = np.array([1,2,3,4,5,6,7,-7,-6,-5,-4,-3,-2,1])\n",
    "`` `\n",
    "```\n",
    "\n",
    "```\n",
    "```{r}\n",
    "py$python_vector\n",
    "`` `\n",
    "```"
   ]
  },
  {
   "cell_type": "markdown",
   "metadata": {},
   "source": [
    "## Interacting with Data Online\n",
    "\n",
    "### APIs\n",
    "\n",
    "APIs are the driving force behind data mash-ups. It is APIs that allow machines to access data programmatically (that is automatically from within a program) to make use of API provided functionalities and data. Without APIs much of today's Web 2.0, Apps and data applications would be outright impossible.\n",
    "\n",
    "#### Background on APIs\n",
    "API is short for **Application Programming Interface.** Basically, it means a way of accessing the functionality of a program from inside another program. So instead of performing an action using an interface that was made for humans, a point and click GUI for instance, an API allows a program to perform that action automatically. The power of this concept becomes only visible, when you imagine that you can mesh the calling of an API in the program with anything else that program might want to do. Some examples from data science:\n",
    "\n",
    "- Retrieve data and produce a visualization from it that gets updated every time someone looks at it\n",
    "- Have tweets automatically translated and entities reported\n",
    "- Have additional nodes in a computer cluster launched as soon as tasks become cumbersome, to ensure fast data processing\n",
    "\n",
    "While an API can be any defined interface between two programs, today APIs usually refer to a special kind of APIs that are based on the WWW's HyperText Transfer Protocol (HTTP) that is also used by web servers and browsers to exchange data. Indeed, one might consider browsing the web as using APIs: a program (the browser) uses a defined set of commands and conventions to retrieve data (the webpage) from a remote server (the website) and renders it locally in the browser (the thing you see).\n",
    "\n",
    "All web-based APIs have always the same structure: they consist of a URL to a domain and a path to an endpoint. For instance: *http://example.com/api* where *http://example.com* is the URL and /api is the path to the endpoint.\n",
    "\n",
    "A canonical example would be an API that allows one to retrieve data from some database. The API's query can be used to narrow down the selection. Let's say an API provides access to newspaper articles. By specifying the parameter year the API returns not all articles, but only those that were written in a specific year. Let's say we are only interested in articles written in 2014. The corresponding API call would, thus, look like: `http://example.com/api?year=2014.` We already know which part is the URL and which part is the path to the endpoint. What's new is the query `year=2014`. Note that it's separated from the path by a question mark. In this example, year is the name of the parameter, and 2014 is its value.\n",
    "\n",
    "For instance, we can use the website https://cat-fact.herokuapp.com. This website gives different animal facts. We can use a similar call to the example above but since this website has nothing to do with news articles or yearsinstead of `year` we will use `animal_type` which is a parameter for this API.\n",
    "\n",
    "When we plug `https://cat-fact.herokuapp.com/facts/random?animal_type=horse&amount=2` as a url into a web browser we are sending an API call.  \n",
    "\n",
    "Upon receiving the API call, the remote system crafts an answer. The answer can be in any format. It could be a image file, or a movie, or text, or anything number of things. In recent years, JSON (JavaScript Object Notation) has become the most common answer format by far. JSON is a simple text file that uses special characters and conventions to bring structure into its contents. You can find more info at the Wikipedia page on JSON (https://en.wikipedia.org/wiki/JSON). For now it suffices to know that it is a popular format to store data, that can potentially be nested and delivered together with metadata. And that both R and Python can process it quite easily.\n",
    "\n",
    "\n",
    "The response we get from the call `https://cat-fact.herokuapp.com/facts/random?animal_type=horse&amount=2` is \n",
    "\n",
    "<img src=\"LAB5img1.png\">\n",
    "\n",
    "This is the JSON form of the response from the API. We can see that there are two entries; 0 and 1. We can also see that the text of these entries are facts about horses.\n",
    "\n",
    "0. Horses use their ears, eyes and nostrils to express their mood. They also communicate their feelings through facial expressions.\n",
    "1. Most horses gallop at around 44 kph or 27 mph.\n",
    "\n",
    "When we look at the raw data we can see the same information in a different format,\n",
    "\n",
    "<img src=\"LAB5img2.png\">\n",
    "\n",
    "\n",
    "The big problem with APIs is that they are always designed by humans. So APIs vary wildly in logical structure and the quality of documentation. This unfortunately means, that there is no simple catch-all solution for working with APIs and all programs will need to be custom tailored to the API used. This also means that using an API almost always requires programming to some degree. Using Python makes sifting through API responses much easier."
   ]
  },
  {
   "cell_type": "markdown",
   "metadata": {},
   "source": [
    "#### API Requests\n",
    "\n",
    "Web-based APIs requests that are used for data science come usually in two flavors that are named after the HTTP verbs defined:\n",
    "\n",
    "`GET` - sends a set of parameters, a query to an endpoint and then receives an answer.\n",
    "\n",
    "`POST`- sends a data payload to an endpoint to be processed at the remote system, usually receiving only a success message as an answer.\n",
    "\n",
    "In order to use almost any API in Python you will need the `requests` library. The `requests` lets Python send `POST` and `GET` requests through http."
   ]
  },
  {
   "cell_type": "code",
   "execution_count": 1,
   "metadata": {},
   "outputs": [],
   "source": [
    "import requests as req"
   ]
  },
  {
   "cell_type": "markdown",
   "metadata": {},
   "source": [
    "We can use the requests library to perform the API call for horse facts that we did above. However, this time we can put in parameters and pull specific inforamtion from the response, i.e. the horse facts."
   ]
  },
  {
   "cell_type": "code",
   "execution_count": 107,
   "metadata": {},
   "outputs": [],
   "source": [
    "response=req.get('https://cat-fact.herokuapp.com/facts/random?animal_type=horse&amount=2')"
   ]
  },
  {
   "cell_type": "markdown",
   "metadata": {},
   "source": [
    "There are a few things that we should do before we start working with the response we received. First we should check the response to make sure our query worked. We are looking to get a response of `200`. We use `status_code` to get the response."
   ]
  },
  {
   "cell_type": "code",
   "execution_count": 108,
   "metadata": {},
   "outputs": [
    {
     "data": {
      "text/plain": [
       "200"
      ]
     },
     "execution_count": 108,
     "metadata": {},
     "output_type": "execute_result"
    }
   ],
   "source": [
    "response.status_code"
   ]
  },
  {
   "cell_type": "markdown",
   "metadata": {},
   "source": [
    "Huzzah! We got the `200` response. This means that our query was successful. Other responses to keep in mind are \n",
    "\n",
    "- `204` : No content. This means your query was ok, but there isn't any content associated to the query.\n",
    "- `400` : Bad request. This means that there is a mistake in your query.\n",
    "- `401` : Unauthorized. This means that you need some authentification to access the content.\n",
    "- `403` : Forbidden: This means you aren't allowed to access this content.\n",
    "- `404` : Not Found: This means that your API endpoitn is correct but one of your parameters probably doesn't exist.\n",
    "\n",
    "Let's look at the content we pulled."
   ]
  },
  {
   "cell_type": "code",
   "execution_count": 109,
   "metadata": {},
   "outputs": [
    {
     "data": {
      "text/plain": [
       "b'[{\"status\":{\"verified\":true,\"sentCount\":1},\"type\":\"horse\",\"deleted\":false,\"_id\":\"5b7a06ee2048fd0014e9d8a7\",\"updatedAt\":\"2020-09-16T20:20:04.165Z\",\"createdAt\":\"2018-08-20T00:10:22.091Z\",\"user\":\"5a9ac18c7478810ea6c06381\",\"text\":\"There are approximately 58 million horses in the world and the vast majority are cared for by humans.\",\"source\":\"user\",\"__v\":0,\"used\":true},{\"status\":{\"verified\":true,\"sentCount\":1},\"type\":\"horse\",\"deleted\":false,\"_id\":\"5b7a07552048fd0014e9d8ac\",\"updatedAt\":\"2020-09-26T05:38:38.980Z\",\"createdAt\":\"2018-08-20T00:12:05.725Z\",\"user\":\"5a9ac18c7478810ea6c06381\",\"text\":\"Horses are generally thought of as grazers (animals that eat grass) as opposed to browsers (animals that eat leaves, shrubs, and brushy plants).\",\"source\":\"user\",\"__v\":0,\"used\":true}]'"
      ]
     },
     "execution_count": 109,
     "metadata": {},
     "output_type": "execute_result"
    }
   ],
   "source": [
    "response.content"
   ]
  },
  {
   "cell_type": "markdown",
   "metadata": {},
   "source": [
    "This looks similar to the raw data from our url request. That's because it is. Now we just need to pull out our horse facts. To do this it is easier to work with the JSON format. To see the JSON format we just use `response.json()`"
   ]
  },
  {
   "cell_type": "code",
   "execution_count": 110,
   "metadata": {},
   "outputs": [
    {
     "data": {
      "text/plain": [
       "[{'status': {'verified': True, 'sentCount': 1},\n",
       "  'type': 'horse',\n",
       "  'deleted': False,\n",
       "  '_id': '5b7a06ee2048fd0014e9d8a7',\n",
       "  'updatedAt': '2020-09-16T20:20:04.165Z',\n",
       "  'createdAt': '2018-08-20T00:10:22.091Z',\n",
       "  'user': '5a9ac18c7478810ea6c06381',\n",
       "  'text': 'There are approximately 58 million horses in the world and the vast majority are cared for by humans.',\n",
       "  'source': 'user',\n",
       "  '__v': 0,\n",
       "  'used': True},\n",
       " {'status': {'verified': True, 'sentCount': 1},\n",
       "  'type': 'horse',\n",
       "  'deleted': False,\n",
       "  '_id': '5b7a07552048fd0014e9d8ac',\n",
       "  'updatedAt': '2020-09-26T05:38:38.980Z',\n",
       "  'createdAt': '2018-08-20T00:12:05.725Z',\n",
       "  'user': '5a9ac18c7478810ea6c06381',\n",
       "  'text': 'Horses are generally thought of as grazers (animals that eat grass) as opposed to browsers (animals that eat leaves, shrubs, and brushy plants).',\n",
       "  'source': 'user',\n",
       "  '__v': 0,\n",
       "  'used': True}]"
      ]
     },
     "execution_count": 110,
     "metadata": {},
     "output_type": "execute_result"
    }
   ],
   "source": [
    "response.json()"
   ]
  },
  {
   "cell_type": "markdown",
   "metadata": {},
   "source": [
    "Now we can iterate through each entry."
   ]
  },
  {
   "cell_type": "code",
   "execution_count": 111,
   "metadata": {},
   "outputs": [
    {
     "name": "stdout",
     "output_type": "stream",
     "text": [
      "There are approximately 58 million horses in the world and the vast majority are cared for by humans.\n",
      "Horses are generally thought of as grazers (animals that eat grass) as opposed to browsers (animals that eat leaves, shrubs, and brushy plants).\n"
     ]
    }
   ],
   "source": [
    "for fact_data in response.json():\n",
    "    print(fact_data[\"text\"])"
   ]
  },
  {
   "cell_type": "markdown",
   "metadata": {},
   "source": [
    "There we go. We successfully called a website, pulled data from it, and then displayed our desired data in Python.\n",
    "\n",
    "One thing we can note is that sometimes our queries can get quite long. However, we don't always need to include them in the url. We can use headers and parameters instead"
   ]
  },
  {
   "cell_type": "code",
   "execution_count": 112,
   "metadata": {},
   "outputs": [],
   "source": [
    "response=req.get('https://cat-fact.herokuapp.com/facts/random', params={'animal_type': 'horse', 'amount': '2'})"
   ]
  },
  {
   "cell_type": "markdown",
   "metadata": {},
   "source": [
    "This code is that same as the one before but instead of using a long url we used parameters. Now let's do the whole process in a single cell."
   ]
  },
  {
   "cell_type": "code",
   "execution_count": 113,
   "metadata": {},
   "outputs": [
    {
     "name": "stdout",
     "output_type": "stream",
     "text": [
      "The record for the highest jump made by a horse is held by a horse named Huaso who jumped 8 feet, 1 and 1/4 inches on February 5th, 1949 in Vina del Mar, Chile. He was ridden by Captain Alberto Larraguibel.\n",
      "Horses produce approximately 10 gallons of saliva a day.\n"
     ]
    }
   ],
   "source": [
    "response=req.get('https://cat-fact.herokuapp.com/facts/random', params={'animal_type': 'horse', 'amount': '2'})\n",
    "for fact_data in response.json():\n",
    "    print(fact_data[\"text\"])"
   ]
  },
  {
   "cell_type": "markdown",
   "metadata": {},
   "source": [
    "That is a good toy example, but let's do something more complex."
   ]
  },
  {
   "cell_type": "markdown",
   "metadata": {},
   "source": [
    "#### Data.gov\n",
    "**Data.gov** catalogs government data and makes them available on the web; you can find data in a variety of topics such as agriculture, business, climate, education, energy, finance, public safety and many more. It is a good start point for finding data if you don't already know which particular data source to begin your search, however it can still be time consuming when it comes to actually download the raw data you need. Fortunately, Data.gov also includes APIs from across government, which can help with obtaining raw datasets. \n",
    "\n",
    "\n",
    "A lot of agencies nowadays don't let just anyone access their API. In some cases you may have to pay for it, but in others it is as easy as just confirming your email. Data.gov is one where all you need to do is verify your email to get access to the API.\n",
    "\n",
    "Get your API key at: https://api.data.gov/signup/. In order to run a lot of the following codes you will need your API key. Since your API key is a personal identification it is probably best to keep this in a separate file and load it into Python."
   ]
  },
  {
   "cell_type": "markdown",
   "metadata": {},
   "source": [
    "##### College Scorecard Data API\n",
    "Data.gov is quite large and has over 250,000 data sets to investigate. By getting your own API key you will have access to them all.\n",
    "\n",
    "The College Scorecard project provides information of college costs and outcomes at individual postsecondary institution level. Reading the documentation of this data will help with understanding how this dataset is structured. **ALWAYS READ THE DOCUMENTATION**\n",
    "\n",
    "In the following example, we'll download all available data for Gonzaga University, then extract variables from the downloaded data.\n",
    "\n",
    "Set the variable **myapikey** to the api key sent to you in your email."
   ]
  },
  {
   "cell_type": "code",
   "execution_count": 114,
   "metadata": {},
   "outputs": [],
   "source": [
    "f = open(\"gov_apikey.txt\")\n",
    "gov_apikey = f.read();\n",
    "f.close();"
   ]
  },
  {
   "cell_type": "markdown",
   "metadata": {},
   "source": [
    "Now we set our URL to our API endpoint and then request data about Gonzaga University."
   ]
  },
  {
   "cell_type": "code",
   "execution_count": 256,
   "metadata": {},
   "outputs": [],
   "source": [
    "URL = \"https://api.data.gov/ed/collegescorecard/v1/schools?\"\n",
    "gonzaga_response = req.get(URL, params={'api_key' : gov_apikey, 'school.name':'Gonzaga University'})"
   ]
  },
  {
   "cell_type": "markdown",
   "metadata": {},
   "source": [
    "Again, seeing the JSON of the data is a bit easier. The JSON format is in the form of a Python dictionary. Dictionaries are convienient lists that help you access specific entries by keys. Let's look at the keys in the response. Here we can see that there are two keys; `metadata` and `results`. We want what is in the results portion"
   ]
  },
  {
   "cell_type": "code",
   "execution_count": 258,
   "metadata": {},
   "outputs": [
    {
     "data": {
      "text/plain": [
       "dict_keys(['metadata', 'results'])"
      ]
     },
     "execution_count": 258,
     "metadata": {},
     "output_type": "execute_result"
    }
   ],
   "source": [
    "gonzaga_response.json().keys()"
   ]
  },
  {
   "cell_type": "markdown",
   "metadata": {},
   "source": [
    "We can select what is in the results portion. If we do this then we get a complete read out of all the data that college scorecard has on Gonzaga."
   ]
  },
  {
   "cell_type": "code",
   "execution_count": 262,
   "metadata": {},
   "outputs": [
    {
     "data": {
      "text/plain": [
       "dict_keys(['2012', '2011', '2010', '2009', '1998', '2008', '1997', '2007', '1996', '2006', '2005', 'school', '2004', '2003', '2002', 'id', 'latest', '1999', '2001', '2000', 'fed_sch_cd', '2018', 'ope6_id', '2017', '2016', '2015', '2014', '2013', 'ope8_id', 'location'])"
      ]
     },
     "execution_count": 262,
     "metadata": {},
     "output_type": "execute_result"
    }
   ],
   "source": [
    "gonzaga_response.json()['results'][0].keys()"
   ]
  },
  {
   "cell_type": "markdown",
   "metadata": {},
   "source": [
    "OK. So it is broken down by year. Let's see if we can find what the tuition was in 2018."
   ]
  },
  {
   "cell_type": "code",
   "execution_count": 119,
   "metadata": {},
   "outputs": [
    {
     "data": {
      "text/plain": [
       "{'avg_net_price': {'private': 33545,\n",
       "  'public': None,\n",
       "  'other_academic_year': None,\n",
       "  'overall': 33545,\n",
       "  'program_year': None},\n",
       " 'net_price': {'private': {'by_income_level': {'0-48000': 25268,\n",
       "    '30001-75000': 27806,\n",
       "    '30001-48000': 25802,\n",
       "    '75000-plus': 36083,\n",
       "    '0-30000': 24865,\n",
       "    '75001-110000': 33156,\n",
       "    '110001-plus': 37136,\n",
       "    '48001-75000': 29034}},\n",
       "  'public': {'by_income_level': {'0-48000': None,\n",
       "    '30001-75000': None,\n",
       "    '30001-48000': None,\n",
       "    '75000-plus': None,\n",
       "    '0-30000': None,\n",
       "    '75001-110000': None,\n",
       "    '110001-plus': None,\n",
       "    '48001-75000': None}},\n",
       "  'other_acad_calendar': {'by_income_level': {'0-48000': None,\n",
       "    '30001-75000': None,\n",
       "    '30001-48000': None,\n",
       "    '75000-plus': None,\n",
       "    '0-30000': None,\n",
       "    '75001-110000': None,\n",
       "    '110001-plus': None,\n",
       "    '48001-75000': None}},\n",
       "  'program_reporter': {'by_income_level': {'0-48000': None,\n",
       "    '30001-75000': None,\n",
       "    '30001-48000': None,\n",
       "    '75000-plus': None,\n",
       "    '0-30000': None,\n",
       "    '75001-110000': None,\n",
       "    '110001-plus': None,\n",
       "    '48001-75000': None}},\n",
       "  'consumer': {'by_income_level': {'0-48000': 25268,\n",
       "    '30001-75000': 27806,\n",
       "    '30001-48000': 25802,\n",
       "    '75000-plus': 36083,\n",
       "    '0-30000': 24865,\n",
       "    '750001-111000': 33156,\n",
       "    '110001-plus': 37136,\n",
       "    '48001-75000': 29034}}},\n",
       " 'tuition': {'out_of_state': 43210, 'in_state': 43210, 'program_year': None},\n",
       " 'program_reporter': {'program_2': {'cip_6_digit': {'annualized': None,\n",
       "    'full_program': None}},\n",
       "  'program_1': {'cip_6_digit': {'annualized': None, 'full_program': None}},\n",
       "  'program_4': {'cip_6_digit': {'annualized': None, 'full_program': None}},\n",
       "  'program_3': {'cip_6_digit': {'annualized': None, 'full_program': None}},\n",
       "  'program_6': {'cip_6_digit': {'annualized': None, 'full_program': None}},\n",
       "  'program_5': {'cip_6_digit': {'annualized': None, 'full_program': None}}},\n",
       " 'title_iv': {'private': {'all': 708,\n",
       "   'by_income_level': {'30001-48000': 49,\n",
       "    '0-30000': 65,\n",
       "    '75001-110000': 136,\n",
       "    '110001-plus': 378,\n",
       "    '48001-75000': 80}},\n",
       "  'academic_year': None,\n",
       "  'public': {'all': None,\n",
       "   'by_income_level': {'30001-48000': None,\n",
       "    '0-30000': None,\n",
       "    '75001-110000': None,\n",
       "    '110001-plus': None,\n",
       "    '48001-75000': None}},\n",
       "  'other_acad_calendar': {'by_income_level': {'30001-48000': None,\n",
       "    '0-30000': None,\n",
       "    '75001-110000': None,\n",
       "    '110001-plus': None,\n",
       "    '48001-75000': None}},\n",
       "  'program_reporter': {'by_income_level': {'30001-48000': None,\n",
       "    '0-30000': None,\n",
       "    '75001-110000': None,\n",
       "    '110001-plus': None,\n",
       "    '48001-75000': None}},\n",
       "  'program_year': None},\n",
       " 'attendance': {'academic_year': 57052, 'program_year': None}}"
      ]
     },
     "execution_count": 119,
     "metadata": {},
     "output_type": "execute_result"
    }
   ],
   "source": [
    "gonzaga_data.json()['results'][0]['2018']['cost']"
   ]
  },
  {
   "cell_type": "code",
   "execution_count": 120,
   "metadata": {},
   "outputs": [
    {
     "data": {
      "text/plain": [
       "{'out_of_state': 43210, 'in_state': 43210, 'program_year': None}"
      ]
     },
     "execution_count": 120,
     "metadata": {},
     "output_type": "execute_result"
    }
   ],
   "source": [
    "gonzaga_data.json()['results'][0]['2018']['cost']['tuition']"
   ]
  },
  {
   "cell_type": "code",
   "execution_count": 121,
   "metadata": {},
   "outputs": [
    {
     "data": {
      "text/plain": [
       "43210"
      ]
     },
     "execution_count": 121,
     "metadata": {},
     "output_type": "execute_result"
    }
   ],
   "source": [
    "gonzaga_data.json()['results'][0]['2018']['cost']['tuition']['in_state']"
   ]
  },
  {
   "cell_type": "markdown",
   "metadata": {},
   "source": [
    "So we now know what the tution of Gonzaga was in 2018. Using this list of keys we can pull the complete data about the tuition."
   ]
  },
  {
   "cell_type": "code",
   "execution_count": 122,
   "metadata": {},
   "outputs": [],
   "source": [
    "years= range(1996,2019)\n",
    "\n",
    "year_tuition=[]\n",
    "\n",
    "for year in years:\n",
    "    year_tuition.append([year,gonzaga_data.json()['results'][0][str(year)]['cost']['tuition']['in_state']])\n",
    "\n",
    "gonzaga_data=pd.DataFrame(year_tuition, columns=['year', 'tuition'])"
   ]
  },
  {
   "cell_type": "markdown",
   "metadata": {},
   "source": [
    "Now we can graph it using ggplot"
   ]
  },
  {
   "cell_type": "code",
   "execution_count": 123,
   "metadata": {},
   "outputs": [
    {
     "data": {
      "image/png": "[encoded data removed]"
     },
     "metadata": {},
     "output_type": "display_data"
    }
   ],
   "source": [
    "%%R -i gonzaga_data\n",
    "ggplot(gonzaga_data,aes(x=year,y=tuition))+\n",
    "  geom_point()"
   ]
  },
  {
   "cell_type": "markdown",
   "metadata": {},
   "source": [
    "We have successfully pulled data from the college scorecard API and used it to create a scatterplot in R. We can do all of this in R, but the code is just a little unwieldy compared to Python. Let's see how Python can really help us. \n",
    "\n",
    "The Peer 11 is a list of 11 schools that Seattle University (https://www.seattleu.edu/ir/peer-data/) uses in a lot of its analysis. \"Peer institutions provide benchmark comparisons that are essential to the university's assessment strategies and are used as one component in determining the relative health, growth and trajectory of the university.\" These universities are:\n",
    "- Creighton University \n",
    "- Gonzaga University   \n",
    "- Loyola University Maryland   \n",
    "- Loyola Marymount University \n",
    "- Santa Clara University   \n",
    "- University of Denver   \n",
    "- University of Portland   \n",
    "- University of San Diego   \n",
    "- University of San Francisco   \n",
    "- University of the Pacific   \n",
    "- Xavier University \n",
    "\n",
    "Let's use Python to create a tution comparison chart for these schools and Seattle University.\n"
   ]
  },
  {
   "cell_type": "code",
   "execution_count": 429,
   "metadata": {},
   "outputs": [
    {
     "ename": "JSONDecodeError",
     "evalue": "Extra data: line 1 column 5 (char 4)",
     "output_type": "error",
     "traceback": [
      "\u001b[0;31m---------------------------------------------------------------------------\u001b[0m",
      "\u001b[0;31mJSONDecodeError\u001b[0m                           Traceback (most recent call last)",
      "\u001b[0;32m<ipython-input-429-1fd5b137fa86>\u001b[0m in \u001b[0;36m<module>\u001b[0;34m\u001b[0m\n\u001b[1;32m     25\u001b[0m \u001b[0;32mfor\u001b[0m \u001b[0mschool\u001b[0m \u001b[0;32min\u001b[0m \u001b[0mschools\u001b[0m\u001b[0;34m:\u001b[0m\u001b[0;34m\u001b[0m\u001b[0;34m\u001b[0m\u001b[0m\n\u001b[1;32m     26\u001b[0m     \u001b[0;32mfor\u001b[0m \u001b[0myear\u001b[0m \u001b[0;32min\u001b[0m \u001b[0myears\u001b[0m\u001b[0;34m:\u001b[0m\u001b[0;34m\u001b[0m\u001b[0;34m\u001b[0m\u001b[0m\n\u001b[0;32m---> 27\u001b[0;31m         \u001b[0myear_tuition\u001b[0m\u001b[0;34m.\u001b[0m\u001b[0mappend\u001b[0m\u001b[0;34m(\u001b[0m\u001b[0;34m[\u001b[0m\u001b[0myear\u001b[0m\u001b[0;34m,\u001b[0m\u001b[0mschool_data\u001b[0m\u001b[0;34m[\u001b[0m\u001b[0mschool\u001b[0m\u001b[0;34m]\u001b[0m\u001b[0;34m.\u001b[0m\u001b[0mjson\u001b[0m\u001b[0;34m(\u001b[0m\u001b[0;34m)\u001b[0m\u001b[0;34m[\u001b[0m\u001b[0;34m'results'\u001b[0m\u001b[0;34m]\u001b[0m\u001b[0;34m[\u001b[0m\u001b[0;36m0\u001b[0m\u001b[0;34m]\u001b[0m\u001b[0;34m[\u001b[0m\u001b[0mstr\u001b[0m\u001b[0;34m(\u001b[0m\u001b[0myear\u001b[0m\u001b[0;34m)\u001b[0m\u001b[0;34m]\u001b[0m\u001b[0;34m[\u001b[0m\u001b[0;34m'cost'\u001b[0m\u001b[0;34m]\u001b[0m\u001b[0;34m[\u001b[0m\u001b[0;34m'tuition'\u001b[0m\u001b[0;34m]\u001b[0m\u001b[0;34m[\u001b[0m\u001b[0;34m'in_state'\u001b[0m\u001b[0;34m]\u001b[0m\u001b[0;34m,\u001b[0m\u001b[0mschool\u001b[0m\u001b[0;34m]\u001b[0m\u001b[0;34m)\u001b[0m\u001b[0;34m\u001b[0m\u001b[0;34m\u001b[0m\u001b[0m\n\u001b[0m\u001b[1;32m     28\u001b[0m \u001b[0;34m\u001b[0m\u001b[0m\n\u001b[1;32m     29\u001b[0m \u001b[0mschool_df\u001b[0m\u001b[0;34m=\u001b[0m\u001b[0mpd\u001b[0m\u001b[0;34m.\u001b[0m\u001b[0mDataFrame\u001b[0m\u001b[0;34m(\u001b[0m\u001b[0myear_tuition\u001b[0m\u001b[0;34m,\u001b[0m \u001b[0mcolumns\u001b[0m\u001b[0;34m=\u001b[0m\u001b[0;34m[\u001b[0m\u001b[0;34m'year'\u001b[0m\u001b[0;34m,\u001b[0m \u001b[0;34m'tuition'\u001b[0m\u001b[0;34m,\u001b[0m \u001b[0;34m'school'\u001b[0m\u001b[0;34m]\u001b[0m\u001b[0;34m)\u001b[0m\u001b[0;34m\u001b[0m\u001b[0;34m\u001b[0m\u001b[0m\n",
      "\u001b[0;32m~/opt/anaconda3/lib/python3.8/site-packages/requests/models.py\u001b[0m in \u001b[0;36mjson\u001b[0;34m(self, **kwargs)\u001b[0m\n\u001b[1;32m    896\u001b[0m                     \u001b[0;31m# used.\u001b[0m\u001b[0;34m\u001b[0m\u001b[0;34m\u001b[0m\u001b[0;34m\u001b[0m\u001b[0m\n\u001b[1;32m    897\u001b[0m                     \u001b[0;32mpass\u001b[0m\u001b[0;34m\u001b[0m\u001b[0;34m\u001b[0m\u001b[0m\n\u001b[0;32m--> 898\u001b[0;31m         \u001b[0;32mreturn\u001b[0m \u001b[0mcomplexjson\u001b[0m\u001b[0;34m.\u001b[0m\u001b[0mloads\u001b[0m\u001b[0;34m(\u001b[0m\u001b[0mself\u001b[0m\u001b[0;34m.\u001b[0m\u001b[0mtext\u001b[0m\u001b[0;34m,\u001b[0m \u001b[0;34m**\u001b[0m\u001b[0mkwargs\u001b[0m\u001b[0;34m)\u001b[0m\u001b[0;34m\u001b[0m\u001b[0;34m\u001b[0m\u001b[0m\n\u001b[0m\u001b[1;32m    899\u001b[0m \u001b[0;34m\u001b[0m\u001b[0m\n\u001b[1;32m    900\u001b[0m     \u001b[0;34m@\u001b[0m\u001b[0mproperty\u001b[0m\u001b[0;34m\u001b[0m\u001b[0;34m\u001b[0m\u001b[0m\n",
      "\u001b[0;32m~/opt/anaconda3/lib/python3.8/json/__init__.py\u001b[0m in \u001b[0;36mloads\u001b[0;34m(s, cls, object_hook, parse_float, parse_int, parse_constant, object_pairs_hook, **kw)\u001b[0m\n\u001b[1;32m    355\u001b[0m             \u001b[0mparse_int\u001b[0m \u001b[0;32mis\u001b[0m \u001b[0;32mNone\u001b[0m \u001b[0;32mand\u001b[0m \u001b[0mparse_float\u001b[0m \u001b[0;32mis\u001b[0m \u001b[0;32mNone\u001b[0m \u001b[0;32mand\u001b[0m\u001b[0;34m\u001b[0m\u001b[0;34m\u001b[0m\u001b[0m\n\u001b[1;32m    356\u001b[0m             parse_constant is None and object_pairs_hook is None and not kw):\n\u001b[0;32m--> 357\u001b[0;31m         \u001b[0;32mreturn\u001b[0m \u001b[0m_default_decoder\u001b[0m\u001b[0;34m.\u001b[0m\u001b[0mdecode\u001b[0m\u001b[0;34m(\u001b[0m\u001b[0ms\u001b[0m\u001b[0;34m)\u001b[0m\u001b[0;34m\u001b[0m\u001b[0;34m\u001b[0m\u001b[0m\n\u001b[0m\u001b[1;32m    358\u001b[0m     \u001b[0;32mif\u001b[0m \u001b[0mcls\u001b[0m \u001b[0;32mis\u001b[0m \u001b[0;32mNone\u001b[0m\u001b[0;34m:\u001b[0m\u001b[0;34m\u001b[0m\u001b[0;34m\u001b[0m\u001b[0m\n\u001b[1;32m    359\u001b[0m         \u001b[0mcls\u001b[0m \u001b[0;34m=\u001b[0m \u001b[0mJSONDecoder\u001b[0m\u001b[0;34m\u001b[0m\u001b[0;34m\u001b[0m\u001b[0m\n",
      "\u001b[0;32m~/opt/anaconda3/lib/python3.8/json/decoder.py\u001b[0m in \u001b[0;36mdecode\u001b[0;34m(self, s, _w)\u001b[0m\n\u001b[1;32m    338\u001b[0m         \u001b[0mend\u001b[0m \u001b[0;34m=\u001b[0m \u001b[0m_w\u001b[0m\u001b[0;34m(\u001b[0m\u001b[0ms\u001b[0m\u001b[0;34m,\u001b[0m \u001b[0mend\u001b[0m\u001b[0;34m)\u001b[0m\u001b[0;34m.\u001b[0m\u001b[0mend\u001b[0m\u001b[0;34m(\u001b[0m\u001b[0;34m)\u001b[0m\u001b[0;34m\u001b[0m\u001b[0;34m\u001b[0m\u001b[0m\n\u001b[1;32m    339\u001b[0m         \u001b[0;32mif\u001b[0m \u001b[0mend\u001b[0m \u001b[0;34m!=\u001b[0m \u001b[0mlen\u001b[0m\u001b[0;34m(\u001b[0m\u001b[0ms\u001b[0m\u001b[0;34m)\u001b[0m\u001b[0;34m:\u001b[0m\u001b[0;34m\u001b[0m\u001b[0;34m\u001b[0m\u001b[0m\n\u001b[0;32m--> 340\u001b[0;31m             \u001b[0;32mraise\u001b[0m \u001b[0mJSONDecodeError\u001b[0m\u001b[0;34m(\u001b[0m\u001b[0;34m\"Extra data\"\u001b[0m\u001b[0;34m,\u001b[0m \u001b[0ms\u001b[0m\u001b[0;34m,\u001b[0m \u001b[0mend\u001b[0m\u001b[0;34m)\u001b[0m\u001b[0;34m\u001b[0m\u001b[0;34m\u001b[0m\u001b[0m\n\u001b[0m\u001b[1;32m    341\u001b[0m         \u001b[0;32mreturn\u001b[0m \u001b[0mobj\u001b[0m\u001b[0;34m\u001b[0m\u001b[0;34m\u001b[0m\u001b[0m\n\u001b[1;32m    342\u001b[0m \u001b[0;34m\u001b[0m\u001b[0m\n",
      "\u001b[0;31mJSONDecodeError\u001b[0m: Extra data: line 1 column 5 (char 4)"
     ]
    }
   ],
   "source": [
    "schools=[\"Seattle University\",\n",
    "         \"Creighton University\",\n",
    "         \"Gonzaga University\", \n",
    "         \"Loyola University Maryland\", \n",
    "         \"Loyola Marymount University\", \n",
    "         \"Santa Clara University\",\n",
    "         \"University of Denver\",\n",
    "         \"University of Portland\",\n",
    "         \"University of San Diego\",\n",
    "         \"University of San Francisco\",\n",
    "         \"University of the Pacific\",\n",
    "         \"Xavier University\"]\n",
    "school_data={}\n",
    "\n",
    "URL = \"https://api.data.gov/ed/collegescorecard/v1/schools?\"\n",
    "\n",
    "for school in schools:\n",
    "\n",
    "    school_data[school] = req.get(URL, params={'api_key' : gov_apikey, 'school.name': school})\n",
    "\n",
    "years= range(1996,2019)\n",
    "\n",
    "year_tuition=[]\n",
    "\n",
    "for school in schools:\n",
    "    for year in years:\n",
    "        year_tuition.append([year,school_data[school].json()['results'][0][str(year)]['cost']['tuition']['in_state'],school])\n",
    "\n",
    "school_df=pd.DataFrame(year_tuition, columns=['year', 'tuition', 'school'])    "
   ]
  },
  {
   "cell_type": "code",
   "execution_count": 125,
   "metadata": {},
   "outputs": [
    {
     "data": {
      "image/png": "[encoded data removed]"
     },
     "metadata": {},
     "output_type": "display_data"
    }
   ],
   "source": [
    "%%R -i school_df\n",
    "filter(school_df,year>2000)%>%ggplot(aes(x=year,y=tuition))+\n",
    "  geom_col(aes(fill=school),color='black')"
   ]
  },
  {
   "cell_type": "markdown",
   "metadata": {},
   "source": [
    "So in a limited amount of code we pulled data tuition data from the past 18 years for 12 schools and then produced a plot in R. "
   ]
  },
  {
   "cell_type": "markdown",
   "metadata": {},
   "source": [
    "#### Spotify API\n",
    "\n",
    "One of the other benefits of working with Python is that there is a rich development culture. There are lots of developers out there creating libraries that can make things a lot simpler. For instance, `spotipy` is a Python library for connecting to the Spotify API (https://spotipy.readthedocs.io/en/2.16.1/). \n",
    "\n",
    "In order to do a lot of what I do with the Spotify API, you will need to set up a developer account and get some API credentials. You can find out more here, https://developer.spotify.com/\n"
   ]
  },
  {
   "cell_type": "markdown",
   "metadata": {},
   "source": [
    "The first thing I need to do is install `spotipy`"
   ]
  },
  {
   "cell_type": "code",
   "execution_count": 126,
   "metadata": {},
   "outputs": [
    {
     "name": "stdout",
     "output_type": "stream",
     "text": [
      "Requirement already up-to-date: spotipy in /Users/stewaral/opt/anaconda3/lib/python3.8/site-packages (2.16.1)\r\n",
      "Requirement already satisfied, skipping upgrade: six>=1.10.0 in /Users/stewaral/opt/anaconda3/lib/python3.8/site-packages (from spotipy) (1.15.0)\r\n",
      "Requirement already satisfied, skipping upgrade: requests>=2.20.0 in /Users/stewaral/opt/anaconda3/lib/python3.8/site-packages (from spotipy) (2.24.0)\r\n",
      "Requirement already satisfied, skipping upgrade: chardet<4,>=3.0.2 in /Users/stewaral/opt/anaconda3/lib/python3.8/site-packages (from requests>=2.20.0->spotipy) (3.0.4)\r\n",
      "Requirement already satisfied, skipping upgrade: idna<3,>=2.5 in /Users/stewaral/opt/anaconda3/lib/python3.8/site-packages (from requests>=2.20.0->spotipy) (2.10)\r\n",
      "Requirement already satisfied, skipping upgrade: certifi>=2017.4.17 in /Users/stewaral/opt/anaconda3/lib/python3.8/site-packages (from requests>=2.20.0->spotipy) (2020.12.5)\r\n",
      "Requirement already satisfied, skipping upgrade: urllib3!=1.25.0,!=1.25.1,<1.26,>=1.21.1 in /Users/stewaral/opt/anaconda3/lib/python3.8/site-packages (from requests>=2.20.0->spotipy) (1.25.9)\r\n"
     ]
    }
   ],
   "source": [
    "!pip install spotipy --upgrade"
   ]
  },
  {
   "cell_type": "markdown",
   "metadata": {},
   "source": [
    "Now I import the library, read in my credentials, then open connect to the API."
   ]
  },
  {
   "cell_type": "code",
   "execution_count": 127,
   "metadata": {},
   "outputs": [],
   "source": [
    "import spotipy\n",
    "from spotipy.oauth2 import SpotifyClientCredentials\n",
    "\n",
    "f = open(\"SPOTIPY_CLIENT.txt\")\n",
    "SPOTIPY_CLIENT_ID= f.read();\n",
    "f.close();\n",
    "\n",
    "f = open(\"SPOTIPY_SECRET.txt\")\n",
    "SPOTIPY_CLIENT_SECRET= f.read();\n",
    "f.close();\n",
    "\n",
    "\n",
    "auth_manager = SpotifyClientCredentials(SPOTIPY_CLIENT_ID,SPOTIPY_CLIENT_SECRET)\n",
    "\n",
    "sp = spotipy.Spotify(auth_manager=auth_manager)"
   ]
  },
  {
   "cell_type": "markdown",
   "metadata": {},
   "source": [
    "It is helpful to read the documentation on Spotipy, https://spotipy.readthedocs.io/en/2.16.1/#, in order to work with it in detail. However, for right now I would just like to pull the data from a single artist.\n",
    "\n",
    "In this case I will pull the top tracks along with their popularity number from the artist Japanese Breakfast. \n",
    "\n",
    "> \"The score is received from the Spotify API. The value will be between 0 and 100, with 100 being the most popular. The popularity is calculated by algorithm and is based, in the most part, on the total number of plays the track has had and how recent those plays are.\"\n",
    "\n",
    "To access an artist you need the artist uri in this case the uri is `spotify:artist:7MoIc5s9KXolCBH1fy9kkw`. "
   ]
  },
  {
   "cell_type": "code",
   "execution_count": 128,
   "metadata": {},
   "outputs": [
    {
     "name": "stdout",
     "output_type": "stream",
     "text": [
      "track    : Road Head\n",
      "popularity    : 56\n",
      "\n",
      "track    : Boyish\n",
      "popularity    : 54\n",
      "\n",
      "track    : Diving Woman\n",
      "popularity    : 50\n",
      "\n",
      "track    : Everybody Wants to Love You\n",
      "popularity    : 47\n",
      "\n",
      "track    : Head Over Heels\n",
      "popularity    : 46\n",
      "\n",
      "track    : Dreams - Recorded at Spotify Studios NYC\n",
      "popularity    : 45\n",
      "\n",
      "track    : Till Death\n",
      "popularity    : 43\n",
      "\n",
      "track    : Essentially\n",
      "popularity    : 42\n",
      "\n",
      "track    : Soft Sounds from Another Planet\n",
      "popularity    : 41\n",
      "\n",
      "track    : Machinist\n",
      "popularity    : 41\n",
      "\n"
     ]
    }
   ],
   "source": [
    "\n",
    "jb_uri = 'spotify:artist:7MoIc5s9KXolCBH1fy9kkw'\n",
    "\n",
    "results = sp.artist_top_tracks(jb_uri)\n",
    "\n",
    "results\n",
    "\n",
    "for track in results['tracks'][:10]:\n",
    "   print('track    : ' + track['name'])\n",
    "   print('popularity    : ' + str(track['popularity']))\n",
    "   print()"
   ]
  },
  {
   "cell_type": "markdown",
   "metadata": {},
   "source": [
    "Let compare the popularity of songs in two different playlists; lofi hip hop music - beats to relax/study to and United States Top 50. We expect that the Top 50 playlist to have more popular songs."
   ]
  },
  {
   "cell_type": "code",
   "execution_count": 129,
   "metadata": {},
   "outputs": [],
   "source": [
    "lf_uri='spotify:playlist:0vvXsWCC9xrXsKd4FyS8kM'\n",
    "top_uri='spotify:playlist:37i9dQZEVXbLRQDuF5jeBp'\n",
    "low_fi = sp.playlist_tracks(lf_uri, market=\"US\")\n",
    "top = sp.playlist_tracks(top_uri, market=\"US\")\n",
    "\n",
    "popularity=[]\n",
    "\n",
    "for track in low_fi['items']:\n",
    "    popularity.append([track['track']['popularity'],'low_fi'])\n",
    "\n",
    "for track in top['items']:\n",
    "    popularity.append([track['track']['popularity'],'top'])\n",
    "    \n",
    "    \n",
    "pop_df=pd.DataFrame(popularity,columns=['popularity','playlist'])    "
   ]
  },
  {
   "cell_type": "code",
   "execution_count": 130,
   "metadata": {},
   "outputs": [
    {
     "data": {
      "image/png": "[encoded data removed]"
     },
     "metadata": {},
     "output_type": "display_data"
    }
   ],
   "source": [
    "%%R -i pop_df\n",
    "\n",
    "ggplot(pop_df,aes(x=popularity))+\n",
    "    geom_histogram(bins=10,aes(fill=playlist),position=\"dodge\")"
   ]
  },
  {
   "cell_type": "markdown",
   "metadata": {},
   "source": [
    "#### Other APIs\n",
    "\n",
    "There are lots of APIs that you can potentially play around with. Here is a list of public apis\n",
    "\n",
    "- https://github.com/public-apis/public-apis\n",
    "\n",
    "All social media platforms have APIs. \n",
    "\n",
    "- https://developers.facebook.com/\n",
    "- https://www.instagram.com/developer/\n",
    "- https://developers.tiktok.com/\n",
    "- https://www.reddit.com/dev/api/\n",
    "\n",
    "However, in almost all of them you will need some type of key and then it is possible that you will only be able to access public accounts and/or any accounts that your user account has access to."
   ]
  },
  {
   "cell_type": "markdown",
   "metadata": {},
   "source": [
    "### Remote Servers\n",
    "You may at some point you may need to access information that is located on a computer (or server) in a distant location. This can happen when data is being collected by a device in a remote location or data is stored on a cloud device. One way to do this is through secure shell, file transfer protocol, and secure copy. You can also use a Virtual Private Network to set up a remote desktop. However, not all server have desktops which means that you will need to access and do all work on them via terminal applications, i.e. no graphics or mouse.  \n",
    "\n",
    "#### Secure Shell\n",
    "SSH stands for secure shell. To start, open up Terminal. Once you have opened the Terminal, you'll be ready to log in to your SSH account.\n",
    "\n",
    "The SSH included in a Mac/Linux is a little different from the one which you would have installed on a Windows machine. On  a Windows computer, you can either enter your username into a GUI, or use commands in the Command Prompt (which is the Windows version of the Mac Terminal) to log in. On Mac/Linux, you don't have that GUI, so you're going to log in using a single command. This is actually a little quicker than using a GUI. Let's get to it:\n",
    "\n",
    "In the terminal, type:\n",
    "\n",
    "**ssh username@server.com**\n",
    "\n",
    "Hit enter and you'll be prompted for a password. The password is case-sensitive, naturally. Notice that the characters that you type don't appear onscreen. SSH is more responsible about web security than I am. Once you have entered your password, hit enter again. If you've logged in successfully. \n",
    "\n",
    "You are now using a terminal located in the remote server. This means you can edit files and run programs located on the remote server. \n",
    "\n",
    "#### Secure Copy\n",
    "SCP stands for secure cp (copy), which means that you can copy files across an ssh connection that will be encrypted, and therefore secured.\n",
    "\n",
    "Using secure copy you can copy files from or to a remote server, you can even copy files from one remote server to another remote server.\n",
    "\n",
    "Usage\n",
    "\n",
    "**scp [[user@]from-host:]source-file [[user@]to-host:][destination-file]**\n",
    "\n",
    "If you are on a windows machine then all the commands above won't work. You will need most likely need to use Putty or winscp."
   ]
  },
  {
   "cell_type": "markdown",
   "metadata": {},
   "source": [
    "### Databases\n",
    "\n",
    "One type of server that you may need to access is a SQL server. If you are looking to get into data science or programming then by far the most important language that you will need to learn is SQL. There are different types of SQL\n",
    "\n",
    "- SQL Server \t\n",
    "- MySQL \t\n",
    "- PostgreSQL \t\n",
    "- SQLite\n",
    "\n",
    "The most popular SQL is MySQL, but that doesn't mean you won't run into the other types. This can be frustrating because each SQL has a different syntax. Even though the syntaxes may be different the basic structure and idea of the languages is the same.\n",
    "\n",
    "#### What is SQL?\n",
    "It's a language for querying relational databases\n",
    "SQL is a programming language specifically designed for storing and quering relational databases. \n",
    "\n",
    "#### What is a relational database?\n",
    "In short, it's a database that structures information across many tables (think dataframes or spreadsheets), each of which is linked by a set of unique identifiers. \n",
    "\n",
    "\n",
    "#### How is this different from traditional R data storage?\n",
    "To be honest, analysts in R likely store their data in a manner very similar to a relational database. People using R in the most traditional format, with data stored in a dataframe (essentially a rectangular grid with rows and columns).\n",
    "\n",
    "With this storage setup, an R user might reshape the dataframe using basic R code or special packages like ``dplyr``. \n",
    "\n",
    "Now let's turn to relational databases and SQL. A relational database would take the same data and structure it across several linked ``tables.`` \n",
    "\n",
    "Users would then use SQL commands to construct queries and return results sets.\n",
    "\n",
    "The basic SQL commands are \n",
    "\n",
    "- ``SELECT`` : extracts data from a database  \n",
    "    - ``FROM`` : Tells  the command which table to pull from  \n",
    "    - ``WHERE`` : Restricts the selections to rows with specified properties.  \n",
    "- ``UPDATE`` : updates data in a database  \n",
    "- ``DELETE`` : deletes data from a database  \n",
    "- ``INSERT INTO`` : inserts new data into a database  \n",
    "\n",
    "By far the most important SQL command is the ``JOIN`` command. This command allows you to construct a new table from existing tables in the database. This allows for one to perform analysis on the data collected. It is one key part of the following system.\n",
    "\n",
    "Raw Data->Collection->Clean->SQL Database->Clean->Join Tables->Data Frame->Statistics\n",
    "\n",
    "In both storage styles (dataframe vs relational tables) and syntax types (R vs SQL) the user is doing the same thing: simply modifying the structure of the data grids without changing the underlying data itself. SQL syntax may look much more complex, but that's not inevitable. When datasets become huge, complex, and disperse, it can be much more clear than R code. \n",
    "\n",
    "#### SQL in R\n",
    "\n",
    "It is possible to connect to a SQL database and use SQL queries in R. You can do this via the DBI and RSQLite packages. Fortunately the DBI package has a preloaded SQL database of all the preloaded databases in R. First you would need to download the DBI and RSQLite packages \n",
    "\n",
    "```\n",
    "install.packages(\"DBI\")\n",
    "install.packages(\"RSQLite\")\n",
    "```\n",
    "\n",
    "Then you could load the libraries, connect to the `datasetsDb`, and look at the available tables."
   ]
  },
  {
   "cell_type": "code",
   "execution_count": 131,
   "metadata": {},
   "outputs": [
    {
     "name": "stdout",
     "output_type": "stream",
     "text": [
      " [1] \"BOD\"              \"CO2\"              \"ChickWeight\"      \"DNase\"           \n",
      " [5] \"Formaldehyde\"     \"Indometh\"         \"InsectSprays\"     \"LifeCycleSavings\"\n",
      " [9] \"Loblolly\"         \"Orange\"           \"OrchardSprays\"    \"PlantGrowth\"     \n",
      "[13] \"Puromycin\"        \"Theoph\"           \"ToothGrowth\"      \"USArrests\"       \n",
      "[17] \"USJudgeRatings\"   \"airquality\"       \"anscombe\"         \"attenu\"          \n",
      "[21] \"attitude\"         \"cars\"             \"chickwts\"         \"esoph\"           \n",
      "[25] \"faithful\"         \"freeny\"           \"infert\"           \"iris\"            \n",
      "[29] \"longley\"          \"morley\"           \"mtcars\"           \"npk\"             \n",
      "[33] \"pressure\"         \"quakes\"           \"randu\"            \"rock\"            \n",
      "[37] \"sleep\"            \"stackloss\"        \"swiss\"            \"trees\"           \n",
      "[41] \"warpbreaks\"       \"women\"           \n"
     ]
    }
   ],
   "source": [
    "%%R\n",
    "library(DBI)\n",
    "db = dbConnect(RSQLite::datasetsDb())\n",
    "dbListTables(db)"
   ]
  },
  {
   "cell_type": "markdown",
   "metadata": {},
   "source": [
    "We can make a query and only select the treated cells from Puromycin. In SQL this would look like\n",
    "\n",
    "`select state, rate, conc from Puromycin where state=\"treated\"`\n",
    "\n",
    "Or we could use R and the DBI library"
   ]
  },
  {
   "cell_type": "code",
   "execution_count": 132,
   "metadata": {},
   "outputs": [
    {
     "name": "stdout",
     "output_type": "stream",
     "text": [
      "     state rate conc\n",
      "1  treated   76 0.02\n",
      "2  treated   47 0.02\n",
      "3  treated   97 0.06\n",
      "4  treated  107 0.06\n",
      "5  treated  123 0.11\n",
      "6  treated  139 0.11\n",
      "7  treated  159 0.22\n",
      "8  treated  152 0.22\n",
      "9  treated  191 0.56\n",
      "10 treated  201 0.56\n",
      "11 treated  207 1.10\n",
      "12 treated  200 1.10\n"
     ]
    }
   ],
   "source": [
    "%%R\n",
    "Puromycin_SQL_ex <- dbSendQuery(db, \"SELECT state,rate,conc FROM Puromycin WHERE state = 'treated'\")\n",
    "dbFetch(Puromycin_SQL_ex)"
   ]
  },
  {
   "cell_type": "markdown",
   "metadata": {},
   "source": [
    "#### SQL in Python\n",
    "\n",
    "You can also use SQL in Python. There are a few packages that make facilitate connecting to a SQL database in Python. \n",
    "\n",
    "- sqlite3 : For connecting to SQLite databases\n",
    "- mysql-connector-python : For connecting to MySQL databases\n",
    "- psycopg2 : For connecting to PostgreSQL\n",
    "\n",
    "If you are using a Jupyter notebook it is also possible to create a SQL magic using `ipython-sql` and `sqlalchemy` packages. \n",
    "\n",
    "For the purposes of this lab though, I want to focus on using the `sqlite3` package. Python automatically comes with the `sqlite3` package which allows from connection to SQLite databases. The advantage of SQLite databases is that they are serverless and can be contained in files. So for instance, I can download the `lahman` baseball database that we have used previously as a SQLite database, whic is available here, http://www.seanlahman.com/baseball-archive/statistics/.\n",
    "\n",
    "Once I have the database file on my computer I can connect to the database. Here I have created function that will start the connection and give an error if the connection fails."
   ]
  },
  {
   "cell_type": "code",
   "execution_count": 133,
   "metadata": {},
   "outputs": [],
   "source": [
    "import sqlite3\n",
    "from sqlite3 import Error\n",
    "\n",
    "def create_connection(path):\n",
    "    connection = None\n",
    "    try:\n",
    "        connection = sqlite3.connect(path)\n",
    "        print(\"Connection to SQLite DB successful\")\n",
    "\n",
    "    except Error as e:\n",
    "        print(f\"The error '{e}' occurred\")\n",
    "    return connection"
   ]
  },
  {
   "cell_type": "code",
   "execution_count": 264,
   "metadata": {},
   "outputs": [
    {
     "name": "stdout",
     "output_type": "stream",
     "text": [
      "Connection to SQLite DB successful\n"
     ]
    }
   ],
   "source": [
    "connection = create_connection(\"/Users/stewaral/Downloads/lahmansbaseballdb.sqlite\")"
   ]
  },
  {
   "cell_type": "markdown",
   "metadata": {},
   "source": [
    "We have successfully connected to the database and now we can run queries. The simplest query to run would be to see all the tables in the database. To do this we will make use of the `sqlite_master` table. This table contains information about all the tables in the database."
   ]
  },
  {
   "cell_type": "code",
   "execution_count": 265,
   "metadata": {},
   "outputs": [
    {
     "data": {
      "text/plain": [
       "<sqlite3.Cursor at 0x14230cf80>"
      ]
     },
     "execution_count": 265,
     "metadata": {},
     "output_type": "execute_result"
    }
   ],
   "source": [
    "c = connection.cursor()\n",
    "c.execute(\"select * from sqlite_master where type='table'\")"
   ]
  },
  {
   "cell_type": "markdown",
   "metadata": {},
   "source": [
    "We didn't get an error and so we have successfully pulled the data. If we just printed this we would get a big mess. A better way to perform these queries is to make use of the `pandas` library. "
   ]
  },
  {
   "cell_type": "code",
   "execution_count": 136,
   "metadata": {},
   "outputs": [
    {
     "data": {
      "text/html": [
       "<div>\n",
       "<style scoped>\n",
       "    .dataframe tbody tr th:only-of-type {\n",
       "        vertical-align: middle;\n",
       "    }\n",
       "\n",
       "    .dataframe tbody tr th {\n",
       "        vertical-align: top;\n",
       "    }\n",
       "\n",
       "    .dataframe thead th {\n",
       "        text-align: right;\n",
       "    }\n",
       "</style>\n",
       "<table border=\"1\" class=\"dataframe\">\n",
       "  <thead>\n",
       "    <tr style=\"text-align: right;\">\n",
       "      <th></th>\n",
       "      <th>type</th>\n",
       "      <th>name</th>\n",
       "      <th>tbl_name</th>\n",
       "      <th>rootpage</th>\n",
       "      <th>sql</th>\n",
       "    </tr>\n",
       "  </thead>\n",
       "  <tbody>\n",
       "    <tr>\n",
       "      <th>0</th>\n",
       "      <td>table</td>\n",
       "      <td>allstarfull</td>\n",
       "      <td>allstarfull</td>\n",
       "      <td>2</td>\n",
       "      <td>CREATE TABLE \"allstarfull\" (\\n\\t\"ID\" INTEGER N...</td>\n",
       "    </tr>\n",
       "    <tr>\n",
       "      <th>1</th>\n",
       "      <td>table</td>\n",
       "      <td>appearances</td>\n",
       "      <td>appearances</td>\n",
       "      <td>151</td>\n",
       "      <td>CREATE TABLE \"appearances\" (\\n\\t\"ID\" INTEGER N...</td>\n",
       "    </tr>\n",
       "    <tr>\n",
       "      <th>2</th>\n",
       "      <td>table</td>\n",
       "      <td>awardsmanagers</td>\n",
       "      <td>awardsmanagers</td>\n",
       "      <td>3436</td>\n",
       "      <td>CREATE TABLE \"awardsmanagers\" (\\n\\t\"ID\" INTEGE...</td>\n",
       "    </tr>\n",
       "    <tr>\n",
       "      <th>3</th>\n",
       "      <td>table</td>\n",
       "      <td>awardsplayers</td>\n",
       "      <td>awardsplayers</td>\n",
       "      <td>3445</td>\n",
       "      <td>CREATE TABLE \"awardsplayers\" (\\n\\t\"ID\" INTEGER...</td>\n",
       "    </tr>\n",
       "    <tr>\n",
       "      <th>4</th>\n",
       "      <td>table</td>\n",
       "      <td>awardssharemanagers</td>\n",
       "      <td>awardssharemanagers</td>\n",
       "      <td>3603</td>\n",
       "      <td>CREATE TABLE \"awardssharemanagers\" (\\n\\t\"ID\" I...</td>\n",
       "    </tr>\n",
       "    <tr>\n",
       "      <th>5</th>\n",
       "      <td>table</td>\n",
       "      <td>awardsshareplayers</td>\n",
       "      <td>awardsshareplayers</td>\n",
       "      <td>3622</td>\n",
       "      <td>CREATE TABLE \"awardsshareplayers\" (\\n\\t\"ID\" IN...</td>\n",
       "    </tr>\n",
       "    <tr>\n",
       "      <th>6</th>\n",
       "      <td>table</td>\n",
       "      <td>batting</td>\n",
       "      <td>batting</td>\n",
       "      <td>3757</td>\n",
       "      <td>CREATE TABLE \"batting\" (\\n\\t\"ID\" INTEGER NOT N...</td>\n",
       "    </tr>\n",
       "    <tr>\n",
       "      <th>7</th>\n",
       "      <td>table</td>\n",
       "      <td>battingpost</td>\n",
       "      <td>battingpost</td>\n",
       "      <td>6554</td>\n",
       "      <td>CREATE TABLE \"battingpost\" (\\n\\t\"ID\" INTEGER N...</td>\n",
       "    </tr>\n",
       "    <tr>\n",
       "      <th>8</th>\n",
       "      <td>table</td>\n",
       "      <td>collegeplaying</td>\n",
       "      <td>collegeplaying</td>\n",
       "      <td>7006</td>\n",
       "      <td>CREATE TABLE \"collegeplaying\" (\\n\\t\"ID\" INTEGE...</td>\n",
       "    </tr>\n",
       "    <tr>\n",
       "      <th>9</th>\n",
       "      <td>table</td>\n",
       "      <td>divisions</td>\n",
       "      <td>divisions</td>\n",
       "      <td>7282</td>\n",
       "      <td>CREATE TABLE \"divisions\" (\\n\\t\"ID\" INTEGER NOT...</td>\n",
       "    </tr>\n",
       "    <tr>\n",
       "      <th>10</th>\n",
       "      <td>table</td>\n",
       "      <td>fielding</td>\n",
       "      <td>fielding</td>\n",
       "      <td>7285</td>\n",
       "      <td>CREATE TABLE \"fielding\" (\\n\\t\"ID\" INTEGER NOT ...</td>\n",
       "    </tr>\n",
       "    <tr>\n",
       "      <th>11</th>\n",
       "      <td>table</td>\n",
       "      <td>fieldingof</td>\n",
       "      <td>fieldingof</td>\n",
       "      <td>10906</td>\n",
       "      <td>CREATE TABLE \"fieldingof\" (\\n\\t\"ID\" INTEGER NO...</td>\n",
       "    </tr>\n",
       "    <tr>\n",
       "      <th>12</th>\n",
       "      <td>table</td>\n",
       "      <td>fieldingofsplit</td>\n",
       "      <td>fieldingofsplit</td>\n",
       "      <td>11052</td>\n",
       "      <td>CREATE TABLE \"fieldingofsplit\" (\\n\\t\"ID\" INTEG...</td>\n",
       "    </tr>\n",
       "    <tr>\n",
       "      <th>13</th>\n",
       "      <td>table</td>\n",
       "      <td>fieldingpost</td>\n",
       "      <td>fieldingpost</td>\n",
       "      <td>11878</td>\n",
       "      <td>CREATE TABLE \"fieldingpost\" (\\n\\t\"ID\" INTEGER ...</td>\n",
       "    </tr>\n",
       "    <tr>\n",
       "      <th>14</th>\n",
       "      <td>table</td>\n",
       "      <td>halloffame</td>\n",
       "      <td>halloffame</td>\n",
       "      <td>12236</td>\n",
       "      <td>CREATE TABLE \"halloffame\" (\\n\\t\"ID\" INTEGER NO...</td>\n",
       "    </tr>\n",
       "    <tr>\n",
       "      <th>15</th>\n",
       "      <td>table</td>\n",
       "      <td>homegames</td>\n",
       "      <td>homegames</td>\n",
       "      <td>12316</td>\n",
       "      <td>CREATE TABLE \"homegames\" (\\n\\t\"ID\" INTEGER NOT...</td>\n",
       "    </tr>\n",
       "    <tr>\n",
       "      <th>16</th>\n",
       "      <td>table</td>\n",
       "      <td>leagues</td>\n",
       "      <td>leagues</td>\n",
       "      <td>12408</td>\n",
       "      <td>CREATE TABLE \"leagues\" (\\n\\t\"lgID\" CHARACTER(2...</td>\n",
       "    </tr>\n",
       "    <tr>\n",
       "      <th>17</th>\n",
       "      <td>table</td>\n",
       "      <td>managers</td>\n",
       "      <td>managers</td>\n",
       "      <td>12410</td>\n",
       "      <td>CREATE TABLE \"managers\" (\\n\\t\"ID\" INTEGER NOT ...</td>\n",
       "    </tr>\n",
       "    <tr>\n",
       "      <th>18</th>\n",
       "      <td>table</td>\n",
       "      <td>managershalf</td>\n",
       "      <td>managershalf</td>\n",
       "      <td>12504</td>\n",
       "      <td>CREATE TABLE \"managershalf\" (\\n\\t\"ID\" INTEGER ...</td>\n",
       "    </tr>\n",
       "    <tr>\n",
       "      <th>19</th>\n",
       "      <td>table</td>\n",
       "      <td>parks</td>\n",
       "      <td>parks</td>\n",
       "      <td>12508</td>\n",
       "      <td>CREATE TABLE \"parks\" (\\n\\t\"ID\" INTEGER NOT NUL...</td>\n",
       "    </tr>\n",
       "    <tr>\n",
       "      <th>20</th>\n",
       "      <td>table</td>\n",
       "      <td>people</td>\n",
       "      <td>people</td>\n",
       "      <td>12513</td>\n",
       "      <td>CREATE TABLE \"people\" (\\n\\t\"playerID\" VARCHAR(...</td>\n",
       "    </tr>\n",
       "    <tr>\n",
       "      <th>21</th>\n",
       "      <td>table</td>\n",
       "      <td>pitching</td>\n",
       "      <td>pitching</td>\n",
       "      <td>13457</td>\n",
       "      <td>CREATE TABLE \"pitching\" (\\n\\t\"ID\" INTEGER NOT ...</td>\n",
       "    </tr>\n",
       "    <tr>\n",
       "      <th>22</th>\n",
       "      <td>table</td>\n",
       "      <td>pitchingpost</td>\n",
       "      <td>pitchingpost</td>\n",
       "      <td>15025</td>\n",
       "      <td>CREATE TABLE \"pitchingpost\" (\\n\\t\"ID\" INTEGER ...</td>\n",
       "    </tr>\n",
       "    <tr>\n",
       "      <th>23</th>\n",
       "      <td>table</td>\n",
       "      <td>salaries</td>\n",
       "      <td>salaries</td>\n",
       "      <td>15209</td>\n",
       "      <td>CREATE TABLE \"salaries\" (\\n\\t\"ID\" INTEGER NOT ...</td>\n",
       "    </tr>\n",
       "    <tr>\n",
       "      <th>24</th>\n",
       "      <td>table</td>\n",
       "      <td>schools</td>\n",
       "      <td>schools</td>\n",
       "      <td>15903</td>\n",
       "      <td>CREATE TABLE \"schools\" (\\n\\t\"schoolID\" VARCHAR...</td>\n",
       "    </tr>\n",
       "    <tr>\n",
       "      <th>25</th>\n",
       "      <td>table</td>\n",
       "      <td>seriespost</td>\n",
       "      <td>seriespost</td>\n",
       "      <td>15928</td>\n",
       "      <td>CREATE TABLE \"seriespost\" (\\n\\t\"ID\" INTEGER NO...</td>\n",
       "    </tr>\n",
       "    <tr>\n",
       "      <th>26</th>\n",
       "      <td>table</td>\n",
       "      <td>teams</td>\n",
       "      <td>teams</td>\n",
       "      <td>15939</td>\n",
       "      <td>CREATE TABLE \"teams\" (\\n\\t\"ID\" INTEGER NOT NUL...</td>\n",
       "    </tr>\n",
       "    <tr>\n",
       "      <th>27</th>\n",
       "      <td>table</td>\n",
       "      <td>teamsfranchises</td>\n",
       "      <td>teamsfranchises</td>\n",
       "      <td>16111</td>\n",
       "      <td>CREATE TABLE \"teamsfranchises\" (\\n\\t\"franchID\"...</td>\n",
       "    </tr>\n",
       "    <tr>\n",
       "      <th>28</th>\n",
       "      <td>table</td>\n",
       "      <td>teamshalf</td>\n",
       "      <td>teamshalf</td>\n",
       "      <td>16113</td>\n",
       "      <td>CREATE TABLE \"teamshalf\" (\\n\\t\"ID\" INTEGER NOT...</td>\n",
       "    </tr>\n",
       "  </tbody>\n",
       "</table>\n",
       "</div>"
      ],
      "text/plain": [
       "     type                 name             tbl_name  rootpage  \\\n",
       "0   table          allstarfull          allstarfull         2   \n",
       "1   table          appearances          appearances       151   \n",
       "2   table       awardsmanagers       awardsmanagers      3436   \n",
       "3   table        awardsplayers        awardsplayers      3445   \n",
       "4   table  awardssharemanagers  awardssharemanagers      3603   \n",
       "5   table   awardsshareplayers   awardsshareplayers      3622   \n",
       "6   table              batting              batting      3757   \n",
       "7   table          battingpost          battingpost      6554   \n",
       "8   table       collegeplaying       collegeplaying      7006   \n",
       "9   table            divisions            divisions      7282   \n",
       "10  table             fielding             fielding      7285   \n",
       "11  table           fieldingof           fieldingof     10906   \n",
       "12  table      fieldingofsplit      fieldingofsplit     11052   \n",
       "13  table         fieldingpost         fieldingpost     11878   \n",
       "14  table           halloffame           halloffame     12236   \n",
       "15  table            homegames            homegames     12316   \n",
       "16  table              leagues              leagues     12408   \n",
       "17  table             managers             managers     12410   \n",
       "18  table         managershalf         managershalf     12504   \n",
       "19  table                parks                parks     12508   \n",
       "20  table               people               people     12513   \n",
       "21  table             pitching             pitching     13457   \n",
       "22  table         pitchingpost         pitchingpost     15025   \n",
       "23  table             salaries             salaries     15209   \n",
       "24  table              schools              schools     15903   \n",
       "25  table           seriespost           seriespost     15928   \n",
       "26  table                teams                teams     15939   \n",
       "27  table      teamsfranchises      teamsfranchises     16111   \n",
       "28  table            teamshalf            teamshalf     16113   \n",
       "\n",
       "                                                  sql  \n",
       "0   CREATE TABLE \"allstarfull\" (\\n\\t\"ID\" INTEGER N...  \n",
       "1   CREATE TABLE \"appearances\" (\\n\\t\"ID\" INTEGER N...  \n",
       "2   CREATE TABLE \"awardsmanagers\" (\\n\\t\"ID\" INTEGE...  \n",
       "3   CREATE TABLE \"awardsplayers\" (\\n\\t\"ID\" INTEGER...  \n",
       "4   CREATE TABLE \"awardssharemanagers\" (\\n\\t\"ID\" I...  \n",
       "5   CREATE TABLE \"awardsshareplayers\" (\\n\\t\"ID\" IN...  \n",
       "6   CREATE TABLE \"batting\" (\\n\\t\"ID\" INTEGER NOT N...  \n",
       "7   CREATE TABLE \"battingpost\" (\\n\\t\"ID\" INTEGER N...  \n",
       "8   CREATE TABLE \"collegeplaying\" (\\n\\t\"ID\" INTEGE...  \n",
       "9   CREATE TABLE \"divisions\" (\\n\\t\"ID\" INTEGER NOT...  \n",
       "10  CREATE TABLE \"fielding\" (\\n\\t\"ID\" INTEGER NOT ...  \n",
       "11  CREATE TABLE \"fieldingof\" (\\n\\t\"ID\" INTEGER NO...  \n",
       "12  CREATE TABLE \"fieldingofsplit\" (\\n\\t\"ID\" INTEG...  \n",
       "13  CREATE TABLE \"fieldingpost\" (\\n\\t\"ID\" INTEGER ...  \n",
       "14  CREATE TABLE \"halloffame\" (\\n\\t\"ID\" INTEGER NO...  \n",
       "15  CREATE TABLE \"homegames\" (\\n\\t\"ID\" INTEGER NOT...  \n",
       "16  CREATE TABLE \"leagues\" (\\n\\t\"lgID\" CHARACTER(2...  \n",
       "17  CREATE TABLE \"managers\" (\\n\\t\"ID\" INTEGER NOT ...  \n",
       "18  CREATE TABLE \"managershalf\" (\\n\\t\"ID\" INTEGER ...  \n",
       "19  CREATE TABLE \"parks\" (\\n\\t\"ID\" INTEGER NOT NUL...  \n",
       "20  CREATE TABLE \"people\" (\\n\\t\"playerID\" VARCHAR(...  \n",
       "21  CREATE TABLE \"pitching\" (\\n\\t\"ID\" INTEGER NOT ...  \n",
       "22  CREATE TABLE \"pitchingpost\" (\\n\\t\"ID\" INTEGER ...  \n",
       "23  CREATE TABLE \"salaries\" (\\n\\t\"ID\" INTEGER NOT ...  \n",
       "24  CREATE TABLE \"schools\" (\\n\\t\"schoolID\" VARCHAR...  \n",
       "25  CREATE TABLE \"seriespost\" (\\n\\t\"ID\" INTEGER NO...  \n",
       "26  CREATE TABLE \"teams\" (\\n\\t\"ID\" INTEGER NOT NUL...  \n",
       "27  CREATE TABLE \"teamsfranchises\" (\\n\\t\"franchID\"...  \n",
       "28  CREATE TABLE \"teamshalf\" (\\n\\t\"ID\" INTEGER NOT...  "
      ]
     },
     "execution_count": 136,
     "metadata": {},
     "output_type": "execute_result"
    }
   ],
   "source": [
    "lahman_tables = pd.read_sql_query(\"select * from sqlite_master where type='table'\", connection)\n",
    "lahman_tables"
   ]
  },
  {
   "cell_type": "markdown",
   "metadata": {},
   "source": [
    "As we can see there are 28 tables. The two that we are familiar with are `Batting` and `People`. Let's perform a query that will give us all the Seattle Mariner players that have been at bat but not gotten a hit throughout a season."
   ]
  },
  {
   "cell_type": "code",
   "execution_count": 137,
   "metadata": {},
   "outputs": [
    {
     "data": {
      "text/html": [
       "<div>\n",
       "<style scoped>\n",
       "    .dataframe tbody tr th:only-of-type {\n",
       "        vertical-align: middle;\n",
       "    }\n",
       "\n",
       "    .dataframe tbody tr th {\n",
       "        vertical-align: top;\n",
       "    }\n",
       "\n",
       "    .dataframe thead th {\n",
       "        text-align: right;\n",
       "    }\n",
       "</style>\n",
       "<table border=\"1\" class=\"dataframe\">\n",
       "  <thead>\n",
       "    <tr style=\"text-align: right;\">\n",
       "      <th></th>\n",
       "      <th>ID</th>\n",
       "      <th>playerID</th>\n",
       "      <th>yearID</th>\n",
       "      <th>stint</th>\n",
       "      <th>teamID</th>\n",
       "      <th>team_ID</th>\n",
       "      <th>lgID</th>\n",
       "      <th>G</th>\n",
       "      <th>G_batting</th>\n",
       "      <th>AB</th>\n",
       "      <th>...</th>\n",
       "      <th>RBI</th>\n",
       "      <th>SB</th>\n",
       "      <th>CS</th>\n",
       "      <th>BB</th>\n",
       "      <th>SO</th>\n",
       "      <th>IBB</th>\n",
       "      <th>HBP</th>\n",
       "      <th>SH</th>\n",
       "      <th>SF</th>\n",
       "      <th>GIDP</th>\n",
       "    </tr>\n",
       "  </thead>\n",
       "  <tbody>\n",
       "    <tr>\n",
       "      <th>0</th>\n",
       "      <td>55062</td>\n",
       "      <td>mcmilto02</td>\n",
       "      <td>1977</td>\n",
       "      <td>1</td>\n",
       "      <td>SEA</td>\n",
       "      <td>1731</td>\n",
       "      <td>AL</td>\n",
       "      <td>2</td>\n",
       "      <td>None</td>\n",
       "      <td>5</td>\n",
       "      <td>...</td>\n",
       "      <td>0</td>\n",
       "      <td>0</td>\n",
       "      <td>0</td>\n",
       "      <td>0</td>\n",
       "      <td>0</td>\n",
       "      <td>0</td>\n",
       "      <td>0</td>\n",
       "      <td>0</td>\n",
       "      <td>0</td>\n",
       "      <td>0</td>\n",
       "    </tr>\n",
       "    <tr>\n",
       "      <th>1</th>\n",
       "      <td>58342</td>\n",
       "      <td>allenki01</td>\n",
       "      <td>1981</td>\n",
       "      <td>1</td>\n",
       "      <td>SEA</td>\n",
       "      <td>1835</td>\n",
       "      <td>AL</td>\n",
       "      <td>19</td>\n",
       "      <td>None</td>\n",
       "      <td>3</td>\n",
       "      <td>...</td>\n",
       "      <td>0</td>\n",
       "      <td>2</td>\n",
       "      <td>1</td>\n",
       "      <td>0</td>\n",
       "      <td>2</td>\n",
       "      <td>0</td>\n",
       "      <td>0</td>\n",
       "      <td>0</td>\n",
       "      <td>0</td>\n",
       "      <td>0</td>\n",
       "    </tr>\n",
       "    <tr>\n",
       "      <th>2</th>\n",
       "      <td>58579</td>\n",
       "      <td>firovda01</td>\n",
       "      <td>1981</td>\n",
       "      <td>1</td>\n",
       "      <td>SEA</td>\n",
       "      <td>1835</td>\n",
       "      <td>AL</td>\n",
       "      <td>13</td>\n",
       "      <td>None</td>\n",
       "      <td>2</td>\n",
       "      <td>...</td>\n",
       "      <td>0</td>\n",
       "      <td>0</td>\n",
       "      <td>0</td>\n",
       "      <td>0</td>\n",
       "      <td>1</td>\n",
       "      <td>0</td>\n",
       "      <td>0</td>\n",
       "      <td>0</td>\n",
       "      <td>0</td>\n",
       "      <td>0</td>\n",
       "    </tr>\n",
       "    <tr>\n",
       "      <th>3</th>\n",
       "      <td>59225</td>\n",
       "      <td>waltore01</td>\n",
       "      <td>1981</td>\n",
       "      <td>1</td>\n",
       "      <td>SEA</td>\n",
       "      <td>1835</td>\n",
       "      <td>AL</td>\n",
       "      <td>12</td>\n",
       "      <td>None</td>\n",
       "      <td>6</td>\n",
       "      <td>...</td>\n",
       "      <td>0</td>\n",
       "      <td>0</td>\n",
       "      <td>0</td>\n",
       "      <td>1</td>\n",
       "      <td>2</td>\n",
       "      <td>0</td>\n",
       "      <td>0</td>\n",
       "      <td>0</td>\n",
       "      <td>0</td>\n",
       "      <td>0</td>\n",
       "    </tr>\n",
       "    <tr>\n",
       "      <th>4</th>\n",
       "      <td>59528</td>\n",
       "      <td>firovda01</td>\n",
       "      <td>1982</td>\n",
       "      <td>1</td>\n",
       "      <td>SEA</td>\n",
       "      <td>1861</td>\n",
       "      <td>AL</td>\n",
       "      <td>3</td>\n",
       "      <td>None</td>\n",
       "      <td>5</td>\n",
       "      <td>...</td>\n",
       "      <td>0</td>\n",
       "      <td>0</td>\n",
       "      <td>0</td>\n",
       "      <td>0</td>\n",
       "      <td>0</td>\n",
       "      <td>0</td>\n",
       "      <td>0</td>\n",
       "      <td>0</td>\n",
       "      <td>0</td>\n",
       "      <td>0</td>\n",
       "    </tr>\n",
       "    <tr>\n",
       "      <th>...</th>\n",
       "      <td>...</td>\n",
       "      <td>...</td>\n",
       "      <td>...</td>\n",
       "      <td>...</td>\n",
       "      <td>...</td>\n",
       "      <td>...</td>\n",
       "      <td>...</td>\n",
       "      <td>...</td>\n",
       "      <td>...</td>\n",
       "      <td>...</td>\n",
       "      <td>...</td>\n",
       "      <td>...</td>\n",
       "      <td>...</td>\n",
       "      <td>...</td>\n",
       "      <td>...</td>\n",
       "      <td>...</td>\n",
       "      <td>...</td>\n",
       "      <td>...</td>\n",
       "      <td>...</td>\n",
       "      <td>...</td>\n",
       "      <td>...</td>\n",
       "    </tr>\n",
       "    <tr>\n",
       "      <th>135</th>\n",
       "      <td>106654</td>\n",
       "      <td>leakemi01</td>\n",
       "      <td>2019</td>\n",
       "      <td>1</td>\n",
       "      <td>SEA</td>\n",
       "      <td>2919</td>\n",
       "      <td>AL</td>\n",
       "      <td>22</td>\n",
       "      <td>None</td>\n",
       "      <td>1</td>\n",
       "      <td>...</td>\n",
       "      <td>0</td>\n",
       "      <td>0</td>\n",
       "      <td>0</td>\n",
       "      <td>1</td>\n",
       "      <td>0</td>\n",
       "      <td>0</td>\n",
       "      <td>0</td>\n",
       "      <td>0</td>\n",
       "      <td>0</td>\n",
       "      <td>0</td>\n",
       "    </tr>\n",
       "    <tr>\n",
       "      <th>136</th>\n",
       "      <td>106800</td>\n",
       "      <td>milonto01</td>\n",
       "      <td>2019</td>\n",
       "      <td>1</td>\n",
       "      <td>SEA</td>\n",
       "      <td>2919</td>\n",
       "      <td>AL</td>\n",
       "      <td>23</td>\n",
       "      <td>None</td>\n",
       "      <td>2</td>\n",
       "      <td>...</td>\n",
       "      <td>0</td>\n",
       "      <td>0</td>\n",
       "      <td>0</td>\n",
       "      <td>0</td>\n",
       "      <td>1</td>\n",
       "      <td>0</td>\n",
       "      <td>0</td>\n",
       "      <td>0</td>\n",
       "      <td>0</td>\n",
       "      <td>0</td>\n",
       "    </tr>\n",
       "    <tr>\n",
       "      <th>137</th>\n",
       "      <td>107143</td>\n",
       "      <td>sheffju01</td>\n",
       "      <td>2019</td>\n",
       "      <td>1</td>\n",
       "      <td>SEA</td>\n",
       "      <td>2919</td>\n",
       "      <td>AL</td>\n",
       "      <td>8</td>\n",
       "      <td>None</td>\n",
       "      <td>2</td>\n",
       "      <td>...</td>\n",
       "      <td>0</td>\n",
       "      <td>0</td>\n",
       "      <td>0</td>\n",
       "      <td>0</td>\n",
       "      <td>2</td>\n",
       "      <td>0</td>\n",
       "      <td>0</td>\n",
       "      <td>0</td>\n",
       "      <td>0</td>\n",
       "      <td>0</td>\n",
       "    </tr>\n",
       "    <tr>\n",
       "      <th>138</th>\n",
       "      <td>107239</td>\n",
       "      <td>suzukic01</td>\n",
       "      <td>2019</td>\n",
       "      <td>1</td>\n",
       "      <td>SEA</td>\n",
       "      <td>2919</td>\n",
       "      <td>AL</td>\n",
       "      <td>2</td>\n",
       "      <td>None</td>\n",
       "      <td>5</td>\n",
       "      <td>...</td>\n",
       "      <td>0</td>\n",
       "      <td>0</td>\n",
       "      <td>0</td>\n",
       "      <td>1</td>\n",
       "      <td>1</td>\n",
       "      <td>0</td>\n",
       "      <td>0</td>\n",
       "      <td>0</td>\n",
       "      <td>0</td>\n",
       "      <td>0</td>\n",
       "    </tr>\n",
       "    <tr>\n",
       "      <th>139</th>\n",
       "      <td>107242</td>\n",
       "      <td>swanser01</td>\n",
       "      <td>2019</td>\n",
       "      <td>1</td>\n",
       "      <td>SEA</td>\n",
       "      <td>2919</td>\n",
       "      <td>AL</td>\n",
       "      <td>27</td>\n",
       "      <td>None</td>\n",
       "      <td>2</td>\n",
       "      <td>...</td>\n",
       "      <td>0</td>\n",
       "      <td>0</td>\n",
       "      <td>0</td>\n",
       "      <td>0</td>\n",
       "      <td>1</td>\n",
       "      <td>0</td>\n",
       "      <td>0</td>\n",
       "      <td>0</td>\n",
       "      <td>0</td>\n",
       "      <td>0</td>\n",
       "    </tr>\n",
       "  </tbody>\n",
       "</table>\n",
       "<p>140 rows × 25 columns</p>\n",
       "</div>"
      ],
      "text/plain": [
       "         ID   playerID  yearID  stint teamID  team_ID lgID   G G_batting  AB  \\\n",
       "0     55062  mcmilto02    1977      1    SEA     1731   AL   2      None   5   \n",
       "1     58342  allenki01    1981      1    SEA     1835   AL  19      None   3   \n",
       "2     58579  firovda01    1981      1    SEA     1835   AL  13      None   2   \n",
       "3     59225  waltore01    1981      1    SEA     1835   AL  12      None   6   \n",
       "4     59528  firovda01    1982      1    SEA     1861   AL   3      None   5   \n",
       "..      ...        ...     ...    ...    ...      ...  ...  ..       ...  ..   \n",
       "135  106654  leakemi01    2019      1    SEA     2919   AL  22      None   1   \n",
       "136  106800  milonto01    2019      1    SEA     2919   AL  23      None   2   \n",
       "137  107143  sheffju01    2019      1    SEA     2919   AL   8      None   2   \n",
       "138  107239  suzukic01    2019      1    SEA     2919   AL   2      None   5   \n",
       "139  107242  swanser01    2019      1    SEA     2919   AL  27      None   2   \n",
       "\n",
       "     ...  RBI  SB  CS  BB  SO  IBB  HBP  SH  SF  GIDP  \n",
       "0    ...    0   0   0   0   0    0    0   0   0     0  \n",
       "1    ...    0   2   1   0   2    0    0   0   0     0  \n",
       "2    ...    0   0   0   0   1    0    0   0   0     0  \n",
       "3    ...    0   0   0   1   2    0    0   0   0     0  \n",
       "4    ...    0   0   0   0   0    0    0   0   0     0  \n",
       "..   ...  ...  ..  ..  ..  ..  ...  ...  ..  ..   ...  \n",
       "135  ...    0   0   0   1   0    0    0   0   0     0  \n",
       "136  ...    0   0   0   0   1    0    0   0   0     0  \n",
       "137  ...    0   0   0   0   2    0    0   0   0     0  \n",
       "138  ...    0   0   0   1   1    0    0   0   0     0  \n",
       "139  ...    0   0   0   0   1    0    0   0   0     0  \n",
       "\n",
       "[140 rows x 25 columns]"
      ]
     },
     "execution_count": 137,
     "metadata": {},
     "output_type": "execute_result"
    }
   ],
   "source": [
    "SEA_no_hits = pd.read_sql_query(\"SELECT * FROM Batting where teamID='SEA' AND AB>0 AND H=0\", connection)\n",
    "SEA_no_hits"
   ]
  },
  {
   "cell_type": "markdown",
   "metadata": {},
   "source": [
    "One of the issues that we faced when working with the `lahman` datasets was that the `Batting` data set did not have the first and last name of the players. This meant that we couldn't easily search for Hank Aaron. Let's make a new data set using `join` where we can more easily search."
   ]
  },
  {
   "cell_type": "code",
   "execution_count": 138,
   "metadata": {},
   "outputs": [
    {
     "data": {
      "text/html": [
       "<div>\n",
       "<style scoped>\n",
       "    .dataframe tbody tr th:only-of-type {\n",
       "        vertical-align: middle;\n",
       "    }\n",
       "\n",
       "    .dataframe tbody tr th {\n",
       "        vertical-align: top;\n",
       "    }\n",
       "\n",
       "    .dataframe thead th {\n",
       "        text-align: right;\n",
       "    }\n",
       "</style>\n",
       "<table border=\"1\" class=\"dataframe\">\n",
       "  <thead>\n",
       "    <tr style=\"text-align: right;\">\n",
       "      <th></th>\n",
       "      <th>ID</th>\n",
       "      <th>playerID</th>\n",
       "      <th>yearID</th>\n",
       "      <th>stint</th>\n",
       "      <th>teamID</th>\n",
       "      <th>team_ID</th>\n",
       "      <th>lgID</th>\n",
       "      <th>G</th>\n",
       "      <th>G_batting</th>\n",
       "      <th>AB</th>\n",
       "      <th>...</th>\n",
       "      <th>bats</th>\n",
       "      <th>throws</th>\n",
       "      <th>debut</th>\n",
       "      <th>finalGame</th>\n",
       "      <th>retroID</th>\n",
       "      <th>bbrefID</th>\n",
       "      <th>birth_date</th>\n",
       "      <th>debut_date</th>\n",
       "      <th>finalgame_date</th>\n",
       "      <th>death_date</th>\n",
       "    </tr>\n",
       "  </thead>\n",
       "  <tbody>\n",
       "    <tr>\n",
       "      <th>0</th>\n",
       "      <td>1</td>\n",
       "      <td>abercda01</td>\n",
       "      <td>1871</td>\n",
       "      <td>1</td>\n",
       "      <td>TRO</td>\n",
       "      <td>8</td>\n",
       "      <td>NA</td>\n",
       "      <td>1</td>\n",
       "      <td>None</td>\n",
       "      <td>4</td>\n",
       "      <td>...</td>\n",
       "      <td>None</td>\n",
       "      <td>None</td>\n",
       "      <td>1871-10-21</td>\n",
       "      <td>1871-10-21</td>\n",
       "      <td>aberd101</td>\n",
       "      <td>abercda01</td>\n",
       "      <td>1850-01-02</td>\n",
       "      <td>1871-10-21</td>\n",
       "      <td>1871-10-21</td>\n",
       "      <td>1939-11-11</td>\n",
       "    </tr>\n",
       "    <tr>\n",
       "      <th>1</th>\n",
       "      <td>2</td>\n",
       "      <td>addybo01</td>\n",
       "      <td>1871</td>\n",
       "      <td>1</td>\n",
       "      <td>RC1</td>\n",
       "      <td>7</td>\n",
       "      <td>NA</td>\n",
       "      <td>25</td>\n",
       "      <td>None</td>\n",
       "      <td>118</td>\n",
       "      <td>...</td>\n",
       "      <td>L</td>\n",
       "      <td>L</td>\n",
       "      <td>1871-05-06</td>\n",
       "      <td>1877-10-06</td>\n",
       "      <td>addyb101</td>\n",
       "      <td>addybo01</td>\n",
       "      <td>None</td>\n",
       "      <td>1871-05-06</td>\n",
       "      <td>1877-10-06</td>\n",
       "      <td>1910-04-09</td>\n",
       "    </tr>\n",
       "    <tr>\n",
       "      <th>2</th>\n",
       "      <td>3</td>\n",
       "      <td>allisar01</td>\n",
       "      <td>1871</td>\n",
       "      <td>1</td>\n",
       "      <td>CL1</td>\n",
       "      <td>3</td>\n",
       "      <td>NA</td>\n",
       "      <td>29</td>\n",
       "      <td>None</td>\n",
       "      <td>137</td>\n",
       "      <td>...</td>\n",
       "      <td>None</td>\n",
       "      <td>None</td>\n",
       "      <td>1871-05-04</td>\n",
       "      <td>1876-10-05</td>\n",
       "      <td>allia101</td>\n",
       "      <td>allisar01</td>\n",
       "      <td>1849-01-29</td>\n",
       "      <td>1871-05-04</td>\n",
       "      <td>1876-10-05</td>\n",
       "      <td>1916-02-25</td>\n",
       "    </tr>\n",
       "    <tr>\n",
       "      <th>3</th>\n",
       "      <td>4</td>\n",
       "      <td>allisdo01</td>\n",
       "      <td>1871</td>\n",
       "      <td>1</td>\n",
       "      <td>WS3</td>\n",
       "      <td>9</td>\n",
       "      <td>NA</td>\n",
       "      <td>27</td>\n",
       "      <td>None</td>\n",
       "      <td>133</td>\n",
       "      <td>...</td>\n",
       "      <td>R</td>\n",
       "      <td>R</td>\n",
       "      <td>1871-05-05</td>\n",
       "      <td>1883-07-13</td>\n",
       "      <td>allid101</td>\n",
       "      <td>allisdo01</td>\n",
       "      <td>1846-07-12</td>\n",
       "      <td>1871-05-05</td>\n",
       "      <td>1883-07-13</td>\n",
       "      <td>1916-12-19</td>\n",
       "    </tr>\n",
       "    <tr>\n",
       "      <th>4</th>\n",
       "      <td>5</td>\n",
       "      <td>ansonca01</td>\n",
       "      <td>1871</td>\n",
       "      <td>1</td>\n",
       "      <td>RC1</td>\n",
       "      <td>7</td>\n",
       "      <td>NA</td>\n",
       "      <td>25</td>\n",
       "      <td>None</td>\n",
       "      <td>120</td>\n",
       "      <td>...</td>\n",
       "      <td>R</td>\n",
       "      <td>R</td>\n",
       "      <td>1871-05-06</td>\n",
       "      <td>1897-10-03</td>\n",
       "      <td>ansoc101</td>\n",
       "      <td>ansonca01</td>\n",
       "      <td>1852-04-17</td>\n",
       "      <td>1871-05-06</td>\n",
       "      <td>1897-10-03</td>\n",
       "      <td>1922-04-14</td>\n",
       "    </tr>\n",
       "    <tr>\n",
       "      <th>...</th>\n",
       "      <td>...</td>\n",
       "      <td>...</td>\n",
       "      <td>...</td>\n",
       "      <td>...</td>\n",
       "      <td>...</td>\n",
       "      <td>...</td>\n",
       "      <td>...</td>\n",
       "      <td>...</td>\n",
       "      <td>...</td>\n",
       "      <td>...</td>\n",
       "      <td>...</td>\n",
       "      <td>...</td>\n",
       "      <td>...</td>\n",
       "      <td>...</td>\n",
       "      <td>...</td>\n",
       "      <td>...</td>\n",
       "      <td>...</td>\n",
       "      <td>...</td>\n",
       "      <td>...</td>\n",
       "      <td>...</td>\n",
       "      <td>...</td>\n",
       "    </tr>\n",
       "    <tr>\n",
       "      <th>107424</th>\n",
       "      <td>107425</td>\n",
       "      <td>zimmejo02</td>\n",
       "      <td>2019</td>\n",
       "      <td>1</td>\n",
       "      <td>DET</td>\n",
       "      <td>2905</td>\n",
       "      <td>AL</td>\n",
       "      <td>23</td>\n",
       "      <td>None</td>\n",
       "      <td>2</td>\n",
       "      <td>...</td>\n",
       "      <td>R</td>\n",
       "      <td>R</td>\n",
       "      <td>2009-04-20</td>\n",
       "      <td>2019-09-26</td>\n",
       "      <td>zimmj003</td>\n",
       "      <td>zimmejo02</td>\n",
       "      <td>1986-05-23</td>\n",
       "      <td>2009-04-20</td>\n",
       "      <td>2019-09-26</td>\n",
       "      <td>None</td>\n",
       "    </tr>\n",
       "    <tr>\n",
       "      <th>107425</th>\n",
       "      <td>107426</td>\n",
       "      <td>zimmeky01</td>\n",
       "      <td>2019</td>\n",
       "      <td>1</td>\n",
       "      <td>KCA</td>\n",
       "      <td>2907</td>\n",
       "      <td>AL</td>\n",
       "      <td>15</td>\n",
       "      <td>None</td>\n",
       "      <td>0</td>\n",
       "      <td>...</td>\n",
       "      <td>R</td>\n",
       "      <td>R</td>\n",
       "      <td>2019-03-31</td>\n",
       "      <td>2019-09-27</td>\n",
       "      <td>zimmk001</td>\n",
       "      <td>zimmeky01</td>\n",
       "      <td>1991-09-13</td>\n",
       "      <td>2019-03-31</td>\n",
       "      <td>2019-09-27</td>\n",
       "      <td>None</td>\n",
       "    </tr>\n",
       "    <tr>\n",
       "      <th>107426</th>\n",
       "      <td>107427</td>\n",
       "      <td>zimmery01</td>\n",
       "      <td>2019</td>\n",
       "      <td>1</td>\n",
       "      <td>WAS</td>\n",
       "      <td>2925</td>\n",
       "      <td>NL</td>\n",
       "      <td>52</td>\n",
       "      <td>None</td>\n",
       "      <td>171</td>\n",
       "      <td>...</td>\n",
       "      <td>R</td>\n",
       "      <td>R</td>\n",
       "      <td>2005-09-01</td>\n",
       "      <td>2019-09-29</td>\n",
       "      <td>zimmr001</td>\n",
       "      <td>zimmery01</td>\n",
       "      <td>1984-09-28</td>\n",
       "      <td>2005-09-01</td>\n",
       "      <td>2019-09-29</td>\n",
       "      <td>None</td>\n",
       "    </tr>\n",
       "    <tr>\n",
       "      <th>107427</th>\n",
       "      <td>107428</td>\n",
       "      <td>zobribe01</td>\n",
       "      <td>2019</td>\n",
       "      <td>1</td>\n",
       "      <td>CHN</td>\n",
       "      <td>2901</td>\n",
       "      <td>NL</td>\n",
       "      <td>47</td>\n",
       "      <td>None</td>\n",
       "      <td>150</td>\n",
       "      <td>...</td>\n",
       "      <td>B</td>\n",
       "      <td>R</td>\n",
       "      <td>2006-08-01</td>\n",
       "      <td>2019-09-29</td>\n",
       "      <td>zobrb001</td>\n",
       "      <td>zobribe01</td>\n",
       "      <td>1981-05-26</td>\n",
       "      <td>2006-08-01</td>\n",
       "      <td>2019-09-29</td>\n",
       "      <td>None</td>\n",
       "    </tr>\n",
       "    <tr>\n",
       "      <th>107428</th>\n",
       "      <td>107429</td>\n",
       "      <td>zuninmi01</td>\n",
       "      <td>2019</td>\n",
       "      <td>1</td>\n",
       "      <td>TBA</td>\n",
       "      <td>2922</td>\n",
       "      <td>AL</td>\n",
       "      <td>90</td>\n",
       "      <td>None</td>\n",
       "      <td>266</td>\n",
       "      <td>...</td>\n",
       "      <td>R</td>\n",
       "      <td>R</td>\n",
       "      <td>2013-06-12</td>\n",
       "      <td>2019-09-29</td>\n",
       "      <td>zunim001</td>\n",
       "      <td>zuninmi01</td>\n",
       "      <td>1991-03-25</td>\n",
       "      <td>2013-06-12</td>\n",
       "      <td>2019-09-29</td>\n",
       "      <td>None</td>\n",
       "    </tr>\n",
       "  </tbody>\n",
       "</table>\n",
       "<p>107429 rows × 53 columns</p>\n",
       "</div>"
      ],
      "text/plain": [
       "            ID   playerID  yearID  stint teamID  team_ID lgID   G G_batting  \\\n",
       "0            1  abercda01    1871      1    TRO        8   NA   1      None   \n",
       "1            2   addybo01    1871      1    RC1        7   NA  25      None   \n",
       "2            3  allisar01    1871      1    CL1        3   NA  29      None   \n",
       "3            4  allisdo01    1871      1    WS3        9   NA  27      None   \n",
       "4            5  ansonca01    1871      1    RC1        7   NA  25      None   \n",
       "...        ...        ...     ...    ...    ...      ...  ...  ..       ...   \n",
       "107424  107425  zimmejo02    2019      1    DET     2905   AL  23      None   \n",
       "107425  107426  zimmeky01    2019      1    KCA     2907   AL  15      None   \n",
       "107426  107427  zimmery01    2019      1    WAS     2925   NL  52      None   \n",
       "107427  107428  zobribe01    2019      1    CHN     2901   NL  47      None   \n",
       "107428  107429  zuninmi01    2019      1    TBA     2922   AL  90      None   \n",
       "\n",
       "         AB  ...  bats  throws       debut   finalGame   retroID    bbrefID  \\\n",
       "0         4  ...  None    None  1871-10-21  1871-10-21  aberd101  abercda01   \n",
       "1       118  ...     L       L  1871-05-06  1877-10-06  addyb101   addybo01   \n",
       "2       137  ...  None    None  1871-05-04  1876-10-05  allia101  allisar01   \n",
       "3       133  ...     R       R  1871-05-05  1883-07-13  allid101  allisdo01   \n",
       "4       120  ...     R       R  1871-05-06  1897-10-03  ansoc101  ansonca01   \n",
       "...     ...  ...   ...     ...         ...         ...       ...        ...   \n",
       "107424    2  ...     R       R  2009-04-20  2019-09-26  zimmj003  zimmejo02   \n",
       "107425    0  ...     R       R  2019-03-31  2019-09-27  zimmk001  zimmeky01   \n",
       "107426  171  ...     R       R  2005-09-01  2019-09-29  zimmr001  zimmery01   \n",
       "107427  150  ...     B       R  2006-08-01  2019-09-29  zobrb001  zobribe01   \n",
       "107428  266  ...     R       R  2013-06-12  2019-09-29  zunim001  zuninmi01   \n",
       "\n",
       "        birth_date  debut_date  finalgame_date  death_date  \n",
       "0       1850-01-02  1871-10-21      1871-10-21  1939-11-11  \n",
       "1             None  1871-05-06      1877-10-06  1910-04-09  \n",
       "2       1849-01-29  1871-05-04      1876-10-05  1916-02-25  \n",
       "3       1846-07-12  1871-05-05      1883-07-13  1916-12-19  \n",
       "4       1852-04-17  1871-05-06      1897-10-03  1922-04-14  \n",
       "...            ...         ...             ...         ...  \n",
       "107424  1986-05-23  2009-04-20      2019-09-26        None  \n",
       "107425  1991-09-13  2019-03-31      2019-09-27        None  \n",
       "107426  1984-09-28  2005-09-01      2019-09-29        None  \n",
       "107427  1981-05-26  2006-08-01      2019-09-29        None  \n",
       "107428  1991-03-25  2013-06-12      2019-09-29        None  \n",
       "\n",
       "[107429 rows x 53 columns]"
      ]
     },
     "execution_count": 138,
     "metadata": {},
     "output_type": "execute_result"
    }
   ],
   "source": [
    "Batting_w_People = pd.read_sql_query(\"SELECT * FROM Batting JOIN People ON People.playerID=Batting.playerID\", connection)\n",
    "Batting_w_People"
   ]
  },
  {
   "cell_type": "markdown",
   "metadata": {},
   "source": [
    "If we look at the column names, we can then see that we have one data set with both the information from `Batting` and the information from `People`. "
   ]
  },
  {
   "cell_type": "code",
   "execution_count": 139,
   "metadata": {},
   "outputs": [
    {
     "data": {
      "text/plain": [
       "Index(['ID', 'playerID', 'yearID', 'stint', 'teamID', 'team_ID', 'lgID', 'G',\n",
       "       'G_batting', 'AB', 'R', 'H', '2B', '3B', 'HR', 'RBI', 'SB', 'CS', 'BB',\n",
       "       'SO', 'IBB', 'HBP', 'SH', 'SF', 'GIDP', 'playerID', 'birthYear',\n",
       "       'birthMonth', 'birthDay', 'birthCountry', 'birthState', 'birthCity',\n",
       "       'deathYear', 'deathMonth', 'deathDay', 'deathCountry', 'deathState',\n",
       "       'deathCity', 'nameFirst', 'nameLast', 'nameGiven', 'weight', 'height',\n",
       "       'bats', 'throws', 'debut', 'finalGame', 'retroID', 'bbrefID',\n",
       "       'birth_date', 'debut_date', 'finalgame_date', 'death_date'],\n",
       "      dtype='object')"
      ]
     },
     "execution_count": 139,
     "metadata": {},
     "output_type": "execute_result"
    }
   ],
   "source": [
    "Batting_w_People.columns"
   ]
  },
  {
   "cell_type": "markdown",
   "metadata": {},
   "source": [
    "Now we can now put this new data set into R and filter for Hank Aaron by name to create a new data set and create a scatterplot of his  homeruns per season. "
   ]
  },
  {
   "cell_type": "code",
   "execution_count": 140,
   "metadata": {},
   "outputs": [
    {
     "data": {
      "image/png": "[encoded data removed]"
     },
     "metadata": {},
     "output_type": "display_data"
    }
   ],
   "source": [
    "%%R -i Batting_w_People\n",
    "\n",
    "filter(Batting_w_People,nameFirst==\"Hank\",nameLast==\"Aaron\")%>% \n",
    "    ggplot(aes(x=yearID,y=HR))+geom_point()"
   ]
  },
  {
   "cell_type": "markdown",
   "metadata": {},
   "source": [
    "Since I am no longer going to use this database in these notes, I need to close the connection"
   ]
  },
  {
   "cell_type": "code",
   "execution_count": 141,
   "metadata": {},
   "outputs": [],
   "source": [
    "connection.close()"
   ]
  },
  {
   "cell_type": "markdown",
   "metadata": {},
   "source": [
    "I should say that it is also possible to join data frames separately from SQL in both Python and R. For Python the ability to join comes along with the `pandas` packages and for R it comes with the `mutate` and `dplyr` packages. "
   ]
  },
  {
   "cell_type": "markdown",
   "metadata": {},
   "source": [
    "### Web Scraping\n",
    "\n",
    "This is by far one of the more powerful aspects of Python with respect to data science. The ability to scrap information from websites. There will be a few packages that we will be using. \n",
    "\n",
    "- `requests` : we have already used requests when we were talking about APIs\n",
    "- `bs4` : This packages is Beautiful Soup. It is designed to for pulling data out of HTML and XML files. \n",
    "\n",
    "So the basic idea here will be to request data from a webpage via `requests` and then parse through the response using Beautiful Soup. \n",
    "\n",
    "Let's do a simple example. "
   ]
  },
  {
   "cell_type": "markdown",
   "metadata": {},
   "source": [
    "#### Pulling a Table\n",
    "\n",
    "In previous labs and on some worksheets we have worked with data about movies. I pulled this data from the website https://www.the-numbers.com However if we look  at this website we see that the data is displayed as a table and I don't see anywhere to download a csv.\n",
    "\n",
    "<img src=\"LAB5img3.png\">\n",
    "\n",
    "So let's scrap the table"
   ]
  },
  {
   "cell_type": "markdown",
   "metadata": {},
   "source": [
    "The first thing I need to do is make sure that I have loaded \n",
    "\n",
    "- requests\n",
    "- pandas \n",
    "\n",
    "which I have done above. Now I import `BeautifulSoup`."
   ]
  },
  {
   "cell_type": "code",
   "execution_count": 90,
   "metadata": {},
   "outputs": [],
   "source": [
    "from bs4 import BeautifulSoup as bs"
   ]
  },
  {
   "cell_type": "markdown",
   "metadata": {},
   "source": [
    "Now we request data and then pull the table"
   ]
  },
  {
   "cell_type": "code",
   "execution_count": 410,
   "metadata": {},
   "outputs": [],
   "source": [
    "url=\"https://www.the-numbers.com/box-office-records/domestic/all-movies/cumulative/all-time\"\n",
    "response=req.get(url)\n",
    "response_bs=bs(response.content, \"html.parser\")\n",
    "movies_html = response_bs.find_all(\"table\")"
   ]
  },
  {
   "cell_type": "markdown",
   "metadata": {},
   "source": [
    "Our `movies_html` variable is a beautiful soup object that has the table data in html format. Now we just need to transform this table from html format to pandas data frame format. Luckily `pandas` allows us to do this quite easily."
   ]
  },
  {
   "cell_type": "code",
   "execution_count": 411,
   "metadata": {},
   "outputs": [],
   "source": [
    "movies_html = response_bs.find_all(\"table\")\n",
    "movies = pd.read_html(str(movies_html))[0]"
   ]
  },
  {
   "cell_type": "code",
   "execution_count": 412,
   "metadata": {},
   "outputs": [
    {
     "data": {
      "text/html": [
       "<div>\n",
       "<style scoped>\n",
       "    .dataframe tbody tr th:only-of-type {\n",
       "        vertical-align: middle;\n",
       "    }\n",
       "\n",
       "    .dataframe tbody tr th {\n",
       "        vertical-align: top;\n",
       "    }\n",
       "\n",
       "    .dataframe thead th {\n",
       "        text-align: right;\n",
       "    }\n",
       "</style>\n",
       "<table border=\"1\" class=\"dataframe\">\n",
       "  <thead>\n",
       "    <tr style=\"text-align: right;\">\n",
       "      <th></th>\n",
       "      <th>Rank</th>\n",
       "      <th>Year</th>\n",
       "      <th>Movie</th>\n",
       "      <th>Distributor</th>\n",
       "      <th>DomesticBox Office</th>\n",
       "      <th>InternationalBox Office</th>\n",
       "      <th>WorldwideBox Office</th>\n",
       "    </tr>\n",
       "  </thead>\n",
       "  <tbody>\n",
       "    <tr>\n",
       "      <th>0</th>\n",
       "      <td>1</td>\n",
       "      <td>2015</td>\n",
       "      <td>Star Wars Ep. VII: The Force Awakens</td>\n",
       "      <td>Walt Disney</td>\n",
       "      <td>$936,662,225</td>\n",
       "      <td>$1,128,815,859</td>\n",
       "      <td>$2,065,478,084</td>\n",
       "    </tr>\n",
       "    <tr>\n",
       "      <th>1</th>\n",
       "      <td>2</td>\n",
       "      <td>2019</td>\n",
       "      <td>Avengers: Endgame</td>\n",
       "      <td>Walt Disney</td>\n",
       "      <td>$858,373,000</td>\n",
       "      <td>$1,939,427,564</td>\n",
       "      <td>$2,797,800,564</td>\n",
       "    </tr>\n",
       "    <tr>\n",
       "      <th>2</th>\n",
       "      <td>3</td>\n",
       "      <td>2009</td>\n",
       "      <td>Avatar</td>\n",
       "      <td>20th Cent…</td>\n",
       "      <td>$760,507,625</td>\n",
       "      <td>$2,028,193,712</td>\n",
       "      <td>$2,788,701,337</td>\n",
       "    </tr>\n",
       "    <tr>\n",
       "      <th>3</th>\n",
       "      <td>4</td>\n",
       "      <td>2018</td>\n",
       "      <td>Black Panther</td>\n",
       "      <td>Walt Disney</td>\n",
       "      <td>$700,059,566</td>\n",
       "      <td>$636,434,755</td>\n",
       "      <td>$1,336,494,321</td>\n",
       "    </tr>\n",
       "    <tr>\n",
       "      <th>4</th>\n",
       "      <td>5</td>\n",
       "      <td>2018</td>\n",
       "      <td>Avengers: Infinity War</td>\n",
       "      <td>Walt Disney</td>\n",
       "      <td>$678,815,482</td>\n",
       "      <td>$1,365,725,041</td>\n",
       "      <td>$2,044,540,523</td>\n",
       "    </tr>\n",
       "    <tr>\n",
       "      <th>...</th>\n",
       "      <td>...</td>\n",
       "      <td>...</td>\n",
       "      <td>...</td>\n",
       "      <td>...</td>\n",
       "      <td>...</td>\n",
       "      <td>...</td>\n",
       "      <td>...</td>\n",
       "    </tr>\n",
       "    <tr>\n",
       "      <th>95</th>\n",
       "      <td>96</td>\n",
       "      <td>2007</td>\n",
       "      <td>Harry Potter and the Order of the Phoenix</td>\n",
       "      <td>Warner Bros.</td>\n",
       "      <td>$292,137,260</td>\n",
       "      <td>$648,606,680</td>\n",
       "      <td>$940,743,940</td>\n",
       "    </tr>\n",
       "    <tr>\n",
       "      <th>96</th>\n",
       "      <td>97</td>\n",
       "      <td>1980</td>\n",
       "      <td>Star Wars Ep. V: The Empire Strikes Back</td>\n",
       "      <td>20th Cent…</td>\n",
       "      <td>$291,738,960</td>\n",
       "      <td>$257,262,282</td>\n",
       "      <td>$549,001,242</td>\n",
       "    </tr>\n",
       "    <tr>\n",
       "      <th>97</th>\n",
       "      <td>98</td>\n",
       "      <td>2005</td>\n",
       "      <td>The Chronicles of Narnia: The Lion, the Witch a…</td>\n",
       "      <td>Walt Disney</td>\n",
       "      <td>$291,710,957</td>\n",
       "      <td>$428,828,615</td>\n",
       "      <td>$720,539,572</td>\n",
       "    </tr>\n",
       "    <tr>\n",
       "      <th>98</th>\n",
       "      <td>99</td>\n",
       "      <td>2013</td>\n",
       "      <td>Man of Steel</td>\n",
       "      <td>Warner Bros.</td>\n",
       "      <td>$291,045,518</td>\n",
       "      <td>$376,954,000</td>\n",
       "      <td>$667,999,518</td>\n",
       "    </tr>\n",
       "    <tr>\n",
       "      <th>99</th>\n",
       "      <td>100</td>\n",
       "      <td>2005</td>\n",
       "      <td>Harry Potter and the Goblet of Fire</td>\n",
       "      <td>Warner Bros.</td>\n",
       "      <td>$290,201,752</td>\n",
       "      <td>$601,592,320</td>\n",
       "      <td>$891,794,072</td>\n",
       "    </tr>\n",
       "  </tbody>\n",
       "</table>\n",
       "<p>100 rows × 7 columns</p>\n",
       "</div>"
      ],
      "text/plain": [
       "    Rank  Year                                             Movie  \\\n",
       "0      1  2015              Star Wars Ep. VII: The Force Awakens   \n",
       "1      2  2019                                 Avengers: Endgame   \n",
       "2      3  2009                                            Avatar   \n",
       "3      4  2018                                     Black Panther   \n",
       "4      5  2018                            Avengers: Infinity War   \n",
       "..   ...   ...                                               ...   \n",
       "95    96  2007         Harry Potter and the Order of the Phoenix   \n",
       "96    97  1980          Star Wars Ep. V: The Empire Strikes Back   \n",
       "97    98  2005  The Chronicles of Narnia: The Lion, the Witch a…   \n",
       "98    99  2013                                      Man of Steel   \n",
       "99   100  2005               Harry Potter and the Goblet of Fire   \n",
       "\n",
       "     Distributor DomesticBox Office InternationalBox Office  \\\n",
       "0    Walt Disney       $936,662,225          $1,128,815,859   \n",
       "1    Walt Disney       $858,373,000          $1,939,427,564   \n",
       "2     20th Cent…       $760,507,625          $2,028,193,712   \n",
       "3    Walt Disney       $700,059,566            $636,434,755   \n",
       "4    Walt Disney       $678,815,482          $1,365,725,041   \n",
       "..           ...                ...                     ...   \n",
       "95  Warner Bros.       $292,137,260            $648,606,680   \n",
       "96    20th Cent…       $291,738,960            $257,262,282   \n",
       "97   Walt Disney       $291,710,957            $428,828,615   \n",
       "98  Warner Bros.       $291,045,518            $376,954,000   \n",
       "99  Warner Bros.       $290,201,752            $601,592,320   \n",
       "\n",
       "   WorldwideBox Office  \n",
       "0       $2,065,478,084  \n",
       "1       $2,797,800,564  \n",
       "2       $2,788,701,337  \n",
       "3       $1,336,494,321  \n",
       "4       $2,044,540,523  \n",
       "..                 ...  \n",
       "95        $940,743,940  \n",
       "96        $549,001,242  \n",
       "97        $720,539,572  \n",
       "98        $667,999,518  \n",
       "99        $891,794,072  \n",
       "\n",
       "[100 rows x 7 columns]"
      ]
     },
     "execution_count": 412,
     "metadata": {},
     "output_type": "execute_result"
    }
   ],
   "source": [
    "movies"
   ]
  },
  {
   "cell_type": "markdown",
   "metadata": {},
   "source": [
    "Here we only have the top 100 movies by domestic gross, but what if we wanted the top 1000 movies. To do this on the web we would have to click through a couple of websites. But using Python we can scrap through the rest pages and append this data to our movies data frame."
   ]
  },
  {
   "cell_type": "code",
   "execution_count": 146,
   "metadata": {},
   "outputs": [],
   "source": [
    "url=\"https://www.the-numbers.com/box-office-records/domestic/all-movies/cumulative/all-time\"\n",
    "endpoints=[\"101\",\"201\",\"301\",\"401\",\"501\",\"601\",\"701\",\"801\",\"901\"]\n",
    "\n",
    "for endpoint in endpoints:\n",
    "    response=req.get(url + \"/\" + endpoint)\n",
    "    response_bs=bs(response.content, \"html.parser\")\n",
    "    movies_html = response_bs.find_all(\"table\")\n",
    "    movies_df=pd.read_html(str(movies_html))[0]\n",
    "    movies=movies.append(movies_df, ignore_index=True)"
   ]
  },
  {
   "cell_type": "code",
   "execution_count": 147,
   "metadata": {},
   "outputs": [
    {
     "data": {
      "text/html": [
       "<div>\n",
       "<style scoped>\n",
       "    .dataframe tbody tr th:only-of-type {\n",
       "        vertical-align: middle;\n",
       "    }\n",
       "\n",
       "    .dataframe tbody tr th {\n",
       "        vertical-align: top;\n",
       "    }\n",
       "\n",
       "    .dataframe thead th {\n",
       "        text-align: right;\n",
       "    }\n",
       "</style>\n",
       "<table border=\"1\" class=\"dataframe\">\n",
       "  <thead>\n",
       "    <tr style=\"text-align: right;\">\n",
       "      <th></th>\n",
       "      <th>Rank</th>\n",
       "      <th>Year</th>\n",
       "      <th>Movie</th>\n",
       "      <th>Distributor</th>\n",
       "      <th>DomesticBox Office</th>\n",
       "      <th>InternationalBox Office</th>\n",
       "      <th>WorldwideBox Office</th>\n",
       "    </tr>\n",
       "  </thead>\n",
       "  <tbody>\n",
       "    <tr>\n",
       "      <th>0</th>\n",
       "      <td>1</td>\n",
       "      <td>2015</td>\n",
       "      <td>Star Wars Ep. VII: The Force Awakens</td>\n",
       "      <td>Walt Disney</td>\n",
       "      <td>$936,662,225</td>\n",
       "      <td>$1,128,815,859</td>\n",
       "      <td>$2,065,478,084</td>\n",
       "    </tr>\n",
       "    <tr>\n",
       "      <th>1</th>\n",
       "      <td>2</td>\n",
       "      <td>2019</td>\n",
       "      <td>Avengers: Endgame</td>\n",
       "      <td>Walt Disney</td>\n",
       "      <td>$858,373,000</td>\n",
       "      <td>$1,939,427,564</td>\n",
       "      <td>$2,797,800,564</td>\n",
       "    </tr>\n",
       "    <tr>\n",
       "      <th>2</th>\n",
       "      <td>3</td>\n",
       "      <td>2009</td>\n",
       "      <td>Avatar</td>\n",
       "      <td>20th Cent…</td>\n",
       "      <td>$760,507,625</td>\n",
       "      <td>$2,028,193,712</td>\n",
       "      <td>$2,788,701,337</td>\n",
       "    </tr>\n",
       "    <tr>\n",
       "      <th>3</th>\n",
       "      <td>4</td>\n",
       "      <td>2018</td>\n",
       "      <td>Black Panther</td>\n",
       "      <td>Walt Disney</td>\n",
       "      <td>$700,059,566</td>\n",
       "      <td>$636,434,755</td>\n",
       "      <td>$1,336,494,321</td>\n",
       "    </tr>\n",
       "    <tr>\n",
       "      <th>4</th>\n",
       "      <td>5</td>\n",
       "      <td>2018</td>\n",
       "      <td>Avengers: Infinity War</td>\n",
       "      <td>Walt Disney</td>\n",
       "      <td>$678,815,482</td>\n",
       "      <td>$1,365,725,041</td>\n",
       "      <td>$2,044,540,523</td>\n",
       "    </tr>\n",
       "    <tr>\n",
       "      <th>...</th>\n",
       "      <td>...</td>\n",
       "      <td>...</td>\n",
       "      <td>...</td>\n",
       "      <td>...</td>\n",
       "      <td>...</td>\n",
       "      <td>...</td>\n",
       "      <td>...</td>\n",
       "    </tr>\n",
       "    <tr>\n",
       "      <th>995</th>\n",
       "      <td>996</td>\n",
       "      <td>2017</td>\n",
       "      <td>The Mummy</td>\n",
       "      <td>Universal</td>\n",
       "      <td>$80,101,125</td>\n",
       "      <td>$329,852,780</td>\n",
       "      <td>$409,953,905</td>\n",
       "    </tr>\n",
       "    <tr>\n",
       "      <th>996</th>\n",
       "      <td>997</td>\n",
       "      <td>2012</td>\n",
       "      <td>Jack Reacher</td>\n",
       "      <td>Paramount…</td>\n",
       "      <td>$80,070,736</td>\n",
       "      <td>$137,300,000</td>\n",
       "      <td>$217,370,736</td>\n",
       "    </tr>\n",
       "    <tr>\n",
       "      <th>997</th>\n",
       "      <td>998</td>\n",
       "      <td>2015</td>\n",
       "      <td>Goosebumps</td>\n",
       "      <td>Sony Pict…</td>\n",
       "      <td>$80,069,458</td>\n",
       "      <td>$78,823,842</td>\n",
       "      <td>$158,893,300</td>\n",
       "    </tr>\n",
       "    <tr>\n",
       "      <th>998</th>\n",
       "      <td>999</td>\n",
       "      <td>2008</td>\n",
       "      <td>Cloverfield</td>\n",
       "      <td>Paramount…</td>\n",
       "      <td>$80,048,433</td>\n",
       "      <td>$91,253,793</td>\n",
       "      <td>$171,302,226</td>\n",
       "    </tr>\n",
       "    <tr>\n",
       "      <th>999</th>\n",
       "      <td>1000</td>\n",
       "      <td>1990</td>\n",
       "      <td>Another 48 Hrs.</td>\n",
       "      <td>Paramount…</td>\n",
       "      <td>$80,047,413</td>\n",
       "      <td>$72,700,000</td>\n",
       "      <td>$152,747,413</td>\n",
       "    </tr>\n",
       "  </tbody>\n",
       "</table>\n",
       "<p>1000 rows × 7 columns</p>\n",
       "</div>"
      ],
      "text/plain": [
       "     Rank  Year                                 Movie  Distributor  \\\n",
       "0       1  2015  Star Wars Ep. VII: The Force Awakens  Walt Disney   \n",
       "1       2  2019                     Avengers: Endgame  Walt Disney   \n",
       "2       3  2009                                Avatar   20th Cent…   \n",
       "3       4  2018                         Black Panther  Walt Disney   \n",
       "4       5  2018                Avengers: Infinity War  Walt Disney   \n",
       "..    ...   ...                                   ...          ...   \n",
       "995   996  2017                             The Mummy    Universal   \n",
       "996   997  2012                          Jack Reacher   Paramount…   \n",
       "997   998  2015                            Goosebumps   Sony Pict…   \n",
       "998   999  2008                           Cloverfield   Paramount…   \n",
       "999  1000  1990                       Another 48 Hrs.   Paramount…   \n",
       "\n",
       "    DomesticBox Office InternationalBox Office WorldwideBox Office  \n",
       "0         $936,662,225          $1,128,815,859      $2,065,478,084  \n",
       "1         $858,373,000          $1,939,427,564      $2,797,800,564  \n",
       "2         $760,507,625          $2,028,193,712      $2,788,701,337  \n",
       "3         $700,059,566            $636,434,755      $1,336,494,321  \n",
       "4         $678,815,482          $1,365,725,041      $2,044,540,523  \n",
       "..                 ...                     ...                 ...  \n",
       "995        $80,101,125            $329,852,780        $409,953,905  \n",
       "996        $80,070,736            $137,300,000        $217,370,736  \n",
       "997        $80,069,458             $78,823,842        $158,893,300  \n",
       "998        $80,048,433             $91,253,793        $171,302,226  \n",
       "999        $80,047,413             $72,700,000        $152,747,413  \n",
       "\n",
       "[1000 rows x 7 columns]"
      ]
     },
     "execution_count": 147,
     "metadata": {},
     "output_type": "execute_result"
    }
   ],
   "source": [
    "movies"
   ]
  },
  {
   "cell_type": "markdown",
   "metadata": {},
   "source": [
    "Now that we have a way to get all this data, let's try it on something a bit more interesting. The page https://www.the-numbers.com/movie/budgets/all contains information about the production budget as well as the gross of movies. Let's create a scatterplot of the gross vs the production budget for the top 1000 most costly movies. "
   ]
  },
  {
   "cell_type": "code",
   "execution_count": 93,
   "metadata": {},
   "outputs": [],
   "source": [
    "url=\"https://www.the-numbers.com/movie/budgets/all\"\n",
    "endpoints=[\"101\",\"201\",\"301\",\"401\",\"501\",\"601\",\"701\",\"801\",\"901\"]\n",
    "\n",
    "response=req.get(url)\n",
    "response_bs=bs(response.content, \"html.parser\")\n",
    "budgets_html = response_bs.find_all(\"table\")\n",
    "budgets=pd.read_html(str(budgets_html))[0]\n",
    "\n",
    "for endpoint in endpoints:\n",
    "    response=req.get(url + \"/\" + endpoint)\n",
    "    response_bs=bs(response.content, \"html.parser\")\n",
    "    budgets_html = response_bs.find_all(\"table\")\n",
    "    budgets_df=pd.read_html(str(budgets_html))[0]\n",
    "    budgets=budgets.append(budgets_df, ignore_index=True)"
   ]
  },
  {
   "cell_type": "code",
   "execution_count": 277,
   "metadata": {},
   "outputs": [
    {
     "data": {
      "text/html": [
       "<div>\n",
       "<style scoped>\n",
       "    .dataframe tbody tr th:only-of-type {\n",
       "        vertical-align: middle;\n",
       "    }\n",
       "\n",
       "    .dataframe tbody tr th {\n",
       "        vertical-align: top;\n",
       "    }\n",
       "\n",
       "    .dataframe thead th {\n",
       "        text-align: right;\n",
       "    }\n",
       "</style>\n",
       "<table border=\"1\" class=\"dataframe\">\n",
       "  <thead>\n",
       "    <tr style=\"text-align: right;\">\n",
       "      <th></th>\n",
       "      <th>Unnamed: 0</th>\n",
       "      <th>ReleaseDate</th>\n",
       "      <th>Movie</th>\n",
       "      <th>ProductionBudget</th>\n",
       "      <th>DomesticGross</th>\n",
       "      <th>WorldwideGross</th>\n",
       "    </tr>\n",
       "  </thead>\n",
       "  <tbody>\n",
       "    <tr>\n",
       "      <th>0</th>\n",
       "      <td>1</td>\n",
       "      <td>Apr 23, 2019</td>\n",
       "      <td>Avengers: Endgame</td>\n",
       "      <td>$400,000,000</td>\n",
       "      <td>$858,373,000</td>\n",
       "      <td>$2,797,800,564</td>\n",
       "    </tr>\n",
       "    <tr>\n",
       "      <th>1</th>\n",
       "      <td>2</td>\n",
       "      <td>May 20, 2011</td>\n",
       "      <td>Pirates of the Caribbean: On Stranger Tides</td>\n",
       "      <td>$379,000,000</td>\n",
       "      <td>$241,063,875</td>\n",
       "      <td>$1,045,663,875</td>\n",
       "    </tr>\n",
       "    <tr>\n",
       "      <th>2</th>\n",
       "      <td>3</td>\n",
       "      <td>Apr 22, 2015</td>\n",
       "      <td>Avengers: Age of Ultron</td>\n",
       "      <td>$365,000,000</td>\n",
       "      <td>$459,005,868</td>\n",
       "      <td>$1,396,099,202</td>\n",
       "    </tr>\n",
       "    <tr>\n",
       "      <th>3</th>\n",
       "      <td>4</td>\n",
       "      <td>Dec 16, 2015</td>\n",
       "      <td>Star Wars Ep. VII: The Force Awakens</td>\n",
       "      <td>$306,000,000</td>\n",
       "      <td>$936,662,225</td>\n",
       "      <td>$2,065,478,084</td>\n",
       "    </tr>\n",
       "    <tr>\n",
       "      <th>4</th>\n",
       "      <td>5</td>\n",
       "      <td>Apr 25, 2018</td>\n",
       "      <td>Avengers: Infinity War</td>\n",
       "      <td>$300,000,000</td>\n",
       "      <td>$678,815,482</td>\n",
       "      <td>$2,044,540,523</td>\n",
       "    </tr>\n",
       "    <tr>\n",
       "      <th>...</th>\n",
       "      <td>...</td>\n",
       "      <td>...</td>\n",
       "      <td>...</td>\n",
       "      <td>...</td>\n",
       "      <td>...</td>\n",
       "      <td>...</td>\n",
       "    </tr>\n",
       "    <tr>\n",
       "      <th>995</th>\n",
       "      <td>996</td>\n",
       "      <td>Dec 11, 2015</td>\n",
       "      <td>The Ridiculous 6</td>\n",
       "      <td>$60,000,000</td>\n",
       "      <td>$0</td>\n",
       "      <td>$0</td>\n",
       "    </tr>\n",
       "    <tr>\n",
       "      <th>996</th>\n",
       "      <td>997</td>\n",
       "      <td>Mar 15, 2018</td>\n",
       "      <td>Sherlock Gnomes</td>\n",
       "      <td>$59,000,000</td>\n",
       "      <td>$43,242,871</td>\n",
       "      <td>$87,527,651</td>\n",
       "    </tr>\n",
       "    <tr>\n",
       "      <th>997</th>\n",
       "      <td>998</td>\n",
       "      <td>Jan 18, 2019</td>\n",
       "      <td>The Kid Who Would Be King</td>\n",
       "      <td>$59,000,000</td>\n",
       "      <td>$16,790,790</td>\n",
       "      <td>$28,296,983</td>\n",
       "    </tr>\n",
       "    <tr>\n",
       "      <th>998</th>\n",
       "      <td>999</td>\n",
       "      <td>Feb 9, 2016</td>\n",
       "      <td>Deadpool</td>\n",
       "      <td>$58,000,000</td>\n",
       "      <td>$363,070,709</td>\n",
       "      <td>$784,682,527</td>\n",
       "    </tr>\n",
       "    <tr>\n",
       "      <th>999</th>\n",
       "      <td>1000</td>\n",
       "      <td>Dec 25, 2014</td>\n",
       "      <td>American Sniper</td>\n",
       "      <td>$58,000,000</td>\n",
       "      <td>$350,126,372</td>\n",
       "      <td>$547,326,372</td>\n",
       "    </tr>\n",
       "  </tbody>\n",
       "</table>\n",
       "<p>1000 rows × 6 columns</p>\n",
       "</div>"
      ],
      "text/plain": [
       "     Unnamed: 0   ReleaseDate                                        Movie  \\\n",
       "0             1  Apr 23, 2019                            Avengers: Endgame   \n",
       "1             2  May 20, 2011  Pirates of the Caribbean: On Stranger Tides   \n",
       "2             3  Apr 22, 2015                      Avengers: Age of Ultron   \n",
       "3             4  Dec 16, 2015         Star Wars Ep. VII: The Force Awakens   \n",
       "4             5  Apr 25, 2018                       Avengers: Infinity War   \n",
       "..          ...           ...                                          ...   \n",
       "995         996  Dec 11, 2015                             The Ridiculous 6   \n",
       "996         997  Mar 15, 2018                              Sherlock Gnomes   \n",
       "997         998  Jan 18, 2019                    The Kid Who Would Be King   \n",
       "998         999   Feb 9, 2016                                     Deadpool   \n",
       "999        1000  Dec 25, 2014                              American Sniper   \n",
       "\n",
       "    ProductionBudget DomesticGross  WorldwideGross  \n",
       "0       $400,000,000  $858,373,000  $2,797,800,564  \n",
       "1       $379,000,000  $241,063,875  $1,045,663,875  \n",
       "2       $365,000,000  $459,005,868  $1,396,099,202  \n",
       "3       $306,000,000  $936,662,225  $2,065,478,084  \n",
       "4       $300,000,000  $678,815,482  $2,044,540,523  \n",
       "..               ...           ...             ...  \n",
       "995      $60,000,000            $0              $0  \n",
       "996      $59,000,000   $43,242,871     $87,527,651  \n",
       "997      $59,000,000   $16,790,790     $28,296,983  \n",
       "998      $58,000,000  $363,070,709    $784,682,527  \n",
       "999      $58,000,000  $350,126,372    $547,326,372  \n",
       "\n",
       "[1000 rows x 6 columns]"
      ]
     },
     "execution_count": 277,
     "metadata": {},
     "output_type": "execute_result"
    }
   ],
   "source": [
    "budgets"
   ]
  },
  {
   "cell_type": "markdown",
   "metadata": {},
   "source": [
    "If we are going to do any analysis on this table we will need to change the columns into numeric variables. This means getting rid of the `$` and the `,`. I do this by selecting the end of the string and using the `replace` function. Then I change the `string` into a `float`\n",
    "\n",
    "The `Unnamed:0` isn't doing anything so I am going to get rid of it and for future analysis I am going to add a year column. To do this we can pull the last 4 characters from the `ReleaseDate` column entries. \n",
    "\n",
    "I am doing this to avoid working with dates. And although we haven't covered it, dates and times can be very important in statistics. The most useful packagea for dealing with dates and times `lubridate` for R  and `datetime` in Python in case you want to work with dates in the future."
   ]
  },
  {
   "cell_type": "code",
   "execution_count": 94,
   "metadata": {},
   "outputs": [],
   "source": [
    "ProductionBudget=[]\n",
    "DomesticGross=[]\n",
    "WorldwideGross=[]\n",
    "for i in range(0,1000):\n",
    "    ProductionBudget.append(float(budgets[\"ProductionBudget\"][i][1:].replace(\",\",\"\")))\n",
    "    DomesticGross.append(float(budgets[\"DomesticGross\"][i][1:].replace(\",\",\"\")))\n",
    "    WorldwideGross.append(float(budgets[\"WorldwideGross\"][i][1:].replace(\",\",\"\")))\n",
    "\n",
    "budgets[\"ProductionBudget\"]=ProductionBudget\n",
    "budgets[\"DomesticGross\"]=DomesticGross\n",
    "budgets[\"WorldwideGross\"]=WorldwideGross\n",
    "\n",
    "budgets=budgets[[\"ReleaseDate\",\"Movie\",\"ProductionBudget\",\"DomesticGross\",\"WorldwideGross\"]]\n",
    "\n",
    "years=[]\n",
    "for date in budgets[\"ReleaseDate\"]:\n",
    "    years.append(date[-4:])\n",
    "\n",
    "budgets[\"Year\"]=years"
   ]
  },
  {
   "cell_type": "code",
   "execution_count": 283,
   "metadata": {},
   "outputs": [
    {
     "data": {
      "image/png": "[encoded data removed]"
     },
     "metadata": {},
     "output_type": "display_data"
    }
   ],
   "source": [
    "%%R -i budgets\n",
    "ggplot(budgets,aes(x=ProductionBudget,y=DomesticGross))+\n",
    "    geom_point()+\n",
    "    geom_abline(slope=1,intercept=1,color=\"red\")+\n",
    "    scale_y_continuous(name=\"Domestic Gross\", breaks=seq(0,1000000000,100000000))+\n",
    "    scale_x_continuous(name=\"Production Budget\", \n",
    "                       breaks=seq(0,500000000,50000000),\n",
    "                       limits=c(0,450000000))\n"
   ]
  },
  {
   "cell_type": "markdown",
   "metadata": {},
   "source": [
    "In the graph above, any dot above the line is a movie that grossed over its budget and any movie below the line did not. Let's see how successful 2020 has been for the movies industry compared to 2019. This is why I added the `year` column. \n"
   ]
  },
  {
   "cell_type": "code",
   "execution_count": 306,
   "metadata": {},
   "outputs": [
    {
     "data": {
      "image/png": "[encoded data removed]"
     },
     "metadata": {},
     "output_type": "display_data"
    }
   ],
   "source": [
    "%%R -i budgets\n",
    "filter(budgets, Year==\"2019\" | Year==\"2020\")%>%\n",
    "    ggplot(aes(x=ProductionBudget,y=DomesticGross))+\n",
    "    geom_point(aes(color=Year, shape=Year))+\n",
    "    geom_abline(slope=1,intercept=1,color=\"red\")+\n",
    "    scale_y_continuous(name=\"Domestic Gross\", breaks=seq(0,1000000000,100000000))+\n",
    "    scale_x_continuous(name=\"Production Budget\", \n",
    "                       breaks=seq(0,500000000,50000000),\n",
    "                       limits=c(0,450000000))"
   ]
  },
  {
   "cell_type": "markdown",
   "metadata": {},
   "source": [
    "It looks like only 3 movies in our list from 2020 made their production budget whereas about 17 movies made over their production budget in 2019. In terms of percentage of movies whose gross domestive is greater than their production budget we have"
   ]
  },
  {
   "cell_type": "code",
   "execution_count": 309,
   "metadata": {},
   "outputs": [],
   "source": [
    "%%R\n",
    "\n",
    "budgets_2019 <- filter(budgets,Year==\"2019\")\n",
    "gross_over_prod_2019 <- filter(budgets_2019,\n",
    "                               DomesticGross>ProductionBudget)\n",
    "budgets_2020 <- filter(budgets,Year==\"2020\")\n",
    "gross_over_prod_2020 <- filter(budgets_2020,\n",
    "                               DomesticGross>ProductionBudget)"
   ]
  },
  {
   "cell_type": "code",
   "execution_count": 310,
   "metadata": {},
   "outputs": [
    {
     "name": "stdout",
     "output_type": "stream",
     "text": [
      "[1] 0.25\n"
     ]
    }
   ],
   "source": [
    "%%R\n",
    "nrow(gross_over_prod_2020)/nrow(budgets_2020)"
   ]
  },
  {
   "cell_type": "code",
   "execution_count": 312,
   "metadata": {},
   "outputs": [
    {
     "name": "stdout",
     "output_type": "stream",
     "text": [
      "[1] 0.4047619\n"
     ]
    }
   ],
   "source": [
    "%%R\n",
    "nrow(gross_over_prod_2019)/nrow(budgets_2019)"
   ]
  },
  {
   "cell_type": "markdown",
   "metadata": {},
   "source": [
    "Thus 25% of the movies in our list from 2020 and 40.5% of movies in 2019 made their production budget."
   ]
  },
  {
   "cell_type": "markdown",
   "metadata": {},
   "source": [
    "#### Reddit Comments without the API\n",
    "\n",
    "OK. So by far the best way to analyze behavior on Reddit is through the API. However, there is another way that we can do some analysis. If you add `.json` to the end of any Reddit page and you will get the JSON version of the page.\n",
    "\n",
    "Using this fact with the `requests` library we can pull some data from a hardcoded page. At the time of me writing this lab, the top reddit post is https://www.reddit.com/r/AskReddit/comments/lhk6dg/what_fan_theory_do_you_100_accept_as_true/ \n",
    "\n",
    "Let's create a histogram of the length of some comments. Since we are not using the API we will only be able to access a few of the comments. Also, to keep things simple I will only be pulling the top most comments and not diving into any threads.\n",
    "\n",
    "In order to access the json of webpages, Reddit requires a user agent. This is your web browser. I am putting in the version of firefox I use."
   ]
  },
  {
   "cell_type": "code",
   "execution_count": 314,
   "metadata": {},
   "outputs": [],
   "source": [
    "url=\"https://www.reddit.com/r/AskReddit/comments/lhk6dg/what_fan_theory_do_you_100_accept_as_true.json\"\n",
    "headers = {\n",
    "    'User-Agent': 'Mozilla/5.0 (Macintosh; Intel Mac OS X 10.13; rv:85.0) Gecko/20100101 Firefox/85.0'\n",
    "}\n",
    "response=req.get(url, headers=headers)\n",
    "\n",
    "comment_lengths=[]\n",
    "\n",
    "for comment in response.json()[1]['data']['children']:\n",
    "    if 'body' in comment['data'].keys():\n",
    "        comment_lengths.append(len(comment['data']['body']))\n",
    "        \n",
    "comment_lengths_df = pd.DataFrame(comment_lengths,columns=[\"lengths\"])"
   ]
  },
  {
   "cell_type": "code",
   "execution_count": 315,
   "metadata": {},
   "outputs": [
    {
     "name": "stderr",
     "output_type": "stream",
     "text": [
      "R[write to console]: `stat_bin()` using `bins = 30`. Pick better value with `binwidth`.\n",
      "\n"
     ]
    },
    {
     "data": {
      "image/png": "[encoded data removed]"
     },
     "metadata": {},
     "output_type": "display_data"
    }
   ],
   "source": [
    "%%R -i comment_lengths_df\n",
    "\n",
    "ggplot(comment_lengths_df,aes(x=lengths))+geom_histogram(color=\"black\",fill=\"blue\")"
   ]
  },
  {
   "cell_type": "markdown",
   "metadata": {},
   "source": [
    "Earlier on in the class I made the claim that the length of comments on an internet post is accurately modeled by the log-normal distribution. We can test this statement by collecting the lengths of the comments and then plotting on a quantile plot with the log-normal distribution."
   ]
  },
  {
   "cell_type": "code",
   "execution_count": 316,
   "metadata": {},
   "outputs": [
    {
     "data": {
      "image/png": "[encoded data removed]"
     },
     "metadata": {},
     "output_type": "display_data"
    }
   ],
   "source": [
    "%%R -i comment_lengths_df\n",
    "\n",
    "ggplot(comment_lengths_df,aes(sample=lengths))+\n",
    "    stat_qq(distribution=qlnorm)+\n",
    "    stat_qq_line(distribution=qlnorm)"
   ]
  },
  {
   "cell_type": "markdown",
   "metadata": {},
   "source": [
    "Looking at the graph it appears that out data from the Reddit thread does in fact follow the log-normal distribution."
   ]
  }
 ],
 "metadata": {
  "kernelspec": {
   "display_name": "Python 3",
   "language": "python",
   "name": "python3"
  },
  "language_info": {
   "codemirror_mode": {
    "name": "ipython",
    "version": 3
   },
   "file_extension": ".py",
   "mimetype": "text/x-python",
   "name": "python",
   "nbconvert_exporter": "python",
   "pygments_lexer": "ipython3",
   "version": "3.8.3"
  }
 },
 "nbformat": 4,
 "nbformat_minor": 4
}
